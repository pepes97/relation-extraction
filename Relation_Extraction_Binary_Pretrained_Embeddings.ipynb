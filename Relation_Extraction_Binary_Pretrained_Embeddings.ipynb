{
  "cells": [
    {
      "cell_type": "markdown",
      "metadata": {
        "id": "view-in-github",
        "colab_type": "text"
      },
      "source": [
        "<a href=\"https://colab.research.google.com/github/pepes97/relation-extraction/blob/sveva-develop/Relation_Extraction_Binary_Pretrained_Embeddings.ipynb\" target=\"_parent\"><img src=\"https://colab.research.google.com/assets/colab-badge.svg\" alt=\"Open In Colab\"/></a>"
      ]
    },
    {
      "cell_type": "markdown",
      "metadata": {
        "id": "Hn7Pi0a5Z7Gx"
      },
      "source": [
        "# Install"
      ]
    },
    {
      "cell_type": "code",
      "execution_count": 1,
      "metadata": {
        "id": "w5obiSwtZ8Z1",
        "colab": {
          "base_uri": "https://localhost:8080/"
        },
        "outputId": "24d25a1d-1262-48db-ee11-b96c92edf7ee"
      },
      "outputs": [
        {
          "output_type": "stream",
          "name": "stdout",
          "text": [
            "Collecting transformers\n",
            "  Downloading transformers-4.30.2-py3-none-any.whl (7.2 MB)\n",
            "\u001b[2K     \u001b[90m━━━━━━━━━━━━━━━━━━━━━━━━━━━━━━━━━━━━━━━━\u001b[0m \u001b[32m7.2/7.2 MB\u001b[0m \u001b[31m52.8 MB/s\u001b[0m eta \u001b[36m0:00:00\u001b[0m\n",
            "\u001b[?25hRequirement already satisfied: filelock in /usr/local/lib/python3.10/dist-packages (from transformers) (3.12.2)\n",
            "Collecting huggingface-hub<1.0,>=0.14.1 (from transformers)\n",
            "  Downloading huggingface_hub-0.16.3-py3-none-any.whl (268 kB)\n",
            "\u001b[2K     \u001b[90m━━━━━━━━━━━━━━━━━━━━━━━━━━━━━━━━━━━━━━\u001b[0m \u001b[32m268.8/268.8 kB\u001b[0m \u001b[31m26.5 MB/s\u001b[0m eta \u001b[36m0:00:00\u001b[0m\n",
            "\u001b[?25hRequirement already satisfied: numpy>=1.17 in /usr/local/lib/python3.10/dist-packages (from transformers) (1.22.4)\n",
            "Requirement already satisfied: packaging>=20.0 in /usr/local/lib/python3.10/dist-packages (from transformers) (23.1)\n",
            "Requirement already satisfied: pyyaml>=5.1 in /usr/local/lib/python3.10/dist-packages (from transformers) (6.0)\n",
            "Requirement already satisfied: regex!=2019.12.17 in /usr/local/lib/python3.10/dist-packages (from transformers) (2022.10.31)\n",
            "Requirement already satisfied: requests in /usr/local/lib/python3.10/dist-packages (from transformers) (2.27.1)\n",
            "Collecting tokenizers!=0.11.3,<0.14,>=0.11.1 (from transformers)\n",
            "  Downloading tokenizers-0.13.3-cp310-cp310-manylinux_2_17_x86_64.manylinux2014_x86_64.whl (7.8 MB)\n",
            "\u001b[2K     \u001b[90m━━━━━━━━━━━━━━━━━━━━━━━━━━━━━━━━━━━━━━━━\u001b[0m \u001b[32m7.8/7.8 MB\u001b[0m \u001b[31m82.9 MB/s\u001b[0m eta \u001b[36m0:00:00\u001b[0m\n",
            "\u001b[?25hCollecting safetensors>=0.3.1 (from transformers)\n",
            "  Downloading safetensors-0.3.1-cp310-cp310-manylinux_2_17_x86_64.manylinux2014_x86_64.whl (1.3 MB)\n",
            "\u001b[2K     \u001b[90m━━━━━━━━━━━━━━━━━━━━━━━━━━━━━━━━━━━━━━━━\u001b[0m \u001b[32m1.3/1.3 MB\u001b[0m \u001b[31m66.6 MB/s\u001b[0m eta \u001b[36m0:00:00\u001b[0m\n",
            "\u001b[?25hRequirement already satisfied: tqdm>=4.27 in /usr/local/lib/python3.10/dist-packages (from transformers) (4.65.0)\n",
            "Requirement already satisfied: fsspec in /usr/local/lib/python3.10/dist-packages (from huggingface-hub<1.0,>=0.14.1->transformers) (2023.6.0)\n",
            "Requirement already satisfied: typing-extensions>=3.7.4.3 in /usr/local/lib/python3.10/dist-packages (from huggingface-hub<1.0,>=0.14.1->transformers) (4.6.3)\n",
            "Requirement already satisfied: urllib3<1.27,>=1.21.1 in /usr/local/lib/python3.10/dist-packages (from requests->transformers) (1.26.16)\n",
            "Requirement already satisfied: certifi>=2017.4.17 in /usr/local/lib/python3.10/dist-packages (from requests->transformers) (2023.5.7)\n",
            "Requirement already satisfied: charset-normalizer~=2.0.0 in /usr/local/lib/python3.10/dist-packages (from requests->transformers) (2.0.12)\n",
            "Requirement already satisfied: idna<4,>=2.5 in /usr/local/lib/python3.10/dist-packages (from requests->transformers) (3.4)\n",
            "Installing collected packages: tokenizers, safetensors, huggingface-hub, transformers\n",
            "Successfully installed huggingface-hub-0.16.3 safetensors-0.3.1 tokenizers-0.13.3 transformers-4.30.2\n",
            "Collecting datasets\n",
            "  Downloading datasets-2.13.1-py3-none-any.whl (486 kB)\n",
            "\u001b[2K     \u001b[90m━━━━━━━━━━━━━━━━━━━━━━━━━━━━━━━━━━━━━━\u001b[0m \u001b[32m486.2/486.2 kB\u001b[0m \u001b[31m17.5 MB/s\u001b[0m eta \u001b[36m0:00:00\u001b[0m\n",
            "\u001b[?25hRequirement already satisfied: numpy>=1.17 in /usr/local/lib/python3.10/dist-packages (from datasets) (1.22.4)\n",
            "Requirement already satisfied: pyarrow>=8.0.0 in /usr/local/lib/python3.10/dist-packages (from datasets) (9.0.0)\n",
            "Collecting dill<0.3.7,>=0.3.0 (from datasets)\n",
            "  Downloading dill-0.3.6-py3-none-any.whl (110 kB)\n",
            "\u001b[2K     \u001b[90m━━━━━━━━━━━━━━━━━━━━━━━━━━━━━━━━━━━━━━\u001b[0m \u001b[32m110.5/110.5 kB\u001b[0m \u001b[31m13.3 MB/s\u001b[0m eta \u001b[36m0:00:00\u001b[0m\n",
            "\u001b[?25hRequirement already satisfied: pandas in /usr/local/lib/python3.10/dist-packages (from datasets) (1.5.3)\n",
            "Requirement already satisfied: requests>=2.19.0 in /usr/local/lib/python3.10/dist-packages (from datasets) (2.27.1)\n",
            "Requirement already satisfied: tqdm>=4.62.1 in /usr/local/lib/python3.10/dist-packages (from datasets) (4.65.0)\n",
            "Collecting xxhash (from datasets)\n",
            "  Downloading xxhash-3.2.0-cp310-cp310-manylinux_2_17_x86_64.manylinux2014_x86_64.whl (212 kB)\n",
            "\u001b[2K     \u001b[90m━━━━━━━━━━━━━━━━━━━━━━━━━━━━━━━━━━━━━━\u001b[0m \u001b[32m212.5/212.5 kB\u001b[0m \u001b[31m25.8 MB/s\u001b[0m eta \u001b[36m0:00:00\u001b[0m\n",
            "\u001b[?25hCollecting multiprocess (from datasets)\n",
            "  Downloading multiprocess-0.70.14-py310-none-any.whl (134 kB)\n",
            "\u001b[2K     \u001b[90m━━━━━━━━━━━━━━━━━━━━━━━━━━━━━━━━━━━━━━\u001b[0m \u001b[32m134.3/134.3 kB\u001b[0m \u001b[31m15.5 MB/s\u001b[0m eta \u001b[36m0:00:00\u001b[0m\n",
            "\u001b[?25hRequirement already satisfied: fsspec[http]>=2021.11.1 in /usr/local/lib/python3.10/dist-packages (from datasets) (2023.6.0)\n",
            "Requirement already satisfied: aiohttp in /usr/local/lib/python3.10/dist-packages (from datasets) (3.8.4)\n",
            "Requirement already satisfied: huggingface-hub<1.0.0,>=0.11.0 in /usr/local/lib/python3.10/dist-packages (from datasets) (0.16.3)\n",
            "Requirement already satisfied: packaging in /usr/local/lib/python3.10/dist-packages (from datasets) (23.1)\n",
            "Requirement already satisfied: pyyaml>=5.1 in /usr/local/lib/python3.10/dist-packages (from datasets) (6.0)\n",
            "Requirement already satisfied: attrs>=17.3.0 in /usr/local/lib/python3.10/dist-packages (from aiohttp->datasets) (23.1.0)\n",
            "Requirement already satisfied: charset-normalizer<4.0,>=2.0 in /usr/local/lib/python3.10/dist-packages (from aiohttp->datasets) (2.0.12)\n",
            "Requirement already satisfied: multidict<7.0,>=4.5 in /usr/local/lib/python3.10/dist-packages (from aiohttp->datasets) (6.0.4)\n",
            "Requirement already satisfied: async-timeout<5.0,>=4.0.0a3 in /usr/local/lib/python3.10/dist-packages (from aiohttp->datasets) (4.0.2)\n",
            "Requirement already satisfied: yarl<2.0,>=1.0 in /usr/local/lib/python3.10/dist-packages (from aiohttp->datasets) (1.9.2)\n",
            "Requirement already satisfied: frozenlist>=1.1.1 in /usr/local/lib/python3.10/dist-packages (from aiohttp->datasets) (1.3.3)\n",
            "Requirement already satisfied: aiosignal>=1.1.2 in /usr/local/lib/python3.10/dist-packages (from aiohttp->datasets) (1.3.1)\n",
            "Requirement already satisfied: filelock in /usr/local/lib/python3.10/dist-packages (from huggingface-hub<1.0.0,>=0.11.0->datasets) (3.12.2)\n",
            "Requirement already satisfied: typing-extensions>=3.7.4.3 in /usr/local/lib/python3.10/dist-packages (from huggingface-hub<1.0.0,>=0.11.0->datasets) (4.6.3)\n",
            "Requirement already satisfied: urllib3<1.27,>=1.21.1 in /usr/local/lib/python3.10/dist-packages (from requests>=2.19.0->datasets) (1.26.16)\n",
            "Requirement already satisfied: certifi>=2017.4.17 in /usr/local/lib/python3.10/dist-packages (from requests>=2.19.0->datasets) (2023.5.7)\n",
            "Requirement already satisfied: idna<4,>=2.5 in /usr/local/lib/python3.10/dist-packages (from requests>=2.19.0->datasets) (3.4)\n",
            "Requirement already satisfied: python-dateutil>=2.8.1 in /usr/local/lib/python3.10/dist-packages (from pandas->datasets) (2.8.2)\n",
            "Requirement already satisfied: pytz>=2020.1 in /usr/local/lib/python3.10/dist-packages (from pandas->datasets) (2022.7.1)\n",
            "Requirement already satisfied: six>=1.5 in /usr/local/lib/python3.10/dist-packages (from python-dateutil>=2.8.1->pandas->datasets) (1.16.0)\n",
            "Installing collected packages: xxhash, dill, multiprocess, datasets\n",
            "Successfully installed datasets-2.13.1 dill-0.3.6 multiprocess-0.70.14 xxhash-3.2.0\n",
            "Collecting sentencepiece\n",
            "  Downloading sentencepiece-0.1.99-cp310-cp310-manylinux_2_17_x86_64.manylinux2014_x86_64.whl (1.3 MB)\n",
            "\u001b[2K     \u001b[90m━━━━━━━━━━━━━━━━━━━━━━━━━━━━━━━━━━━━━━━━\u001b[0m \u001b[32m1.3/1.3 MB\u001b[0m \u001b[31m57.2 MB/s\u001b[0m eta \u001b[36m0:00:00\u001b[0m\n",
            "\u001b[?25hInstalling collected packages: sentencepiece\n",
            "Successfully installed sentencepiece-0.1.99\n",
            "Requirement already satisfied: gdown in /usr/local/lib/python3.10/dist-packages (4.6.6)\n",
            "Requirement already satisfied: filelock in /usr/local/lib/python3.10/dist-packages (from gdown) (3.12.2)\n",
            "Requirement already satisfied: requests[socks] in /usr/local/lib/python3.10/dist-packages (from gdown) (2.27.1)\n",
            "Requirement already satisfied: six in /usr/local/lib/python3.10/dist-packages (from gdown) (1.16.0)\n",
            "Requirement already satisfied: tqdm in /usr/local/lib/python3.10/dist-packages (from gdown) (4.65.0)\n",
            "Requirement already satisfied: beautifulsoup4 in /usr/local/lib/python3.10/dist-packages (from gdown) (4.11.2)\n",
            "Requirement already satisfied: soupsieve>1.2 in /usr/local/lib/python3.10/dist-packages (from beautifulsoup4->gdown) (2.4.1)\n",
            "Requirement already satisfied: urllib3<1.27,>=1.21.1 in /usr/local/lib/python3.10/dist-packages (from requests[socks]->gdown) (1.26.16)\n",
            "Requirement already satisfied: certifi>=2017.4.17 in /usr/local/lib/python3.10/dist-packages (from requests[socks]->gdown) (2023.5.7)\n",
            "Requirement already satisfied: charset-normalizer~=2.0.0 in /usr/local/lib/python3.10/dist-packages (from requests[socks]->gdown) (2.0.12)\n",
            "Requirement already satisfied: idna<4,>=2.5 in /usr/local/lib/python3.10/dist-packages (from requests[socks]->gdown) (3.4)\n",
            "Requirement already satisfied: PySocks!=1.5.7,>=1.5.6 in /usr/local/lib/python3.10/dist-packages (from requests[socks]->gdown) (1.7.1)\n"
          ]
        }
      ],
      "source": [
        "!pip install transformers\n",
        "!pip install datasets\n",
        "!pip install sentencepiece\n",
        "!pip install gdown"
      ]
    },
    {
      "cell_type": "markdown",
      "metadata": {
        "id": "LL9I9bhZAWNL"
      },
      "source": [
        "# Librerie"
      ]
    },
    {
      "cell_type": "code",
      "execution_count": 14,
      "metadata": {
        "id": "kDZD-4kNATUy",
        "outputId": "4f1741c4-502d-4cdf-ca90-d79143ea1aaf",
        "colab": {
          "base_uri": "https://localhost:8080/"
        }
      },
      "outputs": [
        {
          "output_type": "stream",
          "name": "stderr",
          "text": [
            "[nltk_data] Downloading package wordnet to /root/nltk_data...\n",
            "[nltk_data]   Package wordnet is already up-to-date!\n",
            "[nltk_data] Downloading package punkt to /root/nltk_data...\n",
            "[nltk_data]   Package punkt is already up-to-date!\n"
          ]
        }
      ],
      "source": [
        "import re\n",
        "import os\n",
        "import torch\n",
        "import random\n",
        "import gdown\n",
        "import json\n",
        "import numpy as np\n",
        "from torch import nn\n",
        "import torch.optim as optim\n",
        "from itertools import count\n",
        "from tabulate import tabulate\n",
        "from bs4 import BeautifulSoup\n",
        "from tqdm.notebook import tqdm\n",
        "from datasets import load_dataset\n",
        "from collections import Counter\n",
        "import nltk\n",
        "from nltk.stem import WordNetLemmatizer\n",
        "import matplotlib.pyplot as plt\n",
        "from torch.nn.utils.rnn import pad_sequence\n",
        "from torch.utils.data import Dataset, DataLoader\n",
        "from sklearn.metrics import recall_score, f1_score, accuracy_score\n",
        "from torch.nn import Module, Embedding, Dropout, Linear,LSTM\n",
        "from transformers import AutoTokenizer, AutoModel\n",
        "from transformers import BertTokenizer, BertModel\n",
        "from transformers import XLMRobertaTokenizer, XLMRobertaModel\n",
        "from transformers import ElectraTokenizer, ElectraModel\n",
        "device = 'cuda' if torch.cuda.is_available() else 'cpu'\n",
        "\n",
        "nltk.download('wordnet')\n",
        "nltk.download('punkt')\n",
        "\n",
        "seed = 1234\n",
        "random.seed(seed)\n",
        "np.random.seed(seed)\n",
        "torch.manual_seed(seed)\n",
        "torch.cuda.manual_seed_all(seed)\n",
        "torch.backends.cudnn.deterministic = True\n",
        "torch.backends.cudnn.benchmark = False"
      ]
    },
    {
      "cell_type": "code",
      "source": [
        "from google.colab import drive\n",
        "drive.mount('/content/drive')"
      ],
      "metadata": {
        "id": "LawZu2kWiFL2",
        "outputId": "de7807dc-67ae-4648-a2cc-baa2d47eed9c",
        "colab": {
          "base_uri": "https://localhost:8080/"
        }
      },
      "execution_count": 3,
      "outputs": [
        {
          "output_type": "stream",
          "name": "stdout",
          "text": [
            "Mounted at /content/drive\n"
          ]
        }
      ]
    },
    {
      "cell_type": "markdown",
      "metadata": {
        "id": "oJpKMMZwWbba"
      },
      "source": [
        "# Data"
      ]
    },
    {
      "cell_type": "markdown",
      "metadata": {
        "id": "-Y0bpHDm0P-e"
      },
      "source": [
        "## Data Semeval"
      ]
    },
    {
      "cell_type": "code",
      "execution_count": null,
      "metadata": {
        "colab": {
          "base_uri": "https://localhost:8080/",
          "referenced_widgets": [
            "6c28630885104c19b9b4fd0acb25b62f",
            "d4c5e108bc394a93b9ef0118c47dca74",
            "7c765664778840d382660fab466242ab",
            "08d0444967bf40df95f8ec369fc2b177",
            "8a1834a6cfe346818dafd3882fca1292",
            "db96dafbb73d45b7b7278ce686b8b2a4",
            "5f5654b478a840cc9c26e7c3717aa2dc",
            "9053a18f720148ee8cb6cabdbcf12a39",
            "1a646df830a14d5f83a3c18941b34513",
            "ae631b6072af48ae8f8fb0543112b6f2",
            "8ed0bc2c076142f7a2f0b2745923b8e3"
          ]
        },
        "id": "Ir2NT3iy2aNR",
        "outputId": "e0e01d8e-2984-4efb-b4d5-130f21a44c97"
      },
      "outputs": [
        {
          "output_type": "stream",
          "name": "stderr",
          "text": [
            "WARNING:datasets.builder:Found cached dataset sem_eval_2010_task_8 (/root/.cache/huggingface/datasets/sem_eval_2010_task_8/default/1.0.0/8545d1995bbbade386acf5c4e2bef5589d8387ae0a93356407dfb54cdb234416)\n"
          ]
        },
        {
          "output_type": "display_data",
          "data": {
            "text/plain": [
              "  0%|          | 0/2 [00:00<?, ?it/s]"
            ],
            "application/vnd.jupyter.widget-view+json": {
              "version_major": 2,
              "version_minor": 0,
              "model_id": "6c28630885104c19b9b4fd0acb25b62f"
            }
          },
          "metadata": {}
        }
      ],
      "source": [
        "dataset = load_dataset('sem_eval_2010_task_8')"
      ]
    },
    {
      "cell_type": "markdown",
      "metadata": {
        "id": "vDNP2vlNn1cn"
      },
      "source": [
        "### Lista delle entità"
      ]
    },
    {
      "cell_type": "code",
      "execution_count": null,
      "metadata": {
        "id": "6EaYTG7-n2TG"
      },
      "outputs": [],
      "source": [
        "def lista_tutte_entità_nel_dataset(data, lista_entita):\n",
        "  relation_dict = {i: label for i, label in enumerate(data.features['relation'].names)}\n",
        "  for s, r in zip(data['sentence'], data['relation']):\n",
        "    if relation_dict[r] != \"Other\":\n",
        "      tipo1, tipo2 = relation_dict[r].split(\"(\")[0].split(\"-\")\n",
        "      lista_entita.append(tipo1)\n",
        "      lista_entita.append(tipo2)\n",
        "  return list(set(lista_entita))"
      ]
    },
    {
      "cell_type": "markdown",
      "metadata": {
        "id": "aQcZ66MjJ9cl"
      },
      "source": [
        "### Creazione dati"
      ]
    },
    {
      "cell_type": "code",
      "execution_count": null,
      "metadata": {
        "id": "TuMY5NPtDhsh"
      },
      "outputs": [],
      "source": [
        "def create_data(new_data, data, count_yes, lista_entities, max_len=1864):\n",
        "  relation_dict = {i: label for i, label in enumerate(data.features['relation'].names)}\n",
        "  for s, r in zip(data['sentence'], data['relation']):\n",
        "    soup = BeautifulSoup(s, 'html.parser')\n",
        "    entita = {}\n",
        "    for tag in soup.find_all(['e1', 'e2']):\n",
        "        entita[tag.name] = tag.string\n",
        "        tag.replace_with(entita[tag.name])\n",
        "    nuova_frase = str(soup)\n",
        "    entities = ['O']*len(nuova_frase.split())\n",
        "    if relation_dict[r]== \"Other\":\n",
        "        relation = []\n",
        "        tipo1, tipo2 = random.sample(lista_entities, 2)\n",
        "        tipo_entita = {\"e1\": tipo1, \"e2\": tipo2}\n",
        "\n",
        "        for e in entita.keys():\n",
        "          for i, elem in enumerate(entita[e].split()):\n",
        "            index_char = nuova_frase.index(elem)\n",
        "            index_token = nuova_frase[:index_char].count(\" \")\n",
        "            if i == 0:\n",
        "              entities[index_token] = \"B-\"+tipo_entita[e]\n",
        "            else:\n",
        "              entities[index_token] = \"I-\"+tipo_entita[e]\n",
        "\n",
        "        item = {\"sentence\": nuova_frase,\n",
        "          \"features\": nltk.word_tokenize(nuova_frase),\n",
        "          \"entities\": entities,\n",
        "          \"relations\": relation}\n",
        "        new_data.append(item)\n",
        "    else:\n",
        "      if count_yes < max_len:\n",
        "        tipo_soggetto, tipo_oggetto = relation_dict[r].split(\"(\")[0].split(\"-\")\n",
        "        soggetto = relation_dict[r].split('(')[1].split(',')[0]\n",
        "        oggetto = relation_dict[r].split('(')[1].split(',')[1].split(\")\")[0]\n",
        "        tipo_entita = {soggetto: tipo_soggetto, oggetto: tipo_oggetto}\n",
        "\n",
        "        for e in entita.keys():\n",
        "          for i, elem in enumerate(entita[e].split()):\n",
        "            index_char = nuova_frase.index(elem)\n",
        "            index_token = nuova_frase[:index_char].count(\" \")\n",
        "            if i == 0:\n",
        "              entities[index_token] = \"B-\"+tipo_entita[e]\n",
        "            else:\n",
        "              entities[index_token] = \"I-\"+tipo_entita[e]\n",
        "        relation = [(entita[soggetto], entita[oggetto], relation_dict[r])]\n",
        "        count_yes+=1\n",
        "        item = {\"sentence\": nuova_frase,\n",
        "          \"features\": nltk.word_tokenize(nuova_frase),\n",
        "          \"entities\": entities,\n",
        "          \"relations\": relation}\n",
        "        new_data.append(item)\n",
        "  return new_data, count_yes"
      ]
    },
    {
      "cell_type": "markdown",
      "metadata": {
        "id": "q0CE9HoEKBJW"
      },
      "source": [
        "#### Generazione train,valid, test"
      ]
    },
    {
      "cell_type": "code",
      "execution_count": null,
      "metadata": {
        "id": "2_mDx1yY0SPl"
      },
      "outputs": [],
      "source": [
        "def generate_train_valid_test(data):\n",
        "  count_yes = 0\n",
        "  new_data = []\n",
        "  lista_entita = []\n",
        "  train = data['train']\n",
        "  test = data['test']\n",
        "  lista_entita = lista_tutte_entità_nel_dataset(train, lista_entita)\n",
        "  lista_entita = lista_tutte_entità_nel_dataset(test, lista_entita)\n",
        "  new_data, count_yes = create_data(new_data, train, count_yes, lista_entita)\n",
        "  new_data, count_yes = create_data(new_data, test, count_yes, lista_entita)\n",
        "  return new_data"
      ]
    },
    {
      "cell_type": "code",
      "execution_count": null,
      "metadata": {
        "id": "oqO7HUfuD8d4"
      },
      "outputs": [],
      "source": [
        "data = generate_train_valid_test(dataset)"
      ]
    },
    {
      "cell_type": "markdown",
      "metadata": {
        "id": "694nvq6jKNen"
      },
      "source": [
        "## Divisione Train, Valid, Test"
      ]
    },
    {
      "cell_type": "code",
      "execution_count": null,
      "metadata": {
        "colab": {
          "base_uri": "https://localhost:8080/"
        },
        "id": "fUFfYLleEdgO",
        "outputId": "5bc27ef9-06fa-4008-93a0-a123e5b69f53"
      },
      "outputs": [
        {
          "output_type": "stream",
          "name": "stdout",
          "text": [
            "2608 561 559\n"
          ]
        }
      ],
      "source": [
        "def divide_dataset(data):\n",
        "  # Calcola il numero di istanze per ogni etichetta\n",
        "  label_counts = {}\n",
        "  lab_count = 0\n",
        "  for item in data:\n",
        "    relation = item[\"relations\"]\n",
        "    lab_count += 1\n",
        "    if len(relation) == 0:\n",
        "      if \"no\" in label_counts.keys():\n",
        "        label_counts[\"no\"] += 1\n",
        "      else:\n",
        "          label_counts[\"no\"] = 1\n",
        "    else:\n",
        "      if \"yes\" in label_counts.keys():\n",
        "        label_counts[\"yes\"] += 1\n",
        "      else:\n",
        "          label_counts[\"yes\"] = 1\n",
        "\n",
        "  # Definiamo la proporzione di dati per ogni set\n",
        "  train_ratio = 0.7\n",
        "  val_ratio = 0.15\n",
        "  test_ratio = 0.15\n",
        "\n",
        "  # Mescoliamo i dati in modo casuale\n",
        "  random.shuffle(data)\n",
        "\n",
        "  # Calcola il numero di istanze per ciascuna divisione\n",
        "  total_instances = sum(label_counts.values())\n",
        "  train_size = int(train_ratio * total_instances)\n",
        "  test_size = int(test_ratio * total_instances)\n",
        "  dev_size = total_instances - train_size - test_size\n",
        "\n",
        "  # Calcola il numero di istanze per ogni etichetta nella divisione train\n",
        "  train_label_counts = {label: int(count * train_ratio) for label, count in label_counts.items()}\n",
        "\n",
        "  # Inizializza le divisioni train, test e dev\n",
        "  train_set = []\n",
        "  test_set = []\n",
        "  val_set = []\n",
        "\n",
        "  # Dividi il dataset in base alle etichette e alle quantità calcolate\n",
        "  for item in data:\n",
        "      relation = item[\"relations\"]\n",
        "      if len(relation) == 0:\n",
        "        label = \"no\"\n",
        "      else:\n",
        "        label = \"yes\"\n",
        "\n",
        "      if train_label_counts[label] > 0:\n",
        "          train_set.append(item)\n",
        "          train_label_counts[label] -= 1\n",
        "      elif test_size > 0:\n",
        "          test_set.append(item)\n",
        "          test_size -= 1\n",
        "      else:\n",
        "          val_set.append(item)\n",
        "          dev_size -= 1\n",
        "  return train_set, val_set, test_set\n",
        "\n",
        "train_set, val_set, test_set = divide_dataset(data)\n",
        "\n",
        "# Verifichiamo le lunghezze dei set per assicurarci che siano corrette\n",
        "print(len(train_set), len(val_set), len(test_set))"
      ]
    },
    {
      "cell_type": "code",
      "source": [
        "import json\n",
        "with open('train.json', 'w') as fout:\n",
        "  fout.write(json.dumps(train_set))\n",
        "with open('test.json', 'w') as fout:\n",
        "  fout.write(json.dumps(test_set))\n",
        "with open('val.json', 'w') as fout:\n",
        "  fout.write(json.dumps(val_set))"
      ],
      "metadata": {
        "id": "GP_nZyRLh_uS"
      },
      "execution_count": null,
      "outputs": []
    },
    {
      "cell_type": "code",
      "source": [
        "!mv \"train.json\" \"drive/MyDrive/relations/dataset_binary_balanced/\"\n",
        "!mv \"val.json\" \"drive/MyDrive/relations/dataset_binary_balanced/\"\n",
        "!mv \"test.json\" \"drive/MyDrive/relations/dataset_binary_balanced/\""
      ],
      "metadata": {
        "id": "ThFnBlO3iCuE"
      },
      "execution_count": null,
      "outputs": []
    },
    {
      "cell_type": "markdown",
      "source": [
        "# Load train, dev e test"
      ],
      "metadata": {
        "id": "b_cnN6_xjt6R"
      }
    },
    {
      "cell_type": "markdown",
      "source": [
        "## Dataset Bilanciato"
      ],
      "metadata": {
        "id": "CvFvza0vkSBM"
      }
    },
    {
      "cell_type": "code",
      "source": [
        "# a file\n",
        "url_train = \"https://drive.google.com/uc?id=1pF-3FEovIW7EynSnzJSFJUyr_fULWtKy\"\n",
        "url_valid = \"https://drive.google.com/uc?id=1uV5F3I-72MZL9jgzOURHV2MFVUBSrw2q\"\n",
        "url_test = \"https://drive.google.com/uc?id=1sYzfJ7s9qOFcgW5-3ZAWfi2eMfzIQ77G\"\n",
        "\n",
        "train_json = \"train.json\"\n",
        "valid_json = \"valid.json\"\n",
        "test_json = \"test.json\"\n",
        "\n",
        "gdown.download(url_train, train_json, quiet=False)\n",
        "gdown.download(url_valid, valid_json, quiet=False)\n",
        "gdown.download(url_test, test_json, quiet=False)"
      ],
      "metadata": {
        "id": "JbugrUm1kRtu",
        "outputId": "296a4fed-74c3-4f2b-8c84-670712284e8b",
        "colab": {
          "base_uri": "https://localhost:8080/",
          "height": 244
        }
      },
      "execution_count": 4,
      "outputs": [
        {
          "output_type": "stream",
          "name": "stderr",
          "text": [
            "Downloading...\n",
            "From: https://drive.google.com/uc?id=1pF-3FEovIW7EynSnzJSFJUyr_fULWtKy\n",
            "To: /content/train.json\n",
            "100%|██████████| 1.18M/1.18M [00:00<00:00, 144MB/s]\n",
            "Downloading...\n",
            "From: https://drive.google.com/uc?id=1uV5F3I-72MZL9jgzOURHV2MFVUBSrw2q\n",
            "To: /content/valid.json\n",
            "100%|██████████| 247k/247k [00:00<00:00, 130MB/s]\n",
            "Downloading...\n",
            "From: https://drive.google.com/uc?id=1sYzfJ7s9qOFcgW5-3ZAWfi2eMfzIQ77G\n",
            "To: /content/test.json\n",
            "100%|██████████| 251k/251k [00:00<00:00, 98.0MB/s]\n"
          ]
        },
        {
          "output_type": "execute_result",
          "data": {
            "text/plain": [
              "'test.json'"
            ],
            "application/vnd.google.colaboratory.intrinsic+json": {
              "type": "string"
            }
          },
          "metadata": {},
          "execution_count": 4
        }
      ]
    },
    {
      "cell_type": "code",
      "source": [
        "train_set = json.load(open(\"train.json\", 'r', encoding=\"utf-8\"))\n",
        "val_set = json.load(open(\"valid.json\", 'r', encoding=\"utf-8\"))\n",
        "test_set = json.load(open(\"test.json\", 'r', encoding=\"utf-8\"))"
      ],
      "metadata": {
        "id": "UbS7cy9WorQh"
      },
      "execution_count": 5,
      "outputs": []
    },
    {
      "cell_type": "markdown",
      "source": [
        "## Dataset non bilanciato"
      ],
      "metadata": {
        "id": "OO3yQ_DWkP74"
      }
    },
    {
      "cell_type": "code",
      "source": [
        "# a file\n",
        "url_train = \"https://drive.google.com/uc?id=1SpZQAtW6Uj0RBR1P5HoO7EfcJ-FTuUc5\"\n",
        "url_valid = \"https://drive.google.com/uc?id=1vFRNrs5nrYOLswgKep1txYCv353jE9gr\"\n",
        "url_test = \"https://drive.google.com/uc?id=19BD7xVZeifOHvwxQbzkaxinRgkxy_O3l\"\n",
        "\n",
        "train_json = \"train.json\"\n",
        "valid_json = \"valid.json\"\n",
        "test_json = \"test.json\"\n",
        "\n",
        "gdown.download(url_train, train_json, quiet=False)\n",
        "gdown.download(url_valid, valid_json, quiet=False)\n",
        "gdown.download(url_test, test_json, quiet=False)"
      ],
      "metadata": {
        "id": "FvVA7ZdJj0aD"
      },
      "execution_count": null,
      "outputs": []
    },
    {
      "cell_type": "code",
      "source": [
        "train_set = json.load(open(\"train.json\", 'r', encoding=\"utf-8\"))\n",
        "val_set = json.load(open(\"valid.json\", 'r', encoding=\"utf-8\"))\n",
        "test_set = json.load(open(\"test.json\", 'r', encoding=\"utf-8\"))"
      ],
      "metadata": {
        "id": "1vbXyuCwovrp"
      },
      "execution_count": null,
      "outputs": []
    },
    {
      "cell_type": "markdown",
      "metadata": {
        "id": "Ftu69p_9w9PO"
      },
      "source": [
        "# Statistiche Dati"
      ]
    },
    {
      "cell_type": "markdown",
      "metadata": {
        "id": "SaOsniItKR-o"
      },
      "source": [
        "## Labels"
      ]
    },
    {
      "cell_type": "code",
      "execution_count": null,
      "metadata": {
        "id": "oFU_IgxDw8ua"
      },
      "outputs": [],
      "source": [
        "def count_labels(data):\n",
        "  relations = []\n",
        "  for d in data:\n",
        "    r = d[\"relations\"]\n",
        "    if len(r)==0:\n",
        "      relations.append(\"NO\")\n",
        "    else:\n",
        "      relations.append(\"YES\")\n",
        "  return relations"
      ]
    },
    {
      "cell_type": "code",
      "execution_count": null,
      "metadata": {
        "id": "Xntw68WfxmIm"
      },
      "outputs": [],
      "source": [
        "r = count_labels(data)"
      ]
    },
    {
      "cell_type": "markdown",
      "metadata": {
        "id": "nFgq6AjAKTsz"
      },
      "source": [
        "## Histogramma"
      ]
    },
    {
      "cell_type": "code",
      "execution_count": null,
      "metadata": {
        "id": "QXRhskr22s81"
      },
      "outputs": [],
      "source": [
        "def plot_histogram(data: list) -> None:\n",
        "    # function to add value labels\n",
        "    def addlabels(x,y):\n",
        "      for i in range(len(x)):\n",
        "          plt.text(i, y[i], y[i], ha = 'center', bbox = dict(facecolor = 'red', alpha =.8))\n",
        "\n",
        "    data_counter = Counter(data)\n",
        "    x = np.arange(len(data_counter))\n",
        "    y = [n_elems for _, n_elems in data_counter.items()]\n",
        "    plt.figure(figsize=(5,2))\n",
        "    plt.bar(x, y)\n",
        "    addlabels(x, y)\n",
        "    plt.xticks(x, [elem_name for elem_name, _ in data_counter.items()], rotation=60)\n",
        "    plt.show()"
      ]
    },
    {
      "cell_type": "code",
      "execution_count": null,
      "metadata": {
        "id": "4RCqcdKc2vmT",
        "colab": {
          "base_uri": "https://localhost:8080/",
          "height": 233
        },
        "outputId": "fdbfe768-041f-4dc9-a5e8-53590c8da6f8"
      },
      "outputs": [
        {
          "output_type": "display_data",
          "data": {
            "text/plain": [
              "<Figure size 500x200 with 1 Axes>"
            ],
            "image/png": "[encoded data removed]"
          },
          "metadata": {}
        }
      ],
      "source": [
        "plot_histogram(r)"
      ]
    },
    {
      "cell_type": "markdown",
      "metadata": {
        "id": "b5oqKw8hAXql"
      },
      "source": [
        "# Dataset"
      ]
    },
    {
      "cell_type": "code",
      "execution_count": 6,
      "metadata": {
        "id": "v-pIGhcTUaxG"
      },
      "outputs": [],
      "source": [
        "class RelationExtractionBinaryDataset(Dataset):\n",
        "  def __init__(self,\n",
        "                 data,\n",
        "                 tokenizer, ent2idx = None, w_vocab = None, lemma_vocab= None):\n",
        "    self.data = data\n",
        "    self.tokenizer = tokenizer\n",
        "    self.single_sentences = self.rewrite_sentences()\n",
        "    self.rel2idx = self.build_dictionary_relations()\n",
        "    if ent2idx == None:\n",
        "      self.ent2idx = self.build_dictionary_entities()\n",
        "    else:\n",
        "      self.ent2idx = ent2idx\n",
        "    if w_vocab == None:\n",
        "      self.w_vocab = self.build_vocab_words()\n",
        "    else:\n",
        "      self.w_vocab = w_vocab\n",
        "\n",
        "    if lemma_vocab == None:\n",
        "      self.lemma_vocab = self.build_vocab_lemma()\n",
        "    else:\n",
        "      self.lemma_vocab = lemma_vocab\n",
        "\n",
        "  def select_only_entities_in_relations(self, elem, new_d, d):\n",
        "    for m in re.finditer(elem, new_d['sentence']):\n",
        "      start_id, end_id = m.span()\n",
        "      token_start_id = new_d['sentence'][:start_id].count(\" \")\n",
        "      token_end_id = new_d['sentence'][:end_id].count(\" \")\n",
        "      for i in range(token_start_id, token_end_id+1):\n",
        "        new_d['entities'][i] = d['entities'][i]\n",
        "    return new_d\n",
        "\n",
        "  def build_vocab_words(self):\n",
        "    w_dict = {}\n",
        "    counter = Counter()\n",
        "    for elem in self.single_sentences:\n",
        "      for w in elem[\"features\"]:\n",
        "        counter[w]+=1\n",
        "    w_dict.update({'<pad>': 0})\n",
        "    w_dict.update({'<unk>': 1})\n",
        "    for index, (key,value) in enumerate(counter.most_common()):\n",
        "      w_dict.update({key: index+2})\n",
        "\n",
        "    return w_dict\n",
        "\n",
        "  def build_vocab_lemma(self):\n",
        "    lemma_dict = {}\n",
        "    counter = Counter()\n",
        "    for elem in self.single_sentences:\n",
        "      for lemma in elem[\"lemmas\"]:\n",
        "        counter[lemma]+=1\n",
        "    lemma_dict.update({'<pad>': 0})\n",
        "    lemma_dict.update({'<unk>': 1})\n",
        "    for index, (key,value) in enumerate(counter.most_common()):\n",
        "      lemma_dict.update({key: index+2})\n",
        "    return lemma_dict\n",
        "\n",
        "  def lemmatize_sentence(self, sentence):\n",
        "    # Tokenizzazione della frase\n",
        "    tokens = nltk.word_tokenize(sentence)\n",
        "    # Creazione dell'istanza del lematizzatore\n",
        "    lemmatizer = WordNetLemmatizer()\n",
        "    # Lemmatizzazione dei token\n",
        "    lemmas = [lemmatizer.lemmatize(token) for token in tokens]\n",
        "    return lemmas\n",
        "\n",
        "  def rewrite_sentences(self):\n",
        "    # riscrivo il dizionario dove ho una relazione (una tupla) per frase\n",
        "    new_data = []\n",
        "    for d in self.data:\n",
        "      if len(d['relations'])>0:\n",
        "        for r in d['relations']:\n",
        "          subj = r[0]\n",
        "          obj = r[1]\n",
        "          new_d = d.copy()\n",
        "          sentence = new_d[\"sentence\"]\n",
        "          lemmas = self.lemmatize_sentence(sentence)\n",
        "          new_d['lemmas'] = lemmas\n",
        "          new_d['relations'] = r\n",
        "          new_d['entities'] = ['O' for _ in d['entities']]  # reset entities to \"O\" tags\n",
        "          new_d = self.select_only_entities_in_relations(subj, new_d, d)\n",
        "          new_d = self.select_only_entities_in_relations(obj, new_d, d)\n",
        "          new_data.append(new_d)\n",
        "      else:\n",
        "        new_d = d.copy()\n",
        "        sentence = new_d[\"sentence\"]\n",
        "        lemmas = self.lemmatize_sentence(sentence)\n",
        "        new_d['lemmas'] = lemmas\n",
        "        new_d['relations'] = ()\n",
        "        new_data.append(new_d)\n",
        "    return new_data\n",
        "\n",
        "  def build_dictionary_entities(self):\n",
        "    # creazione del dizionario entità -> indice\n",
        "    ent2idx = {\"<pad>\": 0,  'O': 1}\n",
        "    for data_point in self.single_sentences:\n",
        "      entities = data_point['entities']\n",
        "      for e in entities:\n",
        "        if e != \"O\":\n",
        "          e = e.split(\"-\")[1]\n",
        "        if e not in ent2idx.keys():\n",
        "            ent2idx[e] = len(ent2idx)\n",
        "    return ent2idx\n",
        "\n",
        "  def encode_words(self, sentence, offset, vocab):\n",
        "    data = []\n",
        "    for elem, (start, end) in  zip(sentence,offset):\n",
        "      if elem in vocab.keys():\n",
        "        data.append(vocab[elem])\n",
        "      else:\n",
        "        data.append(vocab[\"<unk>\"])\n",
        "      data+=[0]*(end-start-1)\n",
        "    return [0] + data + [0]\n",
        "\n",
        "  def encode_words_BERT(self, features):\n",
        "    curr_offset = 1\n",
        "    word_offset = []\n",
        "    sub_word_idx = []\n",
        "    for featu in features:\n",
        "      word_idx = self.tokenizer.convert_tokens_to_ids(self.tokenizer.tokenize(featu))\n",
        "      sub_word_idx += word_idx\n",
        "      word_offset.append((curr_offset, curr_offset+len(word_idx)))\n",
        "      curr_offset += len(word_idx)\n",
        "    sub_word_idx = self.tokenizer.build_inputs_with_special_tokens(sub_word_idx)\n",
        "    return sub_word_idx, word_offset\n",
        "\n",
        "  def encode_NER_entities(self, entities, word_offset):\n",
        "    entities_encoded = []\n",
        "    for i, (e, (start, end)) in enumerate(zip(entities, word_offset)):\n",
        "      if e != \"O\" and e.split(\"-\")[1] in self.ent2idx.keys():\n",
        "        tag = e.split(\"-\")[1]\n",
        "        entities_encoded.append(self.ent2idx[tag])\n",
        "        entities_encoded +=[self.ent2idx['<pad>']]*(end-start-1)\n",
        "      elif e== \"O\":\n",
        "        entities_encoded.append(self.ent2idx[e])\n",
        "        entities_encoded+=[self.ent2idx['<pad>']]*(end-start-1)\n",
        "    entities_encoded = [self.ent2idx['<pad>']]+entities_encoded+[self.ent2idx['<pad>']]\n",
        "    return entities_encoded\n",
        "\n",
        "  def encode_labels(self, tuple_relation):\n",
        "    if len(tuple_relation) == 0:\n",
        "      labels = self.rel2idx[\"no\"]\n",
        "    else:\n",
        "      labels = self.rel2idx[\"yes\"]\n",
        "    return labels\n",
        "\n",
        "  def build_dictionary_relations(self):\n",
        "    rel2idx = {\"no\": 0, \"yes\": 1}\n",
        "    return rel2idx\n",
        "\n",
        "  def __len__(self):\n",
        "      return len(self.single_sentences)\n",
        "\n",
        "  def __getitem__(self, index):\n",
        "      sentence = self.single_sentences[index]['sentence']\n",
        "      entities = self.single_sentences[index]['entities']\n",
        "      features = self.single_sentences[index]['features']\n",
        "      lemmas = self.single_sentences[index]['lemmas']\n",
        "      tuple_relation = self.single_sentences[index]['relations']\n",
        "\n",
        "      # encoding word bert\n",
        "      sub_word_idx, word_offset = self.encode_words_BERT(features)\n",
        "\n",
        "      # encoding pretrained words\n",
        "      pretrained_words = self.encode_words(features, word_offset, self.w_vocab)\n",
        "\n",
        "      # attention mask e word\n",
        "      encoded_sentences = self.tokenizer(sentence, padding=True, truncation = True)\n",
        "      input_ids = encoded_sentences[\"input_ids\"]\n",
        "      attention_mask = encoded_sentences[\"attention_mask\"]\n",
        "\n",
        "      # encoding NER entities\n",
        "      entities_encoded = self.encode_NER_entities(entities, word_offset)\n",
        "\n",
        "      # encoding lemma\n",
        "      encoded_lemmas = self.encode_words(lemmas, word_offset, self.lemma_vocab)\n",
        "\n",
        "      # encoding labels\n",
        "      labels = self.encode_labels(tuple_relation)\n",
        "\n",
        "      item = {\n",
        "         \"input_ids\": torch.tensor(input_ids),\n",
        "         \"attention_mask\": torch.tensor(attention_mask),\n",
        "         \"lemmas\": torch.tensor(encoded_lemmas),\n",
        "         \"entites_encoded\": torch.tensor(entities_encoded),\n",
        "         \"pretrained_words\": torch.tensor(pretrained_words),\n",
        "         \"labels\": torch.tensor([labels])\n",
        "      }\n",
        "\n",
        "      return item"
      ]
    },
    {
      "cell_type": "markdown",
      "metadata": {
        "id": "Oj9ewLZpccmv"
      },
      "source": [
        "## Init dataset"
      ]
    },
    {
      "cell_type": "code",
      "source": [
        "models = ['bert-base-cased',\n",
        "          'dbmdz/bert-base-italian-xxl-cased',\n",
        "          'xlm-roberta-base',\n",
        "          'dbmdz/electra-base-italian-xxl-cased-discriminator',\n",
        "          'dslim/bert-base-NER'\n",
        "          ]"
      ],
      "metadata": {
        "id": "4XhJ3293lhTp"
      },
      "execution_count": 7,
      "outputs": []
    },
    {
      "cell_type": "code",
      "execution_count": 8,
      "metadata": {
        "id": "S05ul948WSAV",
        "colab": {
          "base_uri": "https://localhost:8080/",
          "height": 145,
          "referenced_widgets": [
            "929da47bfc09440a90ede23c673f7e63",
            "4eceb20a48b64cd58c47700acea673bf",
            "eadcb3793589435f8b4a239a30cf26db",
            "097a0da407674fbaa2483f47921284df",
            "35a4a7cb0d7d4ac1a70505a5acb262e4",
            "fa12830fe3204050ab52c0b995dfcaef",
            "7b4848a7dc724d8093d5845d71a43d46",
            "61c3de44bf6b4ab5877f660b7620c4d9",
            "6787643f60e64c6e8bd212681ecf8ab4",
            "6d50982e2cd84277bcf5e35d5ccbc40e",
            "b54efde33f244dcfaac94527473827d5",
            "05d20bff7f844de4824ead59925e7d9a",
            "d9bad3b775df4759991d92b5ec0dfd70",
            "028415da1aab41e9b9288a46f726df67",
            "c0cff2b1dab34723806af9beece28f06",
            "65d64f56dce9481cad5e887fe09f360a",
            "b64adc1e7a014937892b3a121a754568",
            "021aea47afb644fea69cb19ccbca9494",
            "156d7334eccc40d89ef42bfc0de9cd7d",
            "f27f590db01a49f0ba7f2c74048f7bcc",
            "38405f6c5d8b415da7d191e1a4d5be79",
            "8f4b5cb6e53248d08d7a1f36f0ec306a",
            "8980b775b202452a8ab2be06fa601ea1",
            "a64ef3019d3a4b5db4bbaffb0b26b876",
            "6e6319715a4b4877925b7c9be05d2672",
            "a6bc4605417146dcaa58e0d67ab0bcd4",
            "9e91b57533714989b33678931d1a3e52",
            "4f286855e2c34afa82b835078d9da25d",
            "a099c0ab06734f83b846c8e24cdc375e",
            "5df87504ae0f4720b20c5bf61fd9b4b0",
            "b0e9d9bf78954e9292018504b740b089",
            "60f0247f977142d1b6d27ebf17af78b1",
            "16ab9959057b4198b748e1a36ba9b8ec",
            "036d4458888f4088a85da054ddd66379",
            "54ef736563384deda5a19d60140b8f43",
            "6971e6caa5044398a542beea166faba9",
            "6f0bad9830b440b38ab1aed674fbe2a4",
            "a9dac48911d147b998929dd92c40c924",
            "828fa92f555f461c97bdb034bd7ebc88",
            "377d24f06dd743d1bd8f956655569f12",
            "b26a0773821b45bcaa12cbed8a7644fd",
            "4da4b7bd8bfe4771b7742919d0b8e505",
            "756cf591067740c1afbd1faf267b97aa",
            "01ce76b724794bcc96d1f2f572a137d1"
          ]
        },
        "outputId": "d41befb3-69ac-4e74-cdfc-da10581fe608"
      },
      "outputs": [
        {
          "output_type": "display_data",
          "data": {
            "text/plain": [
              "Downloading (…)okenizer_config.json:   0%|          | 0.00/29.0 [00:00<?, ?B/s]"
            ],
            "application/vnd.jupyter.widget-view+json": {
              "version_major": 2,
              "version_minor": 0,
              "model_id": "929da47bfc09440a90ede23c673f7e63"
            }
          },
          "metadata": {}
        },
        {
          "output_type": "display_data",
          "data": {
            "text/plain": [
              "Downloading (…)lve/main/config.json:   0%|          | 0.00/570 [00:00<?, ?B/s]"
            ],
            "application/vnd.jupyter.widget-view+json": {
              "version_major": 2,
              "version_minor": 0,
              "model_id": "05d20bff7f844de4824ead59925e7d9a"
            }
          },
          "metadata": {}
        },
        {
          "output_type": "display_data",
          "data": {
            "text/plain": [
              "Downloading (…)solve/main/vocab.txt:   0%|          | 0.00/213k [00:00<?, ?B/s]"
            ],
            "application/vnd.jupyter.widget-view+json": {
              "version_major": 2,
              "version_minor": 0,
              "model_id": "8980b775b202452a8ab2be06fa601ea1"
            }
          },
          "metadata": {}
        },
        {
          "output_type": "display_data",
          "data": {
            "text/plain": [
              "Downloading (…)/main/tokenizer.json:   0%|          | 0.00/436k [00:00<?, ?B/s]"
            ],
            "application/vnd.jupyter.widget-view+json": {
              "version_major": 2,
              "version_minor": 0,
              "model_id": "036d4458888f4088a85da054ddd66379"
            }
          },
          "metadata": {}
        }
      ],
      "source": [
        "tokenizer = AutoTokenizer.from_pretrained(models[0])\n",
        "train_dataset = RelationExtractionBinaryDataset(train_set, tokenizer)\n",
        "word_vocab = train_dataset.w_vocab\n",
        "lemma_vocab = train_dataset.lemma_vocab\n",
        "dict_labels = train_dataset.rel2idx\n",
        "dict_entities = train_dataset.ent2idx\n",
        "valid_dataset = RelationExtractionBinaryDataset(val_set, tokenizer,  dict_entities, word_vocab, lemma_vocab)\n",
        "test_dataset = RelationExtractionBinaryDataset(test_set, tokenizer,  dict_entities, word_vocab, lemma_vocab)"
      ]
    },
    {
      "cell_type": "markdown",
      "metadata": {
        "id": "gQFxI-Jvcd0d"
      },
      "source": [
        "## Esempio elemento dataset"
      ]
    },
    {
      "cell_type": "code",
      "execution_count": null,
      "metadata": {
        "colab": {
          "base_uri": "https://localhost:8080/"
        },
        "id": "BBwYmMzUWfkd",
        "outputId": "ca4f4195-0aed-4a36-9d9b-7e1f8ad9ffc1"
      },
      "outputs": [
        {
          "output_type": "stream",
          "name": "stdout",
          "text": [
            "idx: 0,\n",
            "frase: [CLS] It seems like the fever heat got pushed out from the body as rashes. [SEP],         \n",
            "tokens: ['[CLS]', 'It', 'seems', 'like', 'the', 'fever', 'heat', 'got', 'pushed', 'out', 'from', 'the', 'body', 'as', 'r', '##ash', '##es', '.', '[SEP]']        \n",
            "encoded tokens: tensor([  101,  1135,  3093,  1176,  1103, 10880,  3208,  1400,  2873,  1149,\n",
            "         1121,  1103,  1404,  1112,   187, 10733,  1279,   119,   102]), shape: torch.Size([19])         \n",
            "attention mask: tensor([1, 1, 1, 1, 1, 1, 1, 1, 1, 1, 1, 1, 1, 1, 1, 1, 1, 1, 1]), shape: torch.Size([19])         \n",
            "pretrained_words: tensor([   0,   62, 9832,  107,    2, 1260, 2174,  219,  730,   51,   13,    2,\n",
            "         132,   24, 6492,    0,    0,    3,    0]), shape: torch.Size([19])         \n",
            "entities: ['<pad>', 'O', 'O', 'O', 'O', 'O', 'Effect', 'O', 'O', 'O', 'O', 'O', 'Cause', 'O', 'O', '<pad>', '<pad>', '<pad>']        \n",
            "encoded entities: tensor([0, 1, 1, 1, 1, 1, 5, 1, 1, 1, 1, 1, 9, 1, 1, 0, 0, 0]), shape: torch.Size([18])        \n",
            "lemmas: ['<pad>', 'It', 'seems', 'like', 'the', 'fever', 'heat', 'got', 'pushed', 'out', 'from', 'the', 'body', 'a', 'rash', '<pad>', '<pad>', '.', '<pad>']        \n",
            "encoded lemmas: tensor([   0,   61, 8944,  114,    2, 1346, 1152,  252,  825,   50,   13,    2,\n",
            "         128,    5, 5983,    0,    0,    3,    0]), shape: torch.Size([19])        \n",
            "labels: yes        \n",
            "encoded labels: tensor([1]), shape:torch.Size([1])\n"
          ]
        }
      ],
      "source": [
        "for i,elem in enumerate(valid_dataset):\n",
        "  sentence_encoded = elem[\"input_ids\"]\n",
        "  attention_mask = elem[\"attention_mask\"]\n",
        "  entitites_encoded = elem[\"entites_encoded\"]\n",
        "  pretrained_words = elem[\"pretrained_words\"]\n",
        "  lemmas = elem[\"lemmas\"]\n",
        "  labels = elem[\"labels\"]\n",
        "  entities_invertito = {valore: chiave for chiave, valore in dict_entities.items()}\n",
        "  lemmas_invertito = {valore: chiave for chiave, valore in lemma_vocab.items()}\n",
        "  lab_invertito = {valore: chiave for chiave, valore in dict_labels.items()}\n",
        "  print(f\"idx: {i},\\nfrase: {tokenizer.decode(sentence_encoded)}, \\\n",
        "        \\ntokens: {tokenizer.convert_ids_to_tokens(sentence_encoded)}\\\n",
        "        \\nencoded tokens: {sentence_encoded}, shape: {sentence_encoded.shape} \\\n",
        "        \\nattention mask: {attention_mask}, shape: {attention_mask.shape} \\\n",
        "        \\npretrained_words: {pretrained_words}, shape: {pretrained_words.shape} \\\n",
        "        \\nentities: {[entities_invertito[e.item()] for e in entitites_encoded]}\\\n",
        "        \\nencoded entities: {entitites_encoded}, shape: {entitites_encoded.shape}\\\n",
        "        \\nlemmas: {[lemmas_invertito[e.item()] for e in lemmas]}\\\n",
        "        \\nencoded lemmas: {lemmas}, shape: {lemmas.shape}\\\n",
        "        \\nlabels: {lab_invertito[labels.item()]}\\\n",
        "        \\nencoded labels: {labels}, shape:{labels.shape}\")\n",
        "  break"
      ]
    },
    {
      "cell_type": "markdown",
      "metadata": {
        "id": "7LjSlbUUAsPm"
      },
      "source": [
        "# Dataloader"
      ]
    },
    {
      "cell_type": "code",
      "execution_count": 9,
      "metadata": {
        "id": "ov1V9Jb0NR3G"
      },
      "outputs": [],
      "source": [
        "def padding_function(elems):\n",
        "  max_len = 512\n",
        "  input_ids = [elem[\"input_ids\"] for elem in elems]\n",
        "  attention_mask = [elem[\"attention_mask\"] for elem in elems]\n",
        "  pretrained_words = [elem[\"pretrained_words\"] for elem in elems]\n",
        "  entities = [elem[\"entites_encoded\"] for elem in elems]\n",
        "  lemmas = [elem[\"lemmas\"] for elem in elems]\n",
        "  labels = [elem[\"labels\"] for elem in elems]\n",
        "  input_ids[0] = nn.ConstantPad1d((0, max_len - input_ids[0].shape[0]), 0)(input_ids[0])\n",
        "  attention_mask[0] = nn.ConstantPad1d((0, max_len - attention_mask[0].shape[0]), 0)(attention_mask[0])\n",
        "  pretrained_words[0] = nn.ConstantPad1d((0, max_len - pretrained_words[0].shape[0]), 0)(pretrained_words[0])\n",
        "  entities[0] = nn.ConstantPad1d((0, max_len - entities[0].shape[0]), 0)(entities[0])\n",
        "  lemmas[0] = nn.ConstantPad1d((0, max_len - lemmas[0].shape[0]), 0)(lemmas[0])\n",
        "  input_ids = pad_sequence(input_ids, batch_first=True, padding_value = 0)\n",
        "  attention_mask = pad_sequence(attention_mask, batch_first=True, padding_value = 0)\n",
        "  pretrained_words = pad_sequence(pretrained_words, batch_first=True, padding_value = 0)\n",
        "  entities = pad_sequence(entities, batch_first=True, padding_value = 0)\n",
        "  lemmas = pad_sequence(lemmas, batch_first=True, padding_value = 0)\n",
        "  labels = torch.stack(labels, dim=0)\n",
        "\n",
        "  item = {\n",
        "      \"input_ids\" : input_ids,\n",
        "      \"attention_mask\": attention_mask,\n",
        "      \"entities\": entities,\n",
        "      \"pretrained_words\": pretrained_words,\n",
        "      \"lemmas\": lemmas,\n",
        "      \"labels\": labels\n",
        "  }\n",
        "  assert(input_ids.shape[1]==max_len)\n",
        "  return item"
      ]
    },
    {
      "cell_type": "markdown",
      "metadata": {
        "id": "XMCMOTm-cgTh"
      },
      "source": [
        "## Init dataloader"
      ]
    },
    {
      "cell_type": "code",
      "execution_count": 15,
      "metadata": {
        "id": "gHzGj5b2hB3J"
      },
      "outputs": [],
      "source": [
        "train_dataloader = DataLoader(train_dataset, batch_size=8, collate_fn=padding_function, shuffle = True, worker_init_fn=np.random.seed(seed))\n",
        "valid_dataloader = DataLoader(valid_dataset, batch_size=8, collate_fn=padding_function)\n",
        "test_dataloader = DataLoader(test_dataset, batch_size=8, collate_fn=padding_function)"
      ]
    },
    {
      "cell_type": "markdown",
      "metadata": {
        "id": "ySVvAa3JciOG"
      },
      "source": [
        "## Esempio elemento dataloader"
      ]
    },
    {
      "cell_type": "code",
      "execution_count": 16,
      "metadata": {
        "colab": {
          "base_uri": "https://localhost:8080/"
        },
        "id": "TzCfSBGmhH3m",
        "outputId": "28fcc6e1-d831-4144-9e8b-97d2c945c245"
      },
      "outputs": [
        {
          "output_type": "stream",
          "name": "stdout",
          "text": [
            "idx: 0,\n",
            "frase: ['[CLS] A remote slope of Nevado Mismi, a 5316 m peak, is the ultimate source of the river. [SEP] [PAD] [PAD] [PAD] [PAD] [PAD] [PAD] [PAD] [PAD] [PAD] [PAD] [PAD] [PAD] [PAD] [PAD] [PAD] [PAD] [PAD] [PAD] [PAD] [PAD] [PAD] [PAD] [PAD] [PAD] [PAD] [PAD] [PAD] [PAD] [PAD] [PAD] [PAD] [PAD] [PAD] [PAD] [PAD] [PAD] [PAD] [PAD] [PAD] [PAD] [PAD] [PAD] [PAD] [PAD] [PAD] [PAD] [PAD] [PAD] [PAD] [PAD] [PAD] [PAD] [PAD] [PAD] [PAD] [PAD] [PAD] [PAD] [PAD] [PAD] [PAD] [PAD] [PAD] [PAD] [PAD] [PAD] [PAD] [PAD] [PAD] [PAD] [PAD] [PAD] [PAD] [PAD] [PAD] [PAD] [PAD] [PAD] [PAD] [PAD] [PAD] [PAD] [PAD] [PAD] [PAD] [PAD] [PAD] [PAD] [PAD] [PAD] [PAD] [PAD] [PAD] [PAD] [PAD] [PAD] [PAD] [PAD] [PAD] [PAD] [PAD] [PAD] [PAD] [PAD] [PAD] [PAD] [PAD] [PAD] [PAD] [PAD] [PAD] [PAD] [PAD] [PAD] [PAD] [PAD] [PAD] [PAD] [PAD] [PAD] [PAD] [PAD] [PAD] [PAD] [PAD] [PAD] [PAD] [PAD] [PAD] [PAD] [PAD] [PAD] [PAD] [PAD] [PAD] [PAD] [PAD] [PAD] [PAD] [PAD] [PAD] [PAD] [PAD] [PAD] [PAD] [PAD] [PAD] [PAD] [PAD] [PAD] [PAD] [PAD] [PAD] [PAD] [PAD] [PAD] [PAD] [PAD] [PAD] [PAD] [PAD] [PAD] [PAD] [PAD] [PAD] [PAD] [PAD] [PAD] [PAD] [PAD] [PAD] [PAD] [PAD] [PAD] [PAD] [PAD] [PAD] [PAD] [PAD] [PAD] [PAD] [PAD] [PAD] [PAD] [PAD] [PAD] [PAD] [PAD] [PAD] [PAD] [PAD] [PAD] [PAD] [PAD] [PAD] [PAD] [PAD] [PAD] [PAD] [PAD] [PAD] [PAD] [PAD] [PAD] [PAD] [PAD] [PAD] [PAD] [PAD] [PAD] [PAD] [PAD] [PAD] [PAD] [PAD] [PAD] [PAD] [PAD] [PAD] [PAD] [PAD] [PAD] [PAD] [PAD] [PAD] [PAD] [PAD] [PAD] [PAD] [PAD] [PAD] [PAD] [PAD] [PAD] [PAD] [PAD] [PAD] [PAD] [PAD] [PAD] [PAD] [PAD] [PAD] [PAD] [PAD] [PAD] [PAD] [PAD] [PAD] [PAD] [PAD] [PAD] [PAD] [PAD] [PAD] [PAD] [PAD] [PAD] [PAD] [PAD] [PAD] [PAD] [PAD] [PAD] [PAD] [PAD] [PAD] [PAD] [PAD] [PAD] [PAD] [PAD] [PAD] [PAD] [PAD] [PAD] [PAD] [PAD] [PAD] [PAD] [PAD] [PAD] [PAD] [PAD] [PAD] [PAD] [PAD] [PAD] [PAD] [PAD] [PAD] [PAD] [PAD] [PAD] [PAD] [PAD] [PAD] [PAD] [PAD] [PAD] [PAD] [PAD] [PAD] [PAD] [PAD] [PAD] [PAD] [PAD] [PAD] [PAD] [PAD] [PAD] [PAD] [PAD] [PAD] [PAD] [PAD] [PAD] [PAD] [PAD] [PAD] [PAD] [PAD] [PAD] [PAD] [PAD] [PAD] [PAD] [PAD] [PAD] [PAD] [PAD] [PAD] [PAD] [PAD] [PAD] [PAD] [PAD] [PAD] [PAD] [PAD] [PAD] [PAD] [PAD] [PAD] [PAD] [PAD] [PAD] [PAD] [PAD] [PAD] [PAD] [PAD] [PAD] [PAD] [PAD] [PAD] [PAD] [PAD] [PAD] [PAD] [PAD] [PAD] [PAD] [PAD] [PAD] [PAD] [PAD] [PAD] [PAD] [PAD] [PAD] [PAD] [PAD] [PAD] [PAD] [PAD] [PAD] [PAD] [PAD] [PAD] [PAD] [PAD] [PAD] [PAD] [PAD] [PAD] [PAD] [PAD] [PAD] [PAD] [PAD] [PAD] [PAD] [PAD] [PAD] [PAD] [PAD] [PAD] [PAD] [PAD] [PAD] [PAD] [PAD] [PAD] [PAD] [PAD] [PAD] [PAD] [PAD] [PAD] [PAD] [PAD] [PAD] [PAD] [PAD] [PAD] [PAD] [PAD] [PAD] [PAD] [PAD] [PAD] [PAD] [PAD] [PAD] [PAD] [PAD] [PAD] [PAD] [PAD] [PAD] [PAD] [PAD] [PAD] [PAD] [PAD] [PAD] [PAD] [PAD] [PAD] [PAD] [PAD] [PAD] [PAD] [PAD] [PAD] [PAD] [PAD] [PAD] [PAD] [PAD] [PAD] [PAD] [PAD] [PAD] [PAD] [PAD] [PAD] [PAD] [PAD] [PAD] [PAD] [PAD] [PAD] [PAD] [PAD] [PAD] [PAD] [PAD] [PAD] [PAD] [PAD] [PAD] [PAD] [PAD] [PAD] [PAD] [PAD] [PAD] [PAD] [PAD] [PAD] [PAD] [PAD]', '[CLS] This oven has a meat probe so I tried it in the lasagna at a set temperature of 165 degrees. [SEP] [PAD] [PAD] [PAD] [PAD] [PAD] [PAD] [PAD] [PAD] [PAD] [PAD] [PAD] [PAD] [PAD] [PAD] [PAD] [PAD] [PAD] [PAD] [PAD] [PAD] [PAD] [PAD] [PAD] [PAD] [PAD] [PAD] [PAD] [PAD] [PAD] [PAD] [PAD] [PAD] [PAD] [PAD] [PAD] [PAD] [PAD] [PAD] [PAD] [PAD] [PAD] [PAD] [PAD] [PAD] [PAD] [PAD] [PAD] [PAD] [PAD] [PAD] [PAD] [PAD] [PAD] [PAD] [PAD] [PAD] [PAD] [PAD] [PAD] [PAD] [PAD] [PAD] [PAD] [PAD] [PAD] [PAD] [PAD] [PAD] [PAD] [PAD] [PAD] [PAD] [PAD] [PAD] [PAD] [PAD] [PAD] [PAD] [PAD] [PAD] [PAD] [PAD] [PAD] [PAD] [PAD] [PAD] [PAD] [PAD] [PAD] [PAD] [PAD] [PAD] [PAD] [PAD] [PAD] [PAD] [PAD] [PAD] [PAD] [PAD] [PAD] [PAD] [PAD] [PAD] [PAD] [PAD] [PAD] [PAD] [PAD] [PAD] [PAD] [PAD] [PAD] [PAD] [PAD] [PAD] [PAD] [PAD] [PAD] [PAD] [PAD] [PAD] [PAD] [PAD] [PAD] [PAD] [PAD] [PAD] [PAD] [PAD] [PAD] [PAD] [PAD] [PAD] [PAD] [PAD] [PAD] [PAD] [PAD] [PAD] [PAD] [PAD] [PAD] [PAD] [PAD] [PAD] [PAD] [PAD] [PAD] [PAD] [PAD] [PAD] [PAD] [PAD] [PAD] [PAD] [PAD] [PAD] [PAD] [PAD] [PAD] [PAD] [PAD] [PAD] [PAD] [PAD] [PAD] [PAD] [PAD] [PAD] [PAD] [PAD] [PAD] [PAD] [PAD] [PAD] [PAD] [PAD] [PAD] [PAD] [PAD] [PAD] [PAD] [PAD] [PAD] [PAD] [PAD] [PAD] [PAD] [PAD] [PAD] [PAD] [PAD] [PAD] [PAD] [PAD] [PAD] [PAD] [PAD] [PAD] [PAD] [PAD] [PAD] [PAD] [PAD] [PAD] [PAD] [PAD] [PAD] [PAD] [PAD] [PAD] [PAD] [PAD] [PAD] [PAD] [PAD] [PAD] [PAD] [PAD] [PAD] [PAD] [PAD] [PAD] [PAD] [PAD] [PAD] [PAD] [PAD] [PAD] [PAD] [PAD] [PAD] [PAD] [PAD] [PAD] [PAD] [PAD] [PAD] [PAD] [PAD] [PAD] [PAD] [PAD] [PAD] [PAD] [PAD] [PAD] [PAD] [PAD] [PAD] [PAD] [PAD] [PAD] [PAD] [PAD] [PAD] [PAD] [PAD] [PAD] [PAD] [PAD] [PAD] [PAD] [PAD] [PAD] [PAD] [PAD] [PAD] [PAD] [PAD] [PAD] [PAD] [PAD] [PAD] [PAD] [PAD] [PAD] [PAD] [PAD] [PAD] [PAD] [PAD] [PAD] [PAD] [PAD] [PAD] [PAD] [PAD] [PAD] [PAD] [PAD] [PAD] [PAD] [PAD] [PAD] [PAD] [PAD] [PAD] [PAD] [PAD] [PAD] [PAD] [PAD] [PAD] [PAD] [PAD] [PAD] [PAD] [PAD] [PAD] [PAD] [PAD] [PAD] [PAD] [PAD] [PAD] [PAD] [PAD] [PAD] [PAD] [PAD] [PAD] [PAD] [PAD] [PAD] [PAD] [PAD] [PAD] [PAD] [PAD] [PAD] [PAD] [PAD] [PAD] [PAD] [PAD] [PAD] [PAD] [PAD] [PAD] [PAD] [PAD] [PAD] [PAD] [PAD] [PAD] [PAD] [PAD] [PAD] [PAD] [PAD] [PAD] [PAD] [PAD] [PAD] [PAD] [PAD] [PAD] [PAD] [PAD] [PAD] [PAD] [PAD] [PAD] [PAD] [PAD] [PAD] [PAD] [PAD] [PAD] [PAD] [PAD] [PAD] [PAD] [PAD] [PAD] [PAD] [PAD] [PAD] [PAD] [PAD] [PAD] [PAD] [PAD] [PAD] [PAD] [PAD] [PAD] [PAD] [PAD] [PAD] [PAD] [PAD] [PAD] [PAD] [PAD] [PAD] [PAD] [PAD] [PAD] [PAD] [PAD] [PAD] [PAD] [PAD] [PAD] [PAD] [PAD] [PAD] [PAD] [PAD] [PAD] [PAD] [PAD] [PAD] [PAD] [PAD] [PAD] [PAD] [PAD] [PAD] [PAD] [PAD] [PAD] [PAD] [PAD] [PAD] [PAD] [PAD] [PAD] [PAD] [PAD] [PAD] [PAD] [PAD] [PAD] [PAD] [PAD] [PAD] [PAD] [PAD] [PAD] [PAD] [PAD] [PAD] [PAD] [PAD] [PAD] [PAD] [PAD] [PAD] [PAD] [PAD] [PAD] [PAD] [PAD] [PAD] [PAD] [PAD] [PAD] [PAD] [PAD] [PAD] [PAD] [PAD] [PAD] [PAD] [PAD] [PAD] [PAD] [PAD] [PAD] [PAD] [PAD] [PAD] [PAD] [PAD] [PAD] [PAD] [PAD] [PAD] [PAD] [PAD] [PAD] [PAD] [PAD]', '[CLS] The illusion has been examined in a number of different psychological experiments, and suggested as a basis for other biases. [SEP] [PAD] [PAD] [PAD] [PAD] [PAD] [PAD] [PAD] [PAD] [PAD] [PAD] [PAD] [PAD] [PAD] [PAD] [PAD] [PAD] [PAD] [PAD] [PAD] [PAD] [PAD] [PAD] [PAD] [PAD] [PAD] [PAD] [PAD] [PAD] [PAD] [PAD] [PAD] [PAD] [PAD] [PAD] [PAD] [PAD] [PAD] [PAD] [PAD] [PAD] [PAD] [PAD] [PAD] [PAD] [PAD] [PAD] [PAD] [PAD] [PAD] [PAD] [PAD] [PAD] [PAD] [PAD] [PAD] [PAD] [PAD] [PAD] [PAD] [PAD] [PAD] [PAD] [PAD] [PAD] [PAD] [PAD] [PAD] [PAD] [PAD] [PAD] [PAD] [PAD] [PAD] [PAD] [PAD] [PAD] [PAD] [PAD] [PAD] [PAD] [PAD] [PAD] [PAD] [PAD] [PAD] [PAD] [PAD] [PAD] [PAD] [PAD] [PAD] [PAD] [PAD] [PAD] [PAD] [PAD] [PAD] [PAD] [PAD] [PAD] [PAD] [PAD] [PAD] [PAD] [PAD] [PAD] [PAD] [PAD] [PAD] [PAD] [PAD] [PAD] [PAD] [PAD] [PAD] [PAD] [PAD] [PAD] [PAD] [PAD] [PAD] [PAD] [PAD] [PAD] [PAD] [PAD] [PAD] [PAD] [PAD] [PAD] [PAD] [PAD] [PAD] [PAD] [PAD] [PAD] [PAD] [PAD] [PAD] [PAD] [PAD] [PAD] [PAD] [PAD] [PAD] [PAD] [PAD] [PAD] [PAD] [PAD] [PAD] [PAD] [PAD] [PAD] [PAD] [PAD] [PAD] [PAD] [PAD] [PAD] [PAD] [PAD] [PAD] [PAD] [PAD] [PAD] [PAD] [PAD] [PAD] [PAD] [PAD] [PAD] [PAD] [PAD] [PAD] [PAD] [PAD] [PAD] [PAD] [PAD] [PAD] [PAD] [PAD] [PAD] [PAD] [PAD] [PAD] [PAD] [PAD] [PAD] [PAD] [PAD] [PAD] [PAD] [PAD] [PAD] [PAD] [PAD] [PAD] [PAD] [PAD] [PAD] [PAD] [PAD] [PAD] [PAD] [PAD] [PAD] [PAD] [PAD] [PAD] [PAD] [PAD] [PAD] [PAD] [PAD] [PAD] [PAD] [PAD] [PAD] [PAD] [PAD] [PAD] [PAD] [PAD] [PAD] [PAD] [PAD] [PAD] [PAD] [PAD] [PAD] [PAD] [PAD] [PAD] [PAD] [PAD] [PAD] [PAD] [PAD] [PAD] [PAD] [PAD] [PAD] [PAD] [PAD] [PAD] [PAD] [PAD] [PAD] [PAD] [PAD] [PAD] [PAD] [PAD] [PAD] [PAD] [PAD] [PAD] [PAD] [PAD] [PAD] [PAD] [PAD] [PAD] [PAD] [PAD] [PAD] [PAD] [PAD] [PAD] [PAD] [PAD] [PAD] [PAD] [PAD] [PAD] [PAD] [PAD] [PAD] [PAD] [PAD] [PAD] [PAD] [PAD] [PAD] [PAD] [PAD] [PAD] [PAD] [PAD] [PAD] [PAD] [PAD] [PAD] [PAD] [PAD] [PAD] [PAD] [PAD] [PAD] [PAD] [PAD] [PAD] [PAD] [PAD] [PAD] [PAD] [PAD] [PAD] [PAD] [PAD] [PAD] [PAD] [PAD] [PAD] [PAD] [PAD] [PAD] [PAD] [PAD] [PAD] [PAD] [PAD] [PAD] [PAD] [PAD] [PAD] [PAD] [PAD] [PAD] [PAD] [PAD] [PAD] [PAD] [PAD] [PAD] [PAD] [PAD] [PAD] [PAD] [PAD] [PAD] [PAD] [PAD] [PAD] [PAD] [PAD] [PAD] [PAD] [PAD] [PAD] [PAD] [PAD] [PAD] [PAD] [PAD] [PAD] [PAD] [PAD] [PAD] [PAD] [PAD] [PAD] [PAD] [PAD] [PAD] [PAD] [PAD] [PAD] [PAD] [PAD] [PAD] [PAD] [PAD] [PAD] [PAD] [PAD] [PAD] [PAD] [PAD] [PAD] [PAD] [PAD] [PAD] [PAD] [PAD] [PAD] [PAD] [PAD] [PAD] [PAD] [PAD] [PAD] [PAD] [PAD] [PAD] [PAD] [PAD] [PAD] [PAD] [PAD] [PAD] [PAD] [PAD] [PAD] [PAD] [PAD] [PAD] [PAD] [PAD] [PAD] [PAD] [PAD] [PAD] [PAD] [PAD] [PAD] [PAD] [PAD] [PAD] [PAD] [PAD] [PAD] [PAD] [PAD] [PAD] [PAD] [PAD] [PAD] [PAD] [PAD] [PAD] [PAD] [PAD] [PAD] [PAD] [PAD] [PAD] [PAD] [PAD] [PAD] [PAD] [PAD] [PAD] [PAD] [PAD] [PAD] [PAD] [PAD] [PAD] [PAD] [PAD] [PAD] [PAD] [PAD] [PAD] [PAD] [PAD] [PAD] [PAD] [PAD] [PAD] [PAD] [PAD] [PAD] [PAD] [PAD] [PAD] [PAD] [PAD] [PAD] [PAD] [PAD] [PAD] [PAD] [PAD] [PAD] [PAD] [PAD] [PAD] [PAD] [PAD] [PAD] [PAD] [PAD] [PAD]', '[CLS] This document is part of the WHO information series on school health. [SEP] [PAD] [PAD] [PAD] [PAD] [PAD] [PAD] [PAD] [PAD] [PAD] [PAD] [PAD] [PAD] [PAD] [PAD] [PAD] [PAD] [PAD] [PAD] [PAD] [PAD] [PAD] [PAD] [PAD] [PAD] [PAD] [PAD] [PAD] [PAD] [PAD] [PAD] [PAD] [PAD] [PAD] [PAD] [PAD] [PAD] [PAD] [PAD] [PAD] [PAD] [PAD] [PAD] [PAD] [PAD] [PAD] [PAD] [PAD] [PAD] [PAD] [PAD] [PAD] [PAD] [PAD] [PAD] [PAD] [PAD] [PAD] [PAD] [PAD] [PAD] [PAD] [PAD] [PAD] [PAD] [PAD] [PAD] [PAD] [PAD] [PAD] [PAD] [PAD] [PAD] [PAD] [PAD] [PAD] [PAD] [PAD] [PAD] [PAD] [PAD] [PAD] [PAD] [PAD] [PAD] [PAD] [PAD] [PAD] [PAD] [PAD] [PAD] [PAD] [PAD] [PAD] [PAD] [PAD] [PAD] [PAD] [PAD] [PAD] [PAD] [PAD] [PAD] [PAD] [PAD] [PAD] [PAD] [PAD] [PAD] [PAD] [PAD] [PAD] [PAD] [PAD] [PAD] [PAD] [PAD] [PAD] [PAD] [PAD] [PAD] [PAD] [PAD] [PAD] [PAD] [PAD] [PAD] [PAD] [PAD] [PAD] [PAD] [PAD] [PAD] [PAD] [PAD] [PAD] [PAD] [PAD] [PAD] [PAD] [PAD] [PAD] [PAD] [PAD] [PAD] [PAD] [PAD] [PAD] [PAD] [PAD] [PAD] [PAD] [PAD] [PAD] [PAD] [PAD] [PAD] [PAD] [PAD] [PAD] [PAD] [PAD] [PAD] [PAD] [PAD] [PAD] [PAD] [PAD] [PAD] [PAD] [PAD] [PAD] [PAD] [PAD] [PAD] [PAD] [PAD] [PAD] [PAD] [PAD] [PAD] [PAD] [PAD] [PAD] [PAD] [PAD] [PAD] [PAD] [PAD] [PAD] [PAD] [PAD] [PAD] [PAD] [PAD] [PAD] [PAD] [PAD] [PAD] [PAD] [PAD] [PAD] [PAD] [PAD] [PAD] [PAD] [PAD] [PAD] [PAD] [PAD] [PAD] [PAD] [PAD] [PAD] [PAD] [PAD] [PAD] [PAD] [PAD] [PAD] [PAD] [PAD] [PAD] [PAD] [PAD] [PAD] [PAD] [PAD] [PAD] [PAD] [PAD] [PAD] [PAD] [PAD] [PAD] [PAD] [PAD] [PAD] [PAD] [PAD] [PAD] [PAD] [PAD] [PAD] [PAD] [PAD] [PAD] [PAD] [PAD] [PAD] [PAD] [PAD] [PAD] [PAD] [PAD] [PAD] [PAD] [PAD] [PAD] [PAD] [PAD] [PAD] [PAD] [PAD] [PAD] [PAD] [PAD] [PAD] [PAD] [PAD] [PAD] [PAD] [PAD] [PAD] [PAD] [PAD] [PAD] [PAD] [PAD] [PAD] [PAD] [PAD] [PAD] [PAD] [PAD] [PAD] [PAD] [PAD] [PAD] [PAD] [PAD] [PAD] [PAD] [PAD] [PAD] [PAD] [PAD] [PAD] [PAD] [PAD] [PAD] [PAD] [PAD] [PAD] [PAD] [PAD] [PAD] [PAD] [PAD] [PAD] [PAD] [PAD] [PAD] [PAD] [PAD] [PAD] [PAD] [PAD] [PAD] [PAD] [PAD] [PAD] [PAD] [PAD] [PAD] [PAD] [PAD] [PAD] [PAD] [PAD] [PAD] [PAD] [PAD] [PAD] [PAD] [PAD] [PAD] [PAD] [PAD] [PAD] [PAD] [PAD] [PAD] [PAD] [PAD] [PAD] [PAD] [PAD] [PAD] [PAD] [PAD] [PAD] [PAD] [PAD] [PAD] [PAD] [PAD] [PAD] [PAD] [PAD] [PAD] [PAD] [PAD] [PAD] [PAD] [PAD] [PAD] [PAD] [PAD] [PAD] [PAD] [PAD] [PAD] [PAD] [PAD] [PAD] [PAD] [PAD] [PAD] [PAD] [PAD] [PAD] [PAD] [PAD] [PAD] [PAD] [PAD] [PAD] [PAD] [PAD] [PAD] [PAD] [PAD] [PAD] [PAD] [PAD] [PAD] [PAD] [PAD] [PAD] [PAD] [PAD] [PAD] [PAD] [PAD] [PAD] [PAD] [PAD] [PAD] [PAD] [PAD] [PAD] [PAD] [PAD] [PAD] [PAD] [PAD] [PAD] [PAD] [PAD] [PAD] [PAD] [PAD] [PAD] [PAD] [PAD] [PAD] [PAD] [PAD] [PAD] [PAD] [PAD] [PAD] [PAD] [PAD] [PAD] [PAD] [PAD] [PAD] [PAD] [PAD] [PAD] [PAD] [PAD] [PAD] [PAD] [PAD] [PAD] [PAD] [PAD] [PAD] [PAD] [PAD] [PAD] [PAD] [PAD] [PAD] [PAD] [PAD] [PAD] [PAD] [PAD] [PAD] [PAD] [PAD] [PAD] [PAD] [PAD] [PAD] [PAD] [PAD] [PAD] [PAD] [PAD] [PAD] [PAD] [PAD] [PAD] [PAD] [PAD] [PAD] [PAD] [PAD] [PAD] [PAD] [PAD] [PAD] [PAD] [PAD] [PAD] [PAD] [PAD] [PAD] [PAD] [PAD] [PAD] [PAD] [PAD]', '[CLS] As the earth revolves around the sun, the place where light shines the brightest changes. [SEP] [PAD] [PAD] [PAD] [PAD] [PAD] [PAD] [PAD] [PAD] [PAD] [PAD] [PAD] [PAD] [PAD] [PAD] [PAD] [PAD] [PAD] [PAD] [PAD] [PAD] [PAD] [PAD] [PAD] [PAD] [PAD] [PAD] [PAD] [PAD] [PAD] [PAD] [PAD] [PAD] [PAD] [PAD] [PAD] [PAD] [PAD] [PAD] [PAD] [PAD] [PAD] [PAD] [PAD] [PAD] [PAD] [PAD] [PAD] [PAD] [PAD] [PAD] [PAD] [PAD] [PAD] [PAD] [PAD] [PAD] [PAD] [PAD] [PAD] [PAD] [PAD] [PAD] [PAD] [PAD] [PAD] [PAD] [PAD] [PAD] [PAD] [PAD] [PAD] [PAD] [PAD] [PAD] [PAD] [PAD] [PAD] [PAD] [PAD] [PAD] [PAD] [PAD] [PAD] [PAD] [PAD] [PAD] [PAD] [PAD] [PAD] [PAD] [PAD] [PAD] [PAD] [PAD] [PAD] [PAD] [PAD] [PAD] [PAD] [PAD] [PAD] [PAD] [PAD] [PAD] [PAD] [PAD] [PAD] [PAD] [PAD] [PAD] [PAD] [PAD] [PAD] [PAD] [PAD] [PAD] [PAD] [PAD] [PAD] [PAD] [PAD] [PAD] [PAD] [PAD] [PAD] [PAD] [PAD] [PAD] [PAD] [PAD] [PAD] [PAD] [PAD] [PAD] [PAD] [PAD] [PAD] [PAD] [PAD] [PAD] [PAD] [PAD] [PAD] [PAD] [PAD] [PAD] [PAD] [PAD] [PAD] [PAD] [PAD] [PAD] [PAD] [PAD] [PAD] [PAD] [PAD] [PAD] [PAD] [PAD] [PAD] [PAD] [PAD] [PAD] [PAD] [PAD] [PAD] [PAD] [PAD] [PAD] [PAD] [PAD] [PAD] [PAD] [PAD] [PAD] [PAD] [PAD] [PAD] [PAD] [PAD] [PAD] [PAD] [PAD] [PAD] [PAD] [PAD] [PAD] [PAD] [PAD] [PAD] [PAD] [PAD] [PAD] [PAD] [PAD] [PAD] [PAD] [PAD] [PAD] [PAD] [PAD] [PAD] [PAD] [PAD] [PAD] [PAD] [PAD] [PAD] [PAD] [PAD] [PAD] [PAD] [PAD] [PAD] [PAD] [PAD] [PAD] [PAD] [PAD] [PAD] [PAD] [PAD] [PAD] [PAD] [PAD] [PAD] [PAD] [PAD] [PAD] [PAD] [PAD] [PAD] [PAD] [PAD] [PAD] [PAD] [PAD] [PAD] [PAD] [PAD] [PAD] [PAD] [PAD] [PAD] [PAD] [PAD] [PAD] [PAD] [PAD] [PAD] [PAD] [PAD] [PAD] [PAD] [PAD] [PAD] [PAD] [PAD] [PAD] [PAD] [PAD] [PAD] [PAD] [PAD] [PAD] [PAD] [PAD] [PAD] [PAD] [PAD] [PAD] [PAD] [PAD] [PAD] [PAD] [PAD] [PAD] [PAD] [PAD] [PAD] [PAD] [PAD] [PAD] [PAD] [PAD] [PAD] [PAD] [PAD] [PAD] [PAD] [PAD] [PAD] [PAD] [PAD] [PAD] [PAD] [PAD] [PAD] [PAD] [PAD] [PAD] [PAD] [PAD] [PAD] [PAD] [PAD] [PAD] [PAD] [PAD] [PAD] [PAD] [PAD] [PAD] [PAD] [PAD] [PAD] [PAD] [PAD] [PAD] [PAD] [PAD] [PAD] [PAD] [PAD] [PAD] [PAD] [PAD] [PAD] [PAD] [PAD] [PAD] [PAD] [PAD] [PAD] [PAD] [PAD] [PAD] [PAD] [PAD] [PAD] [PAD] [PAD] [PAD] [PAD] [PAD] [PAD] [PAD] [PAD] [PAD] [PAD] [PAD] [PAD] [PAD] [PAD] [PAD] [PAD] [PAD] [PAD] [PAD] [PAD] [PAD] [PAD] [PAD] [PAD] [PAD] [PAD] [PAD] [PAD] [PAD] [PAD] [PAD] [PAD] [PAD] [PAD] [PAD] [PAD] [PAD] [PAD] [PAD] [PAD] [PAD] [PAD] [PAD] [PAD] [PAD] [PAD] [PAD] [PAD] [PAD] [PAD] [PAD] [PAD] [PAD] [PAD] [PAD] [PAD] [PAD] [PAD] [PAD] [PAD] [PAD] [PAD] [PAD] [PAD] [PAD] [PAD] [PAD] [PAD] [PAD] [PAD] [PAD] [PAD] [PAD] [PAD] [PAD] [PAD] [PAD] [PAD] [PAD] [PAD] [PAD] [PAD] [PAD] [PAD] [PAD] [PAD] [PAD] [PAD] [PAD] [PAD] [PAD] [PAD] [PAD] [PAD] [PAD] [PAD] [PAD] [PAD] [PAD] [PAD] [PAD] [PAD] [PAD] [PAD] [PAD] [PAD] [PAD] [PAD] [PAD] [PAD] [PAD] [PAD] [PAD] [PAD] [PAD] [PAD] [PAD] [PAD] [PAD] [PAD] [PAD] [PAD] [PAD] [PAD] [PAD] [PAD] [PAD] [PAD] [PAD] [PAD] [PAD] [PAD] [PAD] [PAD] [PAD] [PAD] [PAD] [PAD] [PAD] [PAD] [PAD] [PAD] [PAD] [PAD] [PAD] [PAD] [PAD] [PAD] [PAD] [PAD]', '[CLS] Todd was quite as much on a level with his compeers of the profession, in that country, as was Marmaduke with his brethren on the bench. [SEP] [PAD] [PAD] [PAD] [PAD] [PAD] [PAD] [PAD] [PAD] [PAD] [PAD] [PAD] [PAD] [PAD] [PAD] [PAD] [PAD] [PAD] [PAD] [PAD] [PAD] [PAD] [PAD] [PAD] [PAD] [PAD] [PAD] [PAD] [PAD] [PAD] [PAD] [PAD] [PAD] [PAD] [PAD] [PAD] [PAD] [PAD] [PAD] [PAD] [PAD] [PAD] [PAD] [PAD] [PAD] [PAD] [PAD] [PAD] [PAD] [PAD] [PAD] [PAD] [PAD] [PAD] [PAD] [PAD] [PAD] [PAD] [PAD] [PAD] [PAD] [PAD] [PAD] [PAD] [PAD] [PAD] [PAD] [PAD] [PAD] [PAD] [PAD] [PAD] [PAD] [PAD] [PAD] [PAD] [PAD] [PAD] [PAD] [PAD] [PAD] [PAD] [PAD] [PAD] [PAD] [PAD] [PAD] [PAD] [PAD] [PAD] [PAD] [PAD] [PAD] [PAD] [PAD] [PAD] [PAD] [PAD] [PAD] [PAD] [PAD] [PAD] [PAD] [PAD] [PAD] [PAD] [PAD] [PAD] [PAD] [PAD] [PAD] [PAD] [PAD] [PAD] [PAD] [PAD] [PAD] [PAD] [PAD] [PAD] [PAD] [PAD] [PAD] [PAD] [PAD] [PAD] [PAD] [PAD] [PAD] [PAD] [PAD] [PAD] [PAD] [PAD] [PAD] [PAD] [PAD] [PAD] [PAD] [PAD] [PAD] [PAD] [PAD] [PAD] [PAD] [PAD] [PAD] [PAD] [PAD] [PAD] [PAD] [PAD] [PAD] [PAD] [PAD] [PAD] [PAD] [PAD] [PAD] [PAD] [PAD] [PAD] [PAD] [PAD] [PAD] [PAD] [PAD] [PAD] [PAD] [PAD] [PAD] [PAD] [PAD] [PAD] [PAD] [PAD] [PAD] [PAD] [PAD] [PAD] [PAD] [PAD] [PAD] [PAD] [PAD] [PAD] [PAD] [PAD] [PAD] [PAD] [PAD] [PAD] [PAD] [PAD] [PAD] [PAD] [PAD] [PAD] [PAD] [PAD] [PAD] [PAD] [PAD] [PAD] [PAD] [PAD] [PAD] [PAD] [PAD] [PAD] [PAD] [PAD] [PAD] [PAD] [PAD] [PAD] [PAD] [PAD] [PAD] [PAD] [PAD] [PAD] [PAD] [PAD] [PAD] [PAD] [PAD] [PAD] [PAD] [PAD] [PAD] [PAD] [PAD] [PAD] [PAD] [PAD] [PAD] [PAD] [PAD] [PAD] [PAD] [PAD] [PAD] [PAD] [PAD] [PAD] [PAD] [PAD] [PAD] [PAD] [PAD] [PAD] [PAD] [PAD] [PAD] [PAD] [PAD] [PAD] [PAD] [PAD] [PAD] [PAD] [PAD] [PAD] [PAD] [PAD] [PAD] [PAD] [PAD] [PAD] [PAD] [PAD] [PAD] [PAD] [PAD] [PAD] [PAD] [PAD] [PAD] [PAD] [PAD] [PAD] [PAD] [PAD] [PAD] [PAD] [PAD] [PAD] [PAD] [PAD] [PAD] [PAD] [PAD] [PAD] [PAD] [PAD] [PAD] [PAD] [PAD] [PAD] [PAD] [PAD] [PAD] [PAD] [PAD] [PAD] [PAD] [PAD] [PAD] [PAD] [PAD] [PAD] [PAD] [PAD] [PAD] [PAD] [PAD] [PAD] [PAD] [PAD] [PAD] [PAD] [PAD] [PAD] [PAD] [PAD] [PAD] [PAD] [PAD] [PAD] [PAD] [PAD] [PAD] [PAD] [PAD] [PAD] [PAD] [PAD] [PAD] [PAD] [PAD] [PAD] [PAD] [PAD] [PAD] [PAD] [PAD] [PAD] [PAD] [PAD] [PAD] [PAD] [PAD] [PAD] [PAD] [PAD] [PAD] [PAD] [PAD] [PAD] [PAD] [PAD] [PAD] [PAD] [PAD] [PAD] [PAD] [PAD] [PAD] [PAD] [PAD] [PAD] [PAD] [PAD] [PAD] [PAD] [PAD] [PAD] [PAD] [PAD] [PAD] [PAD] [PAD] [PAD] [PAD] [PAD] [PAD] [PAD] [PAD] [PAD] [PAD] [PAD] [PAD] [PAD] [PAD] [PAD] [PAD] [PAD] [PAD] [PAD] [PAD] [PAD] [PAD] [PAD] [PAD] [PAD] [PAD] [PAD] [PAD] [PAD] [PAD] [PAD] [PAD] [PAD] [PAD] [PAD] [PAD] [PAD] [PAD] [PAD] [PAD] [PAD] [PAD] [PAD] [PAD] [PAD] [PAD] [PAD] [PAD] [PAD] [PAD] [PAD] [PAD] [PAD] [PAD] [PAD] [PAD] [PAD] [PAD] [PAD] [PAD] [PAD] [PAD] [PAD] [PAD] [PAD] [PAD] [PAD] [PAD] [PAD] [PAD] [PAD] [PAD] [PAD] [PAD] [PAD] [PAD] [PAD] [PAD] [PAD] [PAD] [PAD] [PAD] [PAD] [PAD] [PAD] [PAD] [PAD] [PAD] [PAD] [PAD] [PAD] [PAD] [PAD] [PAD] [PAD]', '[CLS] Our newsroom contains the latest developments in UK foreign policy and news on the work of the British Embassy and Consulates around the US. [SEP] [PAD] [PAD] [PAD] [PAD] [PAD] [PAD] [PAD] [PAD] [PAD] [PAD] [PAD] [PAD] [PAD] [PAD] [PAD] [PAD] [PAD] [PAD] [PAD] [PAD] [PAD] [PAD] [PAD] [PAD] [PAD] [PAD] [PAD] [PAD] [PAD] [PAD] [PAD] [PAD] [PAD] [PAD] [PAD] [PAD] [PAD] [PAD] [PAD] [PAD] [PAD] [PAD] [PAD] [PAD] [PAD] [PAD] [PAD] [PAD] [PAD] [PAD] [PAD] [PAD] [PAD] [PAD] [PAD] [PAD] [PAD] [PAD] [PAD] [PAD] [PAD] [PAD] [PAD] [PAD] [PAD] [PAD] [PAD] [PAD] [PAD] [PAD] [PAD] [PAD] [PAD] [PAD] [PAD] [PAD] [PAD] [PAD] [PAD] [PAD] [PAD] [PAD] [PAD] [PAD] [PAD] [PAD] [PAD] [PAD] [PAD] [PAD] [PAD] [PAD] [PAD] [PAD] [PAD] [PAD] [PAD] [PAD] [PAD] [PAD] [PAD] [PAD] [PAD] [PAD] [PAD] [PAD] [PAD] [PAD] [PAD] [PAD] [PAD] [PAD] [PAD] [PAD] [PAD] [PAD] [PAD] [PAD] [PAD] [PAD] [PAD] [PAD] [PAD] [PAD] [PAD] [PAD] [PAD] [PAD] [PAD] [PAD] [PAD] [PAD] [PAD] [PAD] [PAD] [PAD] [PAD] [PAD] [PAD] [PAD] [PAD] [PAD] [PAD] [PAD] [PAD] [PAD] [PAD] [PAD] [PAD] [PAD] [PAD] [PAD] [PAD] [PAD] [PAD] [PAD] [PAD] [PAD] [PAD] [PAD] [PAD] [PAD] [PAD] [PAD] [PAD] [PAD] [PAD] [PAD] [PAD] [PAD] [PAD] [PAD] [PAD] [PAD] [PAD] [PAD] [PAD] [PAD] [PAD] [PAD] [PAD] [PAD] [PAD] [PAD] [PAD] [PAD] [PAD] [PAD] [PAD] [PAD] [PAD] [PAD] [PAD] [PAD] [PAD] [PAD] [PAD] [PAD] [PAD] [PAD] [PAD] [PAD] [PAD] [PAD] [PAD] [PAD] [PAD] [PAD] [PAD] [PAD] [PAD] [PAD] [PAD] [PAD] [PAD] [PAD] [PAD] [PAD] [PAD] [PAD] [PAD] [PAD] [PAD] [PAD] [PAD] [PAD] [PAD] [PAD] [PAD] [PAD] [PAD] [PAD] [PAD] [PAD] [PAD] [PAD] [PAD] [PAD] [PAD] [PAD] [PAD] [PAD] [PAD] [PAD] [PAD] [PAD] [PAD] [PAD] [PAD] [PAD] [PAD] [PAD] [PAD] [PAD] [PAD] [PAD] [PAD] [PAD] [PAD] [PAD] [PAD] [PAD] [PAD] [PAD] [PAD] [PAD] [PAD] [PAD] [PAD] [PAD] [PAD] [PAD] [PAD] [PAD] [PAD] [PAD] [PAD] [PAD] [PAD] [PAD] [PAD] [PAD] [PAD] [PAD] [PAD] [PAD] [PAD] [PAD] [PAD] [PAD] [PAD] [PAD] [PAD] [PAD] [PAD] [PAD] [PAD] [PAD] [PAD] [PAD] [PAD] [PAD] [PAD] [PAD] [PAD] [PAD] [PAD] [PAD] [PAD] [PAD] [PAD] [PAD] [PAD] [PAD] [PAD] [PAD] [PAD] [PAD] [PAD] [PAD] [PAD] [PAD] [PAD] [PAD] [PAD] [PAD] [PAD] [PAD] [PAD] [PAD] [PAD] [PAD] [PAD] [PAD] [PAD] [PAD] [PAD] [PAD] [PAD] [PAD] [PAD] [PAD] [PAD] [PAD] [PAD] [PAD] [PAD] [PAD] [PAD] [PAD] [PAD] [PAD] [PAD] [PAD] [PAD] [PAD] [PAD] [PAD] [PAD] [PAD] [PAD] [PAD] [PAD] [PAD] [PAD] [PAD] [PAD] [PAD] [PAD] [PAD] [PAD] [PAD] [PAD] [PAD] [PAD] [PAD] [PAD] [PAD] [PAD] [PAD] [PAD] [PAD] [PAD] [PAD] [PAD] [PAD] [PAD] [PAD] [PAD] [PAD] [PAD] [PAD] [PAD] [PAD] [PAD] [PAD] [PAD] [PAD] [PAD] [PAD] [PAD] [PAD] [PAD] [PAD] [PAD] [PAD] [PAD] [PAD] [PAD] [PAD] [PAD] [PAD] [PAD] [PAD] [PAD] [PAD] [PAD] [PAD] [PAD] [PAD] [PAD] [PAD] [PAD] [PAD] [PAD] [PAD] [PAD] [PAD] [PAD] [PAD] [PAD] [PAD] [PAD] [PAD] [PAD] [PAD] [PAD] [PAD] [PAD] [PAD] [PAD] [PAD] [PAD] [PAD] [PAD] [PAD] [PAD] [PAD] [PAD] [PAD] [PAD] [PAD] [PAD] [PAD] [PAD] [PAD] [PAD] [PAD] [PAD] [PAD] [PAD] [PAD] [PAD] [PAD] [PAD] [PAD] [PAD] [PAD] [PAD] [PAD] [PAD] [PAD] [PAD] [PAD] [PAD] [PAD] [PAD] [PAD] [PAD] [PAD] [PAD] [PAD] [PAD]', '[CLS] The child was carefully wrapped and bound into the cradle by means of a cord. [SEP] [PAD] [PAD] [PAD] [PAD] [PAD] [PAD] [PAD] [PAD] [PAD] [PAD] [PAD] [PAD] [PAD] [PAD] [PAD] [PAD] [PAD] [PAD] [PAD] [PAD] [PAD] [PAD] [PAD] [PAD] [PAD] [PAD] [PAD] [PAD] [PAD] [PAD] [PAD] [PAD] [PAD] [PAD] [PAD] [PAD] [PAD] [PAD] [PAD] [PAD] [PAD] [PAD] [PAD] [PAD] [PAD] [PAD] [PAD] [PAD] [PAD] [PAD] [PAD] [PAD] [PAD] [PAD] [PAD] [PAD] [PAD] [PAD] [PAD] [PAD] [PAD] [PAD] [PAD] [PAD] [PAD] [PAD] [PAD] [PAD] [PAD] [PAD] [PAD] [PAD] [PAD] [PAD] [PAD] [PAD] [PAD] [PAD] [PAD] [PAD] [PAD] [PAD] [PAD] [PAD] [PAD] [PAD] [PAD] [PAD] [PAD] [PAD] [PAD] [PAD] [PAD] [PAD] [PAD] [PAD] [PAD] [PAD] [PAD] [PAD] [PAD] [PAD] [PAD] [PAD] [PAD] [PAD] [PAD] [PAD] [PAD] [PAD] [PAD] [PAD] [PAD] [PAD] [PAD] [PAD] [PAD] [PAD] [PAD] [PAD] [PAD] [PAD] [PAD] [PAD] [PAD] [PAD] [PAD] [PAD] [PAD] [PAD] [PAD] [PAD] [PAD] [PAD] [PAD] [PAD] [PAD] [PAD] [PAD] [PAD] [PAD] [PAD] [PAD] [PAD] [PAD] [PAD] [PAD] [PAD] [PAD] [PAD] [PAD] [PAD] [PAD] [PAD] [PAD] [PAD] [PAD] [PAD] [PAD] [PAD] [PAD] [PAD] [PAD] [PAD] [PAD] [PAD] [PAD] [PAD] [PAD] [PAD] [PAD] [PAD] [PAD] [PAD] [PAD] [PAD] [PAD] [PAD] [PAD] [PAD] [PAD] [PAD] [PAD] [PAD] [PAD] [PAD] [PAD] [PAD] [PAD] [PAD] [PAD] [PAD] [PAD] [PAD] [PAD] [PAD] [PAD] [PAD] [PAD] [PAD] [PAD] [PAD] [PAD] [PAD] [PAD] [PAD] [PAD] [PAD] [PAD] [PAD] [PAD] [PAD] [PAD] [PAD] [PAD] [PAD] [PAD] [PAD] [PAD] [PAD] [PAD] [PAD] [PAD] [PAD] [PAD] [PAD] [PAD] [PAD] [PAD] [PAD] [PAD] [PAD] [PAD] [PAD] [PAD] [PAD] [PAD] [PAD] [PAD] [PAD] [PAD] [PAD] [PAD] [PAD] [PAD] [PAD] [PAD] [PAD] [PAD] [PAD] [PAD] [PAD] [PAD] [PAD] [PAD] [PAD] [PAD] [PAD] [PAD] [PAD] [PAD] [PAD] [PAD] [PAD] [PAD] [PAD] [PAD] [PAD] [PAD] [PAD] [PAD] [PAD] [PAD] [PAD] [PAD] [PAD] [PAD] [PAD] [PAD] [PAD] [PAD] [PAD] [PAD] [PAD] [PAD] [PAD] [PAD] [PAD] [PAD] [PAD] [PAD] [PAD] [PAD] [PAD] [PAD] [PAD] [PAD] [PAD] [PAD] [PAD] [PAD] [PAD] [PAD] [PAD] [PAD] [PAD] [PAD] [PAD] [PAD] [PAD] [PAD] [PAD] [PAD] [PAD] [PAD] [PAD] [PAD] [PAD] [PAD] [PAD] [PAD] [PAD] [PAD] [PAD] [PAD] [PAD] [PAD] [PAD] [PAD] [PAD] [PAD] [PAD] [PAD] [PAD] [PAD] [PAD] [PAD] [PAD] [PAD] [PAD] [PAD] [PAD] [PAD] [PAD] [PAD] [PAD] [PAD] [PAD] [PAD] [PAD] [PAD] [PAD] [PAD] [PAD] [PAD] [PAD] [PAD] [PAD] [PAD] [PAD] [PAD] [PAD] [PAD] [PAD] [PAD] [PAD] [PAD] [PAD] [PAD] [PAD] [PAD] [PAD] [PAD] [PAD] [PAD] [PAD] [PAD] [PAD] [PAD] [PAD] [PAD] [PAD] [PAD] [PAD] [PAD] [PAD] [PAD] [PAD] [PAD] [PAD] [PAD] [PAD] [PAD] [PAD] [PAD] [PAD] [PAD] [PAD] [PAD] [PAD] [PAD] [PAD] [PAD] [PAD] [PAD] [PAD] [PAD] [PAD] [PAD] [PAD] [PAD] [PAD] [PAD] [PAD] [PAD] [PAD] [PAD] [PAD] [PAD] [PAD] [PAD] [PAD] [PAD] [PAD] [PAD] [PAD] [PAD] [PAD] [PAD] [PAD] [PAD] [PAD] [PAD] [PAD] [PAD] [PAD] [PAD] [PAD] [PAD] [PAD] [PAD] [PAD] [PAD] [PAD] [PAD] [PAD] [PAD] [PAD] [PAD] [PAD] [PAD] [PAD] [PAD] [PAD] [PAD] [PAD] [PAD] [PAD] [PAD] [PAD] [PAD] [PAD] [PAD] [PAD] [PAD] [PAD] [PAD] [PAD] [PAD] [PAD] [PAD] [PAD] [PAD] [PAD] [PAD] [PAD] [PAD] [PAD] [PAD] [PAD] [PAD] [PAD] [PAD] [PAD] [PAD] [PAD] [PAD] [PAD] [PAD] [PAD] [PAD] [PAD] [PAD] [PAD]']         \n",
            "frase encoded: tensor([[  101,   138,  6456,  ...,     0,     0,     0],\n",
            "        [  101,  1188, 19645,  ...,     0,     0,     0],\n",
            "        [  101,  1109, 14488,  ...,     0,     0,     0],\n",
            "        ...,\n",
            "        [  101,  6365,  1108,  ...,     0,     0,     0],\n",
            "        [  101,  3458,  2371,  ...,     0,     0,     0],\n",
            "        [  101,  1109,  2027,  ...,     0,     0,     0]]), shape: torch.Size([8, 512]),         \n",
            "attention mask: tensor([[1, 1, 1,  ..., 0, 0, 0],\n",
            "        [1, 1, 1,  ..., 0, 0, 0],\n",
            "        [1, 1, 1,  ..., 0, 0, 0],\n",
            "        ...,\n",
            "        [1, 1, 1,  ..., 0, 0, 0],\n",
            "        [1, 1, 1,  ..., 0, 0, 0],\n",
            "        [1, 1, 1,  ..., 0, 0, 0]]), shape: torch.Size([8, 512]),         \n",
            "pretrained_words: tensor([[   0,   26, 6787,  ...,    0,    0,    0],\n",
            "        [   0,   37, 1039,  ...,    0,    0,    0],\n",
            "        [   0,    8, 7780,  ...,    0,    0,    0],\n",
            "        ...,\n",
            "        [   0, 7987,   12,  ...,    0,    0,    0],\n",
            "        [   0,  312, 7223,  ...,    0,    0,    0],\n",
            "        [   0,    8,  392,  ...,    0,    0,    0]]), shape: torch.Size([8, 512]),         \n",
            "entities: tensor([[ 0,  1,  1,  ...,  0,  0,  0],\n",
            "        [ 0,  1, 11,  ...,  0,  0,  0],\n",
            "        [ 0,  1, 16,  ...,  0,  0,  0],\n",
            "        ...,\n",
            "        [ 0,  1,  1,  ...,  0,  0,  0],\n",
            "        [ 0,  1, 10,  ...,  0,  0,  0],\n",
            "        [ 0,  1,  5,  ...,  0,  0,  0]]), shape: torch.Size([8, 512])        \n",
            "lemmas: tensor([[   0,   26, 6249,  ...,    0,    0,    0],\n",
            "        [   0,   36, 1121,  ...,    0,    0,    0],\n",
            "        [   0,    8, 7149,  ...,    0,    0,    0],\n",
            "        ...,\n",
            "        [   0, 7329,   12,  ...,    0,    0,    0],\n",
            "        [   0,  356, 6647,  ...,    0,    0,    0],\n",
            "        [   0,    8,  159,  ...,    0,    0,    0]]), shape: torch.Size([8, 512])        \n",
            "labels: tensor([[0],\n",
            "        [1],\n",
            "        [0],\n",
            "        [1],\n",
            "        [0],\n",
            "        [0],\n",
            "        [0],\n",
            "        [0]]), shape: torch.Size([8, 1])\n"
          ]
        }
      ],
      "source": [
        "for i,elem in enumerate(train_dataloader):\n",
        "  sentence_encoded = elem[\"input_ids\"]\n",
        "  attention_mask = elem[\"attention_mask\"]\n",
        "  entitites_encoded = elem[\"entities\"]\n",
        "  pretrained_words = elem[\"pretrained_words\"]\n",
        "  lemmas = elem[\"lemmas\"]\n",
        "  labels = elem[\"labels\"]\n",
        "  entities_invertito = {valore: chiave for chiave, valore in dict_entities.items()}\n",
        "  lab_invertito = {valore: chiave for chiave, valore in dict_labels.items()}\n",
        "  print(f\"idx: {i},\\nfrase: {tokenizer.batch_decode(sentence_encoded)}\\\n",
        "         \\nfrase encoded: {sentence_encoded}, shape: {sentence_encoded.shape}, \\\n",
        "        \\nattention mask: {attention_mask}, shape: {attention_mask.shape}, \\\n",
        "        \\npretrained_words: {pretrained_words}, shape: {pretrained_words.shape}, \\\n",
        "        \\nentities: {entitites_encoded}, shape: {entitites_encoded.shape}\\\n",
        "        \\nlemmas: {lemmas}, shape: {lemmas.shape}\\\n",
        "        \\nlabels: {labels}, shape: {labels.shape}\")\n",
        "  break"
      ]
    },
    {
      "cell_type": "markdown",
      "metadata": {
        "id": "vrV-HPLP4829"
      },
      "source": [
        "# Pretrained"
      ]
    },
    {
      "cell_type": "code",
      "source": [
        "# a file\n",
        "url_50 = \"https://drive.google.com/uc?id=1-3ym1GcV8QwseAJBLY137lpY5etSQlxa\"\n",
        "url_100 = \"https://drive.google.com/uc?id=1AnYTq5spjA9C_cZrOZk72AeDbFHS-XnM\"\n",
        "url_200 = \"https://drive.google.com/uc?id=1-0o-GNW3ZnUn3Hz80c12otgU2aKaPqHW\"\n",
        "url_300 = \"https://drive.google.com/uc?id=1-2Jg3xU-y5km2mlNNXv-eD4fx1_Z1MYI\"\n",
        "\n",
        "file_50 = \"glove.6B.50d.txt\"\n",
        "file_100 = \"glove.6B.100d.txt\"\n",
        "file_200 = \"glove.6B.200d.txt\"\n",
        "file_300 = \"glove.6B.300d.txt\"\n",
        "\n",
        "gdown.download(url_50, file_50, quiet=False)\n",
        "gdown.download(url_100, file_100, quiet=False)\n",
        "gdown.download(url_200, file_200, quiet=False)\n",
        "gdown.download(url_300, file_300, quiet=False)"
      ],
      "metadata": {
        "id": "oO3ajYmDl3bE",
        "outputId": "c57b60c3-da52-42e5-ac1d-adf010e1daa0",
        "colab": {
          "base_uri": "https://localhost:8080/",
          "height": 313
        }
      },
      "execution_count": 17,
      "outputs": [
        {
          "output_type": "stream",
          "name": "stderr",
          "text": [
            "Downloading...\n",
            "From: https://drive.google.com/uc?id=1-3ym1GcV8QwseAJBLY137lpY5etSQlxa\n",
            "To: /content/glove.6B.50d.txt\n",
            "100%|██████████| 171M/171M [00:00<00:00, 176MB/s]\n",
            "Downloading...\n",
            "From: https://drive.google.com/uc?id=1AnYTq5spjA9C_cZrOZk72AeDbFHS-XnM\n",
            "To: /content/glove.6B.100d.txt\n",
            "100%|██████████| 347M/347M [00:07<00:00, 45.4MB/s]\n",
            "Downloading...\n",
            "From: https://drive.google.com/uc?id=1-0o-GNW3ZnUn3Hz80c12otgU2aKaPqHW\n",
            "To: /content/glove.6B.200d.txt\n",
            "100%|██████████| 693M/693M [00:13<00:00, 49.8MB/s]\n",
            "Downloading...\n",
            "From: https://drive.google.com/uc?id=1-2Jg3xU-y5km2mlNNXv-eD4fx1_Z1MYI\n",
            "To: /content/glove.6B.300d.txt\n",
            "100%|██████████| 1.04G/1.04G [00:17<00:00, 60.9MB/s]\n"
          ]
        },
        {
          "output_type": "execute_result",
          "data": {
            "text/plain": [
              "'glove.6B.300d.txt'"
            ],
            "application/vnd.google.colaboratory.intrinsic+json": {
              "type": "string"
            }
          },
          "metadata": {},
          "execution_count": 17
        }
      ]
    },
    {
      "cell_type": "markdown",
      "source": [
        "## Model Pretrained"
      ],
      "metadata": {
        "id": "ZolEQ6xno9jj"
      }
    },
    {
      "cell_type": "code",
      "execution_count": 18,
      "metadata": {
        "id": "WBOr8PI24-oN"
      },
      "outputs": [],
      "source": [
        "class PreTrainedEmbedding():\n",
        "  def __init__(self,\n",
        "               path:str,\n",
        "               dim:int,\n",
        "               vocab:dict):\n",
        "\n",
        "    self.path = path\n",
        "    self.dim = dim\n",
        "    self.vocab = vocab\n",
        "\n",
        "    self.dictionary_emb = self.build_dictionary()\n",
        "    self.weights = self.embedding_weights()\n",
        "\n",
        "  def build_dictionary(self):\n",
        "\n",
        "    dictionary = {}\n",
        "    with open(self.path) as file_:\n",
        "      for line in file_.readlines():\n",
        "        data = []\n",
        "        elem = line.strip().split()\n",
        "        word = elem[0]\n",
        "        for i in range (self.dim):\n",
        "          data.append(float(elem[i+1]))\n",
        "        dictionary[word]=data\n",
        "    return dictionary\n",
        "\n",
        "  def embedding_weights(self):\n",
        "\n",
        "    embeddings_weights = torch.zeros([len(self.vocab),self.dim])\n",
        "    random = torch.rand(1,self.dim)[0]\n",
        "\n",
        "    for elem in self.vocab:\n",
        "      if elem not in self.dictionary_emb:\n",
        "        embeddings_weights[self.vocab[elem]] = random\n",
        "      else:\n",
        "        embeddings_weights[self.vocab[elem]] = torch.tensor(self.dictionary_emb[elem])\n",
        "\n",
        "    return embeddings_weights"
      ]
    },
    {
      "cell_type": "code",
      "execution_count": 19,
      "metadata": {
        "id": "FKlb_h9I8CqT"
      },
      "outputs": [],
      "source": [
        "pre_embeddings = PreTrainedEmbedding(\"./glove.6B.50d.txt\", 50, word_vocab)"
      ]
    },
    {
      "cell_type": "markdown",
      "metadata": {
        "id": "PkNchWiPAuL4"
      },
      "source": [
        "# Modello"
      ]
    },
    {
      "cell_type": "code",
      "execution_count": 20,
      "metadata": {
        "id": "YrRlAYEnkPYR"
      },
      "outputs": [],
      "source": [
        "class RelationExtractionBinaryModel(Module):\n",
        "  def __init__(self, hparams):\n",
        "    super(RelationExtractionBinaryModel, self).__init__()\n",
        "    self.bert = AutoModel.from_pretrained(hparams.transformer_model)\n",
        "    self.pretrained_embedding = nn.Embedding(hparams.w_vocab_size, hparams.embedding_dim_pretrained)\n",
        "    self.NER_embedding = nn.Embedding(hparams.NER_vocab_size, hparams.embedding_dim_NER)\n",
        "    self.lemma_embedding = nn.Embedding(hparams.lemma_vocab_size, hparams.embedding_dim_lemma)\n",
        "    self.lstm = LSTM( hparams.embedding_dim_words +\n",
        "                      hparams.embedding_dim_NER +\n",
        "                      hparams.embedding_dim_lemma +\n",
        "                      hparams.embedding_dim_pretrained,\n",
        "                      hparams.hidden_dim,\n",
        "                      bidirectional = hparams.bidirectional,\n",
        "                      num_layers = hparams.num_layers,\n",
        "                      batch_first = True,\n",
        "                      dropout = hparams.dropout if hparams.num_layers > 1 else 0\n",
        "                     )\n",
        "    self.pretrained_embedding.weight.data.copy_(hparams.pretrained_embeddings.weights)\n",
        "    lstm_output_dim = hparams.hidden_dim if hparams.bidirectional is False else hparams.hidden_dim * 2\n",
        "    self.classifier = Linear(lstm_output_dim*hparams.max_len, hparams.num_classes)\n",
        "\n",
        "    # Inizializzazione dei pesi con il seed\n",
        "    self.apply(self.init_weights)\n",
        "\n",
        "  def init_weights(self, module):\n",
        "    if isinstance(module, nn.Linear):\n",
        "      nn.init.xavier_uniform_(module.weight.data)\n",
        "      if module.bias is not None:\n",
        "        nn.init.constant_(module.bias.data, 0.0)\n",
        "    elif isinstance(module, nn.Embedding):\n",
        "      nn.init.uniform_(module.weight.data, -0.1, 0.1)\n",
        "\n",
        "  def forward(self, input_ids, mask, NER_e, pretrained, lemma):\n",
        "    # (batch, n_seq, dim_embedding)\n",
        "    # (8, 512, )\n",
        "    embeddings = self.bert(input_ids, attention_mask=mask)[0]\n",
        "    embeddings_pretrained  = self.pretrained_embedding(pretrained)\n",
        "    embeddings_NER = self.NER_embedding(NER_e)\n",
        "    embeddings_lemma = self.lemma_embedding(lemma)\n",
        "    embeddings = torch.cat((embeddings, embeddings_NER, embeddings_pretrained, embeddings_lemma), dim=2) # batch, n_seq, emb_bert + emb_NER\n",
        "    o, (h, c) = self.lstm(embeddings)\n",
        "    o = o.flatten(start_dim=1) # (batch, n_seq * 512)\n",
        "    output = self.classifier(o)\n",
        "    return output"
      ]
    },
    {
      "cell_type": "markdown",
      "metadata": {
        "id": "bzRqmrpImVcr"
      },
      "source": [
        "## Hparameters"
      ]
    },
    {
      "cell_type": "code",
      "execution_count": 21,
      "metadata": {
        "id": "s_BRoa9JmW0f"
      },
      "outputs": [],
      "source": [
        "class HParams():\n",
        "    def __init__(self,l_vocab, ner_vocab, bert_model, w_vocab, lemma_vocab, seed, pretrained_embeddings):\n",
        "      self.transformer_model = bert_model\n",
        "      self.NER_vocab_size = len(ner_vocab)\n",
        "      self.fine_tune = False\n",
        "      self.pretrained_embeddings = pretrained_embeddings\n",
        "      self.w_vocab_size = len(w_vocab)\n",
        "      self.lemma_vocab_size = len(lemma_vocab)\n",
        "      self.embedding_dim_pretrained = 50\n",
        "      self.embedding_dim_words = 768\n",
        "      self.embedding_dim_NER = 100\n",
        "      self.embedding_dim_lemma = 100\n",
        "      self.hidden_dim = 256\n",
        "      self.max_len = 512\n",
        "      self.seed = seed\n",
        "      self.num_classes = 1\n",
        "      self.bidirectional = True\n",
        "      self.num_layers = 2\n",
        "      self.dropout = 0.3"
      ]
    },
    {
      "cell_type": "markdown",
      "metadata": {
        "id": "qJoC4memdDDv"
      },
      "source": [
        "## Init Modello"
      ]
    },
    {
      "cell_type": "code",
      "execution_count": 22,
      "metadata": {
        "colab": {
          "base_uri": "https://localhost:8080/",
          "height": 121,
          "referenced_widgets": [
            "3b294bc32b874fe6bf852e56b4eaefb0",
            "d5dc34bc1917419dbeddf4f73006cad6",
            "c60c8bc14306406094c9acc5dc33d86f",
            "cf8028a260c44b28b45ce683d744ca82",
            "8cf6b2dfac4a409c80e1f971b5164105",
            "17c8f51f9cad4cc9b076b69ee7bcd8eb",
            "74a15b94ed804b79bff7dce64c586b26",
            "1fd74cf6a5604f9a9c653d48718f222a",
            "bae0c02fa9064129a6d963446d646c44",
            "b7cbbdcd65dc4dd6bb2f0eb5525fa343",
            "1cd0c87093164672ae8ab5dc09358cdd"
          ]
        },
        "id": "ZRPMtqlwnPCA",
        "outputId": "fbbf8547-e0fd-4671-b59b-09fa94cd7f74"
      },
      "outputs": [
        {
          "output_type": "display_data",
          "data": {
            "text/plain": [
              "Downloading model.safetensors:   0%|          | 0.00/436M [00:00<?, ?B/s]"
            ],
            "application/vnd.jupyter.widget-view+json": {
              "version_major": 2,
              "version_minor": 0,
              "model_id": "3b294bc32b874fe6bf852e56b4eaefb0"
            }
          },
          "metadata": {}
        },
        {
          "output_type": "stream",
          "name": "stderr",
          "text": [
            "Some weights of the model checkpoint at bert-base-cased were not used when initializing BertModel: ['cls.seq_relationship.weight', 'cls.predictions.bias', 'cls.predictions.transform.dense.weight', 'cls.predictions.transform.LayerNorm.bias', 'cls.seq_relationship.bias', 'cls.predictions.transform.dense.bias', 'cls.predictions.transform.LayerNorm.weight']\n",
            "- This IS expected if you are initializing BertModel from the checkpoint of a model trained on another task or with another architecture (e.g. initializing a BertForSequenceClassification model from a BertForPreTraining model).\n",
            "- This IS NOT expected if you are initializing BertModel from the checkpoint of a model that you expect to be exactly identical (initializing a BertForSequenceClassification model from a BertForSequenceClassification model).\n"
          ]
        }
      ],
      "source": [
        "params = HParams(dict_labels, dict_entities, models[0], word_vocab, lemma_vocab, seed, pre_embeddings)\n",
        "model = RelationExtractionBinaryModel(params).to(device)"
      ]
    },
    {
      "cell_type": "code",
      "source": [
        "random.seed(seed)\n",
        "np.random.seed(seed)\n",
        "torch.manual_seed(seed)\n",
        "torch.cuda.manual_seed_all(seed)\n",
        "torch.backends.cudnn.deterministic = True\n",
        "torch.backends.cudnn.benchmark = False\n",
        "\n",
        "model1 = RelationExtractionBinaryModel(params).to(device)\n",
        "\n",
        "model2 = RelationExtractionBinaryModel(params).to(device)\n",
        "\n",
        "# Verifica se i pesi iniziali sono gli stessi\n",
        "weights1 = model1.state_dict()\n",
        "weights2 = model2.state_dict()\n",
        "\n",
        "# Confronta i pesi\n",
        "are_weights_equal = all(torch.equal(weights1[key], weights2[key]) for key in weights1)\n",
        "\n",
        "if are_weights_equal:\n",
        "    print(\"I pesi iniziali sono gli stessi per entrambe le istanze del modello.\")\n",
        "else:\n",
        "    print(\"I pesi iniziali sono diversi per le due istanze del modello.\")"
      ],
      "metadata": {
        "colab": {
          "base_uri": "https://localhost:8080/"
        },
        "id": "zdWoM0Io4Cal",
        "outputId": "5eee0125-a1af-4066-ba1a-dec500eed99e"
      },
      "execution_count": 24,
      "outputs": [
        {
          "output_type": "stream",
          "name": "stderr",
          "text": [
            "Some weights of the model checkpoint at bert-base-cased were not used when initializing BertModel: ['cls.seq_relationship.weight', 'cls.predictions.bias', 'cls.predictions.transform.dense.weight', 'cls.predictions.transform.LayerNorm.bias', 'cls.seq_relationship.bias', 'cls.predictions.transform.dense.bias', 'cls.predictions.transform.LayerNorm.weight']\n",
            "- This IS expected if you are initializing BertModel from the checkpoint of a model trained on another task or with another architecture (e.g. initializing a BertForSequenceClassification model from a BertForPreTraining model).\n",
            "- This IS NOT expected if you are initializing BertModel from the checkpoint of a model that you expect to be exactly identical (initializing a BertForSequenceClassification model from a BertForSequenceClassification model).\n",
            "Some weights of the model checkpoint at bert-base-cased were not used when initializing BertModel: ['cls.seq_relationship.weight', 'cls.predictions.bias', 'cls.predictions.transform.dense.weight', 'cls.predictions.transform.LayerNorm.bias', 'cls.seq_relationship.bias', 'cls.predictions.transform.dense.bias', 'cls.predictions.transform.LayerNorm.weight']\n",
            "- This IS expected if you are initializing BertModel from the checkpoint of a model trained on another task or with another architecture (e.g. initializing a BertForSequenceClassification model from a BertForPreTraining model).\n",
            "- This IS NOT expected if you are initializing BertModel from the checkpoint of a model that you expect to be exactly identical (initializing a BertForSequenceClassification model from a BertForSequenceClassification model).\n"
          ]
        },
        {
          "output_type": "stream",
          "name": "stdout",
          "text": [
            "I pesi iniziali sono diversi per le due istanze del modello.\n"
          ]
        }
      ]
    },
    {
      "cell_type": "markdown",
      "metadata": {
        "id": "ZQr7w0GiAvWw"
      },
      "source": [
        "# Train, Validation, Predict"
      ]
    },
    {
      "cell_type": "code",
      "execution_count": null,
      "metadata": {
        "id": "zZv98muPrvNd"
      },
      "outputs": [],
      "source": [
        "class Trainer():\n",
        "\n",
        "  def __init__(\n",
        "      self,\n",
        "      model: Module,\n",
        "      loss_function,\n",
        "      optimizer,\n",
        "      tokenizer,\n",
        "      label_vocab,\n",
        "      patience,\n",
        "      save_path):\n",
        "\n",
        "    self.model = model\n",
        "    if os.path.exists(save_path):\n",
        "      # Carica lo stato del modello\n",
        "      state_dict = torch.load(save_path)\n",
        "      # Assegna lo stato del modello all'istanza del modello\n",
        "      self.model.load_state_dict(state_dict)\n",
        "      print(\"Load model checkpoint. \")\n",
        "\n",
        "    self.loss_function = loss_function\n",
        "    self.optimizer = optimizer\n",
        "    self.tokenizer = tokenizer\n",
        "    self.label_vocab = label_vocab\n",
        "    self.patience = patience\n",
        "    self.best_valid_f1 = 0.0\n",
        "    self.best_loss =float('inf')\n",
        "    self.early_stop_counter = 0\n",
        "    self.save_path = save_path\n",
        "\n",
        "  def train(self, train_dataset, valid_dataset, epochs:int=1):\n",
        "    train_loss = 0.0\n",
        "    for epoch in range(epochs):\n",
        "      epoch_loss = 0.0\n",
        "      self.model.train()\n",
        "      train_iterator = tqdm(train_dataset)\n",
        "      f1_scores = list()\n",
        "      accuracies = list()\n",
        "      y_true, y_pred = [], []\n",
        "      for step, sample in enumerate(train_iterator):\n",
        "\n",
        "        input_ids = sample['input_ids'].to(device)\n",
        "        attention_mask = sample['attention_mask'].to(device)\n",
        "        pretrained_embeddings = sample['pretrained_words'].to(device)\n",
        "        entitites = sample['entities'].to(device)\n",
        "        lemma = sample['lemmas'].to(device)\n",
        "        labels = sample['labels'].to(device) # (batch, 1)\n",
        "\n",
        "        self.optimizer.zero_grad()\n",
        "\n",
        "        predictions = self.model(input_ids, attention_mask, entitites, pretrained_embeddings, lemma)\n",
        "        sample_loss = self.loss_function(predictions, labels.float())\n",
        "\n",
        "        sample_loss.backward()\n",
        "\n",
        "        self.optimizer.step()\n",
        "\n",
        "        epoch_loss += sample_loss.item()\n",
        "        avg_loss = epoch_loss / (step + 1)\n",
        "\n",
        "        preds = torch.round(torch.sigmoid(predictions))\n",
        "        y_true.extend(labels.cpu().numpy())\n",
        "        y_pred.extend(preds.detach().cpu().numpy())\n",
        "\n",
        "        f1 = f1_score(labels.cpu().numpy(), preds.detach().cpu().numpy(), average=\"binary\", zero_division=0)\n",
        "        acc = accuracy_score(labels.cpu().numpy(), preds.detach().cpu().numpy())\n",
        "\n",
        "        train_iterator.set_postfix(\n",
        "          loss=avg_loss,\n",
        "          epoch=epoch,\n",
        "          f1_score = f1,\n",
        "          accuracy = acc,\n",
        "          step=(step + 1)\n",
        "        )\n",
        "        f1_scores.append(f1)\n",
        "        accuracies.append(acc)\n",
        "\n",
        "      training_metrics = {}\n",
        "      training_metrics['loss'] = epoch_loss / len(train_dataset) if epoch_loss > 0 else 0.0\n",
        "      training_metrics['f1'] = sum(f1_scores) / len(f1_scores) if f1_scores else 0.0\n",
        "      training_metrics['accuracy'] = sum(accuracies) / len(accuracies) if accuracies else 0.0\n",
        "      validation_metrics = self.evaluate(valid_dataset, epoch)\n",
        "\n",
        "      keys = set()\n",
        "      keys |= set(training_metrics.keys())\n",
        "      keys |= set(validation_metrics.keys())\n",
        "\n",
        "      table = []\n",
        "\n",
        "      for key in keys:\n",
        "          table.append((key, training_metrics.get(key, float('Nan')), validation_metrics.get(key, float('Nan'))))\n",
        "\n",
        "      print(tabulate(table, headers=('metric', 'train', 'dev')) + '\\n')\n",
        "\n",
        "      # Early stopping check\n",
        "      valid_f1 = validation_metrics['f1']\n",
        "      valid_loss = validation_metrics['loss']\n",
        "      if valid_f1 > self.best_valid_f1 and valid_loss < self.best_loss:\n",
        "          self.best_valid_f1 = valid_f1\n",
        "          self.best_loss = valid_loss\n",
        "          self.early_stop_counter = 0\n",
        "          if self.save_path is not None:\n",
        "            torch.save(self.model.state_dict(), self.save_path)\n",
        "            print(f\"New checkpoint created. Model Saved in {self.save_path}\\n\")\n",
        "\n",
        "      else:\n",
        "          self.early_stop_counter += 1\n",
        "          if self.early_stop_counter >= self.patience:\n",
        "              print(\"Early stopping triggered. No improvement in validation F1 score.\")\n",
        "              break\n",
        "\n",
        "\n",
        "  def evaluate(self, valid_dataset, epoch):\n",
        "    valid_loss = 0.0\n",
        "    self.model.eval()\n",
        "    f1_scores = list()\n",
        "    accuracies = list()\n",
        "    y_true, y_pred = [], []\n",
        "    with torch.no_grad():\n",
        "      valid_iterator = tqdm(valid_dataset)\n",
        "      for step,  sample in enumerate(valid_iterator):\n",
        "        input_ids = sample['input_ids'].to(device)\n",
        "        attention_mask = sample['attention_mask'].to(device)\n",
        "        pretrained_embeddings = sample['pretrained_words'].to(device)\n",
        "        entitites = sample['entities'].to(device)\n",
        "        lemma = sample['lemmas'].to(device)\n",
        "        labels = sample['labels'].to(device)\n",
        "        predictions = self.model(input_ids, attention_mask, entitites, pretrained_embeddings, lemma)\n",
        "        sample_loss = self.loss_function(predictions, labels.float())\n",
        "        valid_loss += sample_loss.tolist()\n",
        "        avg_loss = valid_loss / (step + 1)\n",
        "\n",
        "        preds = torch.round(torch.sigmoid(predictions))\n",
        "        y_true.extend(labels.cpu().numpy())\n",
        "        y_pred.extend(preds.cpu().numpy())\n",
        "\n",
        "        f1 = f1_score(labels.cpu().numpy(), preds.cpu().numpy(), average=\"binary\", zero_division=0)\n",
        "        acc = accuracy_score(labels.cpu().numpy(), preds.cpu().numpy())\n",
        "        valid_iterator.set_postfix(\n",
        "          loss=avg_loss,\n",
        "          epoch=epoch,\n",
        "          f1_score = f1,\n",
        "          accuracy = acc,\n",
        "          step=(step + 1)\n",
        "        )\n",
        "\n",
        "        f1_scores.append(f1)\n",
        "        accuracies.append(acc)\n",
        "\n",
        "    metrics = {}\n",
        "    metrics['loss'] = valid_loss / len(valid_dataset) if valid_loss > 0 else 0.0\n",
        "    metrics['f1'] = sum(f1_scores) / len(f1_scores) if f1_scores else 0.0\n",
        "    metrics['accuracy'] = sum(accuracies) / len(accuracies) if accuracies else 0.0\n",
        "\n",
        "    return metrics\n",
        "\n",
        "  def predict(self, test_dataset):\n",
        "    self.model.eval()\n",
        "    f1_scores = list()\n",
        "    accuracies = list()\n",
        "    y_true, y_pred = [], []\n",
        "    with torch.no_grad():\n",
        "      test_iterator = tqdm(test_dataset)\n",
        "      for step,  sample in enumerate(test_iterator):\n",
        "        input_ids = sample['input_ids'].to(device)\n",
        "        attention_mask = sample['attention_mask'].to(device)\n",
        "        pretrained_embeddings = sample['pretrained_words'].to(device)\n",
        "        entitites = sample['entities'].to(device)\n",
        "        labels = sample['labels'].to(device)\n",
        "        lemma = sample['lemmas'].to(device)\n",
        "        predictions = self.model(input_ids, attention_mask, entitites, pretrained_embeddings, lemma)\n",
        "        preds = torch.round(torch.sigmoid(predictions))\n",
        "        y_true.extend(labels.cpu().numpy())\n",
        "        y_pred.extend(preds.cpu().numpy())\n",
        "\n",
        "        f1 = f1_score(labels.cpu().numpy(), preds.cpu().numpy(), average=\"binary\", zero_division=0)\n",
        "        acc = accuracy_score(labels.cpu().numpy(), preds.cpu().numpy())\n",
        "\n",
        "        test_iterator.set_postfix(\n",
        "          f1_score = f1,\n",
        "          accuracy = acc,\n",
        "          step=(step + 1)\n",
        "        )\n",
        "\n",
        "        f1_scores.append(f1)\n",
        "        accuracies.append(acc)\n",
        "    return y_pred, y_true,  sum(f1_scores) / len(f1_scores), sum(accuracies) / len(accuracies)"
      ]
    },
    {
      "cell_type": "markdown",
      "metadata": {
        "id": "AnhRbX-vvy5-"
      },
      "source": [
        "## Init Trainer"
      ]
    },
    {
      "cell_type": "code",
      "source": [
        "model_path = \"/content/drive/MyDrive/relations/models_binary_balanced/model_bert_base_en_cased_50.pth\""
      ],
      "metadata": {
        "id": "1iLT73kumv1j"
      },
      "execution_count": null,
      "outputs": []
    },
    {
      "cell_type": "code",
      "execution_count": null,
      "metadata": {
        "id": "IiF_zPvruoTM"
      },
      "outputs": [],
      "source": [
        "trainer = Trainer(\n",
        "    model = model,\n",
        "    loss_function = nn.BCEWithLogitsLoss(),\n",
        "    optimizer = optim.Adam(model.parameters(), lr=2e-5),\n",
        "    tokenizer = tokenizer,\n",
        "    label_vocab= dict_labels,\n",
        "    patience = 5,\n",
        "    save_path = model_path\n",
        ")"
      ]
    },
    {
      "cell_type": "markdown",
      "metadata": {
        "id": "S8AnnoKAvwsP"
      },
      "source": [
        "### Training"
      ]
    },
    {
      "cell_type": "code",
      "execution_count": null,
      "metadata": {
        "colab": {
          "base_uri": "https://localhost:8080/",
          "height": 49,
          "referenced_widgets": [
            "42c3ac4008934a52be796d66314e8a59",
            "aace4e13cebd411fa2aece0938d41958",
            "8cf11fc2792f44989043fe3c0c5b7840",
            "ce4978b8d86d4dd59d6ea673452ca783",
            "2a420a10271e4e87b65edddbab54d35f",
            "014509b92cdd49329362c10afd18809a",
            "1f62db3a0e12402781a143295a7da992",
            "748227b3ba734b62bb76a6a3a7569407",
            "4c34a4e1004a41819ba7eb77ea93319d",
            "c07067a26d2248e0a5669af22331c6c6",
            "91b055096f71453d94cd9180cbc12411"
          ]
        },
        "id": "6CjKiDUFvmd7",
        "outputId": "e0fd8ff3-78d4-4ce8-df14-275c7b7877bd"
      },
      "outputs": [
        {
          "output_type": "display_data",
          "data": {
            "text/plain": [
              "  0%|          | 0/326 [00:00<?, ?it/s]"
            ],
            "application/vnd.jupyter.widget-view+json": {
              "version_major": 2,
              "version_minor": 0,
              "model_id": "42c3ac4008934a52be796d66314e8a59"
            }
          },
          "metadata": {}
        }
      ],
      "source": [
        "trainer.train(train_dataloader, valid_dataloader, 50)"
      ]
    },
    {
      "cell_type": "markdown",
      "source": [
        "# Load model checkpoint saved"
      ],
      "metadata": {
        "id": "uZUFfVeXnRpq"
      }
    },
    {
      "cell_type": "code",
      "source": [
        "random.seed(seed)\n",
        "np.random.seed(seed)\n",
        "torch.manual_seed(seed)\n",
        "torch.cuda.manual_seed_all(seed)\n",
        "torch.backends.cudnn.deterministic = True\n",
        "torch.backends.cudnn.benchmark = False"
      ],
      "metadata": {
        "id": "NkbC1Mxs4vYT"
      },
      "execution_count": null,
      "outputs": []
    },
    {
      "cell_type": "code",
      "source": [
        "model = RelationExtractionBinaryModel(params).to(device)\n",
        "model.load_state_dict(torch.load(model_path))\n",
        "model.eval()\n",
        "\n",
        "trainer = Trainer(\n",
        "    model = model,\n",
        "    loss_function = nn.BCEWithLogitsLoss(),\n",
        "    optimizer = optim.Adam(model.parameters(), lr=2e-5),\n",
        "    tokenizer = tokenizer,\n",
        "    label_vocab= dict_labels,\n",
        "    patience = 5,\n",
        "    save_path = model_path\n",
        ")"
      ],
      "metadata": {
        "id": "MjNdxEXbnS5L"
      },
      "execution_count": null,
      "outputs": []
    },
    {
      "cell_type": "markdown",
      "metadata": {
        "id": "mFQFuVasr2Qk"
      },
      "source": [
        "### Predict"
      ]
    },
    {
      "cell_type": "code",
      "execution_count": null,
      "metadata": {
        "id": "saj34ceWr3iU",
        "colab": {
          "base_uri": "https://localhost:8080/",
          "height": 49,
          "referenced_widgets": [
            "2254999785d048d18e147b8352c4bbdf",
            "9cb1dd1b99e04d87b2b56e733e0385c0",
            "b1016a646cfa427a8c27059554837044",
            "fd072716faed430dac1f6a6c7a99ff72",
            "5188ebaeedab4abc88840890d3cb6ec8",
            "30ae75a56db9429d9abdfb3dbab774ae",
            "3f0998f973dc4b149d95f61fb719c550",
            "8cc7199d48174277bb70305352172e08",
            "6b398bac16d7407ab92baec90c448d33",
            "4442710bca3c47abbae6a596c57fe94c",
            "d7299458671c4fbeae5ad82dfb97171b"
          ]
        },
        "outputId": "5acb79b4-a7cc-4596-f59f-7129acdaa834"
      },
      "outputs": [
        {
          "output_type": "display_data",
          "data": {
            "text/plain": [
              "  0%|          | 0/70 [00:00<?, ?it/s]"
            ],
            "application/vnd.jupyter.widget-view+json": {
              "version_major": 2,
              "version_minor": 0,
              "model_id": "2254999785d048d18e147b8352c4bbdf"
            }
          },
          "metadata": {}
        }
      ],
      "source": [
        "predictions, true_labels, accuracy, f1 = trainer.predict(test_dataloader)"
      ]
    },
    {
      "cell_type": "code",
      "execution_count": null,
      "metadata": {
        "id": "DM5kewOdr_Bv",
        "colab": {
          "base_uri": "https://localhost:8080/"
        },
        "outputId": "1e17e2f0-c58c-4a95-e281-0804f8de5d82"
      },
      "outputs": [
        {
          "output_type": "stream",
          "name": "stdout",
          "text": [
            "Before Accuracy test: 0.6537410208838776, Accuracy f1: 0.7084183673469387\n"
          ]
        }
      ],
      "source": [
        "print(f\"Before Accuracy test: {accuracy}, Accuracy f1: {f1}\")"
      ]
    },
    {
      "cell_type": "code",
      "source": [
        "from sklearn.metrics import classification_report"
      ],
      "metadata": {
        "id": "1nfN6BZ8o6Z1"
      },
      "execution_count": null,
      "outputs": []
    },
    {
      "cell_type": "code",
      "source": [
        "print(classification_report(true_labels, predictions, target_names=[\"no\", \"yes\"]))"
      ],
      "metadata": {
        "id": "ucC8MU3IpDS2",
        "outputId": "38a5044d-9359-4742-8257-8bfb1c4ab102",
        "colab": {
          "base_uri": "https://localhost:8080/"
        }
      },
      "execution_count": null,
      "outputs": [
        {
          "output_type": "stream",
          "name": "stdout",
          "text": [
            "              precision    recall  f1-score   support\n",
            "\n",
            "          no       0.70      0.73      0.71       277\n",
            "         yes       0.72      0.69      0.71       282\n",
            "\n",
            "    accuracy                           0.71       559\n",
            "   macro avg       0.71      0.71      0.71       559\n",
            "weighted avg       0.71      0.71      0.71       559\n",
            "\n"
          ]
        }
      ]
    },
    {
      "cell_type": "markdown",
      "metadata": {
        "id": "dYVxx93HAy1b"
      },
      "source": [
        "# Confusion metrics"
      ]
    },
    {
      "cell_type": "code",
      "execution_count": null,
      "metadata": {
        "id": "Qx2t2jvlDPUT"
      },
      "outputs": [],
      "source": [
        "import numpy as np\n",
        "import matplotlib.pyplot as plt\n",
        "import numpy as np\n",
        "import itertools\n",
        "from sklearn.metrics import confusion_matrix\n",
        "\n",
        "\n",
        "def plot_confusion_matrix(cm,\n",
        "                          target_names,\n",
        "                          title='Confusion matrix',\n",
        "                          cmap=None,\n",
        "                          normalize=True):\n",
        "\n",
        "\n",
        "    accuracy = np.trace(cm) / np.sum(cm).astype('float')\n",
        "    misclass = 1 - accuracy\n",
        "\n",
        "    if cmap is None:\n",
        "        cmap = plt.get_cmap('Blues')\n",
        "\n",
        "    plt.figure(figsize=(8, 6))\n",
        "    plt.imshow(cm, interpolation='nearest', cmap=cmap)\n",
        "    plt.title(title)\n",
        "    plt.colorbar()\n",
        "\n",
        "    if target_names is not None:\n",
        "        tick_marks = np.arange(len(target_names))\n",
        "        plt.xticks(tick_marks, target_names, rotation=45)\n",
        "        plt.yticks(tick_marks, target_names)\n",
        "\n",
        "    if normalize:\n",
        "        cm = cm.astype('float') / cm.sum(axis=1)[:, np.newaxis]\n",
        "\n",
        "\n",
        "    thresh = cm.max() / 1.5 if normalize else cm.max() / 2\n",
        "    for i, j in itertools.product(range(cm.shape[0]), range(cm.shape[1])):\n",
        "        if normalize:\n",
        "            plt.text(j, i, \"{:0.4f}\".format(cm[i, j]),\n",
        "                     horizontalalignment=\"center\",\n",
        "                     color=\"white\" if cm[i, j] > thresh else \"black\")\n",
        "        else:\n",
        "            plt.text(j, i, \"{:,}\".format(cm[i, j]),\n",
        "                     horizontalalignment=\"center\",\n",
        "                     color=\"white\" if cm[i, j] > thresh else \"black\")\n",
        "\n",
        "\n",
        "    plt.tight_layout()\n",
        "    plt.ylabel('True label')\n",
        "    plt.xlabel('Predicted label\\naccuracy={:0.4f}; misclass={:0.4f}'.format(accuracy, misclass))\n",
        "    plt.show()"
      ]
    },
    {
      "cell_type": "code",
      "execution_count": null,
      "metadata": {
        "colab": {
          "base_uri": "https://localhost:8080/",
          "height": 642
        },
        "id": "yFYCnNW1DedL",
        "outputId": "d4d5408b-053a-4caf-da1c-4cacb61109cf"
      },
      "outputs": [
        {
          "data": {
            "image/png": "[encoded data removed]",
            "text/plain": [
              "<Figure size 800x600 with 2 Axes>"
            ]
          },
          "metadata": {},
          "output_type": "display_data"
        }
      ],
      "source": [
        "cm = confusion_matrix(true_labels, predictions)\n",
        "plot_confusion_matrix(cm, [\"no\", \"yes\"])"
      ]
    }
  ],
  "metadata": {
    "accelerator": "GPU",
    "colab": {
      "gpuType": "T4",
      "provenance": [],
      "include_colab_link": true
    },
    "gpuClass": "standard",
    "kernelspec": {
      "display_name": "Python 3",
      "name": "python3"
    },
    "language_info": {
      "name": "python"
    },
    "widgets": {
      "application/vnd.jupyter.widget-state+json": {
        "2254999785d048d18e147b8352c4bbdf": {
          "model_module": "@jupyter-widgets/controls",
          "model_name": "HBoxModel",
          "model_module_version": "1.5.0",
          "state": {
            "_dom_classes": [],
            "_model_module": "@jupyter-widgets/controls",
            "_model_module_version": "1.5.0",
            "_model_name": "HBoxModel",
            "_view_count": null,
            "_view_module": "@jupyter-widgets/controls",
            "_view_module_version": "1.5.0",
            "_view_name": "HBoxView",
            "box_style": "",
            "children": [
              "IPY_MODEL_9cb1dd1b99e04d87b2b56e733e0385c0",
              "IPY_MODEL_b1016a646cfa427a8c27059554837044",
              "IPY_MODEL_fd072716faed430dac1f6a6c7a99ff72"
            ],
            "layout": "IPY_MODEL_5188ebaeedab4abc88840890d3cb6ec8"
          }
        },
        "9cb1dd1b99e04d87b2b56e733e0385c0": {
          "model_module": "@jupyter-widgets/controls",
          "model_name": "HTMLModel",
          "model_module_version": "1.5.0",
          "state": {
            "_dom_classes": [],
            "_model_module": "@jupyter-widgets/controls",
            "_model_module_version": "1.5.0",
            "_model_name": "HTMLModel",
            "_view_count": null,
            "_view_module": "@jupyter-widgets/controls",
            "_view_module_version": "1.5.0",
            "_view_name": "HTMLView",
            "description": "",
            "description_tooltip": null,
            "layout": "IPY_MODEL_30ae75a56db9429d9abdfb3dbab774ae",
            "placeholder": "​",
            "style": "IPY_MODEL_3f0998f973dc4b149d95f61fb719c550",
            "value": "100%"
          }
        },
        "b1016a646cfa427a8c27059554837044": {
          "model_module": "@jupyter-widgets/controls",
          "model_name": "FloatProgressModel",
          "model_module_version": "1.5.0",
          "state": {
            "_dom_classes": [],
            "_model_module": "@jupyter-widgets/controls",
            "_model_module_version": "1.5.0",
            "_model_name": "FloatProgressModel",
            "_view_count": null,
            "_view_module": "@jupyter-widgets/controls",
            "_view_module_version": "1.5.0",
            "_view_name": "ProgressView",
            "bar_style": "success",
            "description": "",
            "description_tooltip": null,
            "layout": "IPY_MODEL_8cc7199d48174277bb70305352172e08",
            "max": 70,
            "min": 0,
            "orientation": "horizontal",
            "style": "IPY_MODEL_6b398bac16d7407ab92baec90c448d33",
            "value": 70
          }
        },
        "fd072716faed430dac1f6a6c7a99ff72": {
          "model_module": "@jupyter-widgets/controls",
          "model_name": "HTMLModel",
          "model_module_version": "1.5.0",
          "state": {
            "_dom_classes": [],
            "_model_module": "@jupyter-widgets/controls",
            "_model_module_version": "1.5.0",
            "_model_name": "HTMLModel",
            "_view_count": null,
            "_view_module": "@jupyter-widgets/controls",
            "_view_module_version": "1.5.0",
            "_view_name": "HTMLView",
            "description": "",
            "description_tooltip": null,
            "layout": "IPY_MODEL_4442710bca3c47abbae6a596c57fe94c",
            "placeholder": "​",
            "style": "IPY_MODEL_d7299458671c4fbeae5ad82dfb97171b",
            "value": " 70/70 [00:05&lt;00:00, 13.59it/s, accuracy=0.714, f1_score=0.667, step=70]"
          }
        },
        "5188ebaeedab4abc88840890d3cb6ec8": {
          "model_module": "@jupyter-widgets/base",
          "model_name": "LayoutModel",
          "model_module_version": "1.2.0",
          "state": {
            "_model_module": "@jupyter-widgets/base",
            "_model_module_version": "1.2.0",
            "_model_name": "LayoutModel",
            "_view_count": null,
            "_view_module": "@jupyter-widgets/base",
            "_view_module_version": "1.2.0",
            "_view_name": "LayoutView",
            "align_content": null,
            "align_items": null,
            "align_self": null,
            "border": null,
            "bottom": null,
            "display": null,
            "flex": null,
            "flex_flow": null,
            "grid_area": null,
            "grid_auto_columns": null,
            "grid_auto_flow": null,
            "grid_auto_rows": null,
            "grid_column": null,
            "grid_gap": null,
            "grid_row": null,
            "grid_template_areas": null,
            "grid_template_columns": null,
            "grid_template_rows": null,
            "height": null,
            "justify_content": null,
            "justify_items": null,
            "left": null,
            "margin": null,
            "max_height": null,
            "max_width": null,
            "min_height": null,
            "min_width": null,
            "object_fit": null,
            "object_position": null,
            "order": null,
            "overflow": null,
            "overflow_x": null,
            "overflow_y": null,
            "padding": null,
            "right": null,
            "top": null,
            "visibility": null,
            "width": null
          }
        },
        "30ae75a56db9429d9abdfb3dbab774ae": {
          "model_module": "@jupyter-widgets/base",
          "model_name": "LayoutModel",
          "model_module_version": "1.2.0",
          "state": {
            "_model_module": "@jupyter-widgets/base",
            "_model_module_version": "1.2.0",
            "_model_name": "LayoutModel",
            "_view_count": null,
            "_view_module": "@jupyter-widgets/base",
            "_view_module_version": "1.2.0",
            "_view_name": "LayoutView",
            "align_content": null,
            "align_items": null,
            "align_self": null,
            "border": null,
            "bottom": null,
            "display": null,
            "flex": null,
            "flex_flow": null,
            "grid_area": null,
            "grid_auto_columns": null,
            "grid_auto_flow": null,
            "grid_auto_rows": null,
            "grid_column": null,
            "grid_gap": null,
            "grid_row": null,
            "grid_template_areas": null,
            "grid_template_columns": null,
            "grid_template_rows": null,
            "height": null,
            "justify_content": null,
            "justify_items": null,
            "left": null,
            "margin": null,
            "max_height": null,
            "max_width": null,
            "min_height": null,
            "min_width": null,
            "object_fit": null,
            "object_position": null,
            "order": null,
            "overflow": null,
            "overflow_x": null,
            "overflow_y": null,
            "padding": null,
            "right": null,
            "top": null,
            "visibility": null,
            "width": null
          }
        },
        "3f0998f973dc4b149d95f61fb719c550": {
          "model_module": "@jupyter-widgets/controls",
          "model_name": "DescriptionStyleModel",
          "model_module_version": "1.5.0",
          "state": {
            "_model_module": "@jupyter-widgets/controls",
            "_model_module_version": "1.5.0",
            "_model_name": "DescriptionStyleModel",
            "_view_count": null,
            "_view_module": "@jupyter-widgets/base",
            "_view_module_version": "1.2.0",
            "_view_name": "StyleView",
            "description_width": ""
          }
        },
        "8cc7199d48174277bb70305352172e08": {
          "model_module": "@jupyter-widgets/base",
          "model_name": "LayoutModel",
          "model_module_version": "1.2.0",
          "state": {
            "_model_module": "@jupyter-widgets/base",
            "_model_module_version": "1.2.0",
            "_model_name": "LayoutModel",
            "_view_count": null,
            "_view_module": "@jupyter-widgets/base",
            "_view_module_version": "1.2.0",
            "_view_name": "LayoutView",
            "align_content": null,
            "align_items": null,
            "align_self": null,
            "border": null,
            "bottom": null,
            "display": null,
            "flex": null,
            "flex_flow": null,
            "grid_area": null,
            "grid_auto_columns": null,
            "grid_auto_flow": null,
            "grid_auto_rows": null,
            "grid_column": null,
            "grid_gap": null,
            "grid_row": null,
            "grid_template_areas": null,
            "grid_template_columns": null,
            "grid_template_rows": null,
            "height": null,
            "justify_content": null,
            "justify_items": null,
            "left": null,
            "margin": null,
            "max_height": null,
            "max_width": null,
            "min_height": null,
            "min_width": null,
            "object_fit": null,
            "object_position": null,
            "order": null,
            "overflow": null,
            "overflow_x": null,
            "overflow_y": null,
            "padding": null,
            "right": null,
            "top": null,
            "visibility": null,
            "width": null
          }
        },
        "6b398bac16d7407ab92baec90c448d33": {
          "model_module": "@jupyter-widgets/controls",
          "model_name": "ProgressStyleModel",
          "model_module_version": "1.5.0",
          "state": {
            "_model_module": "@jupyter-widgets/controls",
            "_model_module_version": "1.5.0",
            "_model_name": "ProgressStyleModel",
            "_view_count": null,
            "_view_module": "@jupyter-widgets/base",
            "_view_module_version": "1.2.0",
            "_view_name": "StyleView",
            "bar_color": null,
            "description_width": ""
          }
        },
        "4442710bca3c47abbae6a596c57fe94c": {
          "model_module": "@jupyter-widgets/base",
          "model_name": "LayoutModel",
          "model_module_version": "1.2.0",
          "state": {
            "_model_module": "@jupyter-widgets/base",
            "_model_module_version": "1.2.0",
            "_model_name": "LayoutModel",
            "_view_count": null,
            "_view_module": "@jupyter-widgets/base",
            "_view_module_version": "1.2.0",
            "_view_name": "LayoutView",
            "align_content": null,
            "align_items": null,
            "align_self": null,
            "border": null,
            "bottom": null,
            "display": null,
            "flex": null,
            "flex_flow": null,
            "grid_area": null,
            "grid_auto_columns": null,
            "grid_auto_flow": null,
            "grid_auto_rows": null,
            "grid_column": null,
            "grid_gap": null,
            "grid_row": null,
            "grid_template_areas": null,
            "grid_template_columns": null,
            "grid_template_rows": null,
            "height": null,
            "justify_content": null,
            "justify_items": null,
            "left": null,
            "margin": null,
            "max_height": null,
            "max_width": null,
            "min_height": null,
            "min_width": null,
            "object_fit": null,
            "object_position": null,
            "order": null,
            "overflow": null,
            "overflow_x": null,
            "overflow_y": null,
            "padding": null,
            "right": null,
            "top": null,
            "visibility": null,
            "width": null
          }
        },
        "d7299458671c4fbeae5ad82dfb97171b": {
          "model_module": "@jupyter-widgets/controls",
          "model_name": "DescriptionStyleModel",
          "model_module_version": "1.5.0",
          "state": {
            "_model_module": "@jupyter-widgets/controls",
            "_model_module_version": "1.5.0",
            "_model_name": "DescriptionStyleModel",
            "_view_count": null,
            "_view_module": "@jupyter-widgets/base",
            "_view_module_version": "1.2.0",
            "_view_name": "StyleView",
            "description_width": ""
          }
        },
        "6c28630885104c19b9b4fd0acb25b62f": {
          "model_module": "@jupyter-widgets/controls",
          "model_name": "HBoxModel",
          "model_module_version": "1.5.0",
          "state": {
            "_dom_classes": [],
            "_model_module": "@jupyter-widgets/controls",
            "_model_module_version": "1.5.0",
            "_model_name": "HBoxModel",
            "_view_count": null,
            "_view_module": "@jupyter-widgets/controls",
            "_view_module_version": "1.5.0",
            "_view_name": "HBoxView",
            "box_style": "",
            "children": [
              "IPY_MODEL_d4c5e108bc394a93b9ef0118c47dca74",
              "IPY_MODEL_7c765664778840d382660fab466242ab",
              "IPY_MODEL_08d0444967bf40df95f8ec369fc2b177"
            ],
            "layout": "IPY_MODEL_8a1834a6cfe346818dafd3882fca1292"
          }
        },
        "d4c5e108bc394a93b9ef0118c47dca74": {
          "model_module": "@jupyter-widgets/controls",
          "model_name": "HTMLModel",
          "model_module_version": "1.5.0",
          "state": {
            "_dom_classes": [],
            "_model_module": "@jupyter-widgets/controls",
            "_model_module_version": "1.5.0",
            "_model_name": "HTMLModel",
            "_view_count": null,
            "_view_module": "@jupyter-widgets/controls",
            "_view_module_version": "1.5.0",
            "_view_name": "HTMLView",
            "description": "",
            "description_tooltip": null,
            "layout": "IPY_MODEL_db96dafbb73d45b7b7278ce686b8b2a4",
            "placeholder": "​",
            "style": "IPY_MODEL_5f5654b478a840cc9c26e7c3717aa2dc",
            "value": "100%"
          }
        },
        "7c765664778840d382660fab466242ab": {
          "model_module": "@jupyter-widgets/controls",
          "model_name": "FloatProgressModel",
          "model_module_version": "1.5.0",
          "state": {
            "_dom_classes": [],
            "_model_module": "@jupyter-widgets/controls",
            "_model_module_version": "1.5.0",
            "_model_name": "FloatProgressModel",
            "_view_count": null,
            "_view_module": "@jupyter-widgets/controls",
            "_view_module_version": "1.5.0",
            "_view_name": "ProgressView",
            "bar_style": "success",
            "description": "",
            "description_tooltip": null,
            "layout": "IPY_MODEL_9053a18f720148ee8cb6cabdbcf12a39",
            "max": 2,
            "min": 0,
            "orientation": "horizontal",
            "style": "IPY_MODEL_1a646df830a14d5f83a3c18941b34513",
            "value": 2
          }
        },
        "08d0444967bf40df95f8ec369fc2b177": {
          "model_module": "@jupyter-widgets/controls",
          "model_name": "HTMLModel",
          "model_module_version": "1.5.0",
          "state": {
            "_dom_classes": [],
            "_model_module": "@jupyter-widgets/controls",
            "_model_module_version": "1.5.0",
            "_model_name": "HTMLModel",
            "_view_count": null,
            "_view_module": "@jupyter-widgets/controls",
            "_view_module_version": "1.5.0",
            "_view_name": "HTMLView",
            "description": "",
            "description_tooltip": null,
            "layout": "IPY_MODEL_ae631b6072af48ae8f8fb0543112b6f2",
            "placeholder": "​",
            "style": "IPY_MODEL_8ed0bc2c076142f7a2f0b2745923b8e3",
            "value": " 2/2 [00:00&lt;00:00,  4.53it/s]"
          }
        },
        "8a1834a6cfe346818dafd3882fca1292": {
          "model_module": "@jupyter-widgets/base",
          "model_name": "LayoutModel",
          "model_module_version": "1.2.0",
          "state": {
            "_model_module": "@jupyter-widgets/base",
            "_model_module_version": "1.2.0",
            "_model_name": "LayoutModel",
            "_view_count": null,
            "_view_module": "@jupyter-widgets/base",
            "_view_module_version": "1.2.0",
            "_view_name": "LayoutView",
            "align_content": null,
            "align_items": null,
            "align_self": null,
            "border": null,
            "bottom": null,
            "display": null,
            "flex": null,
            "flex_flow": null,
            "grid_area": null,
            "grid_auto_columns": null,
            "grid_auto_flow": null,
            "grid_auto_rows": null,
            "grid_column": null,
            "grid_gap": null,
            "grid_row": null,
            "grid_template_areas": null,
            "grid_template_columns": null,
            "grid_template_rows": null,
            "height": null,
            "justify_content": null,
            "justify_items": null,
            "left": null,
            "margin": null,
            "max_height": null,
            "max_width": null,
            "min_height": null,
            "min_width": null,
            "object_fit": null,
            "object_position": null,
            "order": null,
            "overflow": null,
            "overflow_x": null,
            "overflow_y": null,
            "padding": null,
            "right": null,
            "top": null,
            "visibility": null,
            "width": null
          }
        },
        "db96dafbb73d45b7b7278ce686b8b2a4": {
          "model_module": "@jupyter-widgets/base",
          "model_name": "LayoutModel",
          "model_module_version": "1.2.0",
          "state": {
            "_model_module": "@jupyter-widgets/base",
            "_model_module_version": "1.2.0",
            "_model_name": "LayoutModel",
            "_view_count": null,
            "_view_module": "@jupyter-widgets/base",
            "_view_module_version": "1.2.0",
            "_view_name": "LayoutView",
            "align_content": null,
            "align_items": null,
            "align_self": null,
            "border": null,
            "bottom": null,
            "display": null,
            "flex": null,
            "flex_flow": null,
            "grid_area": null,
            "grid_auto_columns": null,
            "grid_auto_flow": null,
            "grid_auto_rows": null,
            "grid_column": null,
            "grid_gap": null,
            "grid_row": null,
            "grid_template_areas": null,
            "grid_template_columns": null,
            "grid_template_rows": null,
            "height": null,
            "justify_content": null,
            "justify_items": null,
            "left": null,
            "margin": null,
            "max_height": null,
            "max_width": null,
            "min_height": null,
            "min_width": null,
            "object_fit": null,
            "object_position": null,
            "order": null,
            "overflow": null,
            "overflow_x": null,
            "overflow_y": null,
            "padding": null,
            "right": null,
            "top": null,
            "visibility": null,
            "width": null
          }
        },
        "5f5654b478a840cc9c26e7c3717aa2dc": {
          "model_module": "@jupyter-widgets/controls",
          "model_name": "DescriptionStyleModel",
          "model_module_version": "1.5.0",
          "state": {
            "_model_module": "@jupyter-widgets/controls",
            "_model_module_version": "1.5.0",
            "_model_name": "DescriptionStyleModel",
            "_view_count": null,
            "_view_module": "@jupyter-widgets/base",
            "_view_module_version": "1.2.0",
            "_view_name": "StyleView",
            "description_width": ""
          }
        },
        "9053a18f720148ee8cb6cabdbcf12a39": {
          "model_module": "@jupyter-widgets/base",
          "model_name": "LayoutModel",
          "model_module_version": "1.2.0",
          "state": {
            "_model_module": "@jupyter-widgets/base",
            "_model_module_version": "1.2.0",
            "_model_name": "LayoutModel",
            "_view_count": null,
            "_view_module": "@jupyter-widgets/base",
            "_view_module_version": "1.2.0",
            "_view_name": "LayoutView",
            "align_content": null,
            "align_items": null,
            "align_self": null,
            "border": null,
            "bottom": null,
            "display": null,
            "flex": null,
            "flex_flow": null,
            "grid_area": null,
            "grid_auto_columns": null,
            "grid_auto_flow": null,
            "grid_auto_rows": null,
            "grid_column": null,
            "grid_gap": null,
            "grid_row": null,
            "grid_template_areas": null,
            "grid_template_columns": null,
            "grid_template_rows": null,
            "height": null,
            "justify_content": null,
            "justify_items": null,
            "left": null,
            "margin": null,
            "max_height": null,
            "max_width": null,
            "min_height": null,
            "min_width": null,
            "object_fit": null,
            "object_position": null,
            "order": null,
            "overflow": null,
            "overflow_x": null,
            "overflow_y": null,
            "padding": null,
            "right": null,
            "top": null,
            "visibility": null,
            "width": null
          }
        },
        "1a646df830a14d5f83a3c18941b34513": {
          "model_module": "@jupyter-widgets/controls",
          "model_name": "ProgressStyleModel",
          "model_module_version": "1.5.0",
          "state": {
            "_model_module": "@jupyter-widgets/controls",
            "_model_module_version": "1.5.0",
            "_model_name": "ProgressStyleModel",
            "_view_count": null,
            "_view_module": "@jupyter-widgets/base",
            "_view_module_version": "1.2.0",
            "_view_name": "StyleView",
            "bar_color": null,
            "description_width": ""
          }
        },
        "ae631b6072af48ae8f8fb0543112b6f2": {
          "model_module": "@jupyter-widgets/base",
          "model_name": "LayoutModel",
          "model_module_version": "1.2.0",
          "state": {
            "_model_module": "@jupyter-widgets/base",
            "_model_module_version": "1.2.0",
            "_model_name": "LayoutModel",
            "_view_count": null,
            "_view_module": "@jupyter-widgets/base",
            "_view_module_version": "1.2.0",
            "_view_name": "LayoutView",
            "align_content": null,
            "align_items": null,
            "align_self": null,
            "border": null,
            "bottom": null,
            "display": null,
            "flex": null,
            "flex_flow": null,
            "grid_area": null,
            "grid_auto_columns": null,
            "grid_auto_flow": null,
            "grid_auto_rows": null,
            "grid_column": null,
            "grid_gap": null,
            "grid_row": null,
            "grid_template_areas": null,
            "grid_template_columns": null,
            "grid_template_rows": null,
            "height": null,
            "justify_content": null,
            "justify_items": null,
            "left": null,
            "margin": null,
            "max_height": null,
            "max_width": null,
            "min_height": null,
            "min_width": null,
            "object_fit": null,
            "object_position": null,
            "order": null,
            "overflow": null,
            "overflow_x": null,
            "overflow_y": null,
            "padding": null,
            "right": null,
            "top": null,
            "visibility": null,
            "width": null
          }
        },
        "8ed0bc2c076142f7a2f0b2745923b8e3": {
          "model_module": "@jupyter-widgets/controls",
          "model_name": "DescriptionStyleModel",
          "model_module_version": "1.5.0",
          "state": {
            "_model_module": "@jupyter-widgets/controls",
            "_model_module_version": "1.5.0",
            "_model_name": "DescriptionStyleModel",
            "_view_count": null,
            "_view_module": "@jupyter-widgets/base",
            "_view_module_version": "1.2.0",
            "_view_name": "StyleView",
            "description_width": ""
          }
        },
        "42c3ac4008934a52be796d66314e8a59": {
          "model_module": "@jupyter-widgets/controls",
          "model_name": "HBoxModel",
          "model_module_version": "1.5.0",
          "state": {
            "_dom_classes": [],
            "_model_module": "@jupyter-widgets/controls",
            "_model_module_version": "1.5.0",
            "_model_name": "HBoxModel",
            "_view_count": null,
            "_view_module": "@jupyter-widgets/controls",
            "_view_module_version": "1.5.0",
            "_view_name": "HBoxView",
            "box_style": "",
            "children": [
              "IPY_MODEL_aace4e13cebd411fa2aece0938d41958",
              "IPY_MODEL_8cf11fc2792f44989043fe3c0c5b7840",
              "IPY_MODEL_ce4978b8d86d4dd59d6ea673452ca783"
            ],
            "layout": "IPY_MODEL_2a420a10271e4e87b65edddbab54d35f"
          }
        },
        "aace4e13cebd411fa2aece0938d41958": {
          "model_module": "@jupyter-widgets/controls",
          "model_name": "HTMLModel",
          "model_module_version": "1.5.0",
          "state": {
            "_dom_classes": [],
            "_model_module": "@jupyter-widgets/controls",
            "_model_module_version": "1.5.0",
            "_model_name": "HTMLModel",
            "_view_count": null,
            "_view_module": "@jupyter-widgets/controls",
            "_view_module_version": "1.5.0",
            "_view_name": "HTMLView",
            "description": "",
            "description_tooltip": null,
            "layout": "IPY_MODEL_014509b92cdd49329362c10afd18809a",
            "placeholder": "​",
            "style": "IPY_MODEL_1f62db3a0e12402781a143295a7da992",
            "value": "  0%"
          }
        },
        "8cf11fc2792f44989043fe3c0c5b7840": {
          "model_module": "@jupyter-widgets/controls",
          "model_name": "FloatProgressModel",
          "model_module_version": "1.5.0",
          "state": {
            "_dom_classes": [],
            "_model_module": "@jupyter-widgets/controls",
            "_model_module_version": "1.5.0",
            "_model_name": "FloatProgressModel",
            "_view_count": null,
            "_view_module": "@jupyter-widgets/controls",
            "_view_module_version": "1.5.0",
            "_view_name": "ProgressView",
            "bar_style": "",
            "description": "",
            "description_tooltip": null,
            "layout": "IPY_MODEL_748227b3ba734b62bb76a6a3a7569407",
            "max": 326,
            "min": 0,
            "orientation": "horizontal",
            "style": "IPY_MODEL_4c34a4e1004a41819ba7eb77ea93319d",
            "value": 0
          }
        },
        "ce4978b8d86d4dd59d6ea673452ca783": {
          "model_module": "@jupyter-widgets/controls",
          "model_name": "HTMLModel",
          "model_module_version": "1.5.0",
          "state": {
            "_dom_classes": [],
            "_model_module": "@jupyter-widgets/controls",
            "_model_module_version": "1.5.0",
            "_model_name": "HTMLModel",
            "_view_count": null,
            "_view_module": "@jupyter-widgets/controls",
            "_view_module_version": "1.5.0",
            "_view_name": "HTMLView",
            "description": "",
            "description_tooltip": null,
            "layout": "IPY_MODEL_c07067a26d2248e0a5669af22331c6c6",
            "placeholder": "​",
            "style": "IPY_MODEL_91b055096f71453d94cd9180cbc12411",
            "value": " 0/326 [00:00&lt;?, ?it/s]"
          }
        },
        "2a420a10271e4e87b65edddbab54d35f": {
          "model_module": "@jupyter-widgets/base",
          "model_name": "LayoutModel",
          "model_module_version": "1.2.0",
          "state": {
            "_model_module": "@jupyter-widgets/base",
            "_model_module_version": "1.2.0",
            "_model_name": "LayoutModel",
            "_view_count": null,
            "_view_module": "@jupyter-widgets/base",
            "_view_module_version": "1.2.0",
            "_view_name": "LayoutView",
            "align_content": null,
            "align_items": null,
            "align_self": null,
            "border": null,
            "bottom": null,
            "display": null,
            "flex": null,
            "flex_flow": null,
            "grid_area": null,
            "grid_auto_columns": null,
            "grid_auto_flow": null,
            "grid_auto_rows": null,
            "grid_column": null,
            "grid_gap": null,
            "grid_row": null,
            "grid_template_areas": null,
            "grid_template_columns": null,
            "grid_template_rows": null,
            "height": null,
            "justify_content": null,
            "justify_items": null,
            "left": null,
            "margin": null,
            "max_height": null,
            "max_width": null,
            "min_height": null,
            "min_width": null,
            "object_fit": null,
            "object_position": null,
            "order": null,
            "overflow": null,
            "overflow_x": null,
            "overflow_y": null,
            "padding": null,
            "right": null,
            "top": null,
            "visibility": null,
            "width": null
          }
        },
        "014509b92cdd49329362c10afd18809a": {
          "model_module": "@jupyter-widgets/base",
          "model_name": "LayoutModel",
          "model_module_version": "1.2.0",
          "state": {
            "_model_module": "@jupyter-widgets/base",
            "_model_module_version": "1.2.0",
            "_model_name": "LayoutModel",
            "_view_count": null,
            "_view_module": "@jupyter-widgets/base",
            "_view_module_version": "1.2.0",
            "_view_name": "LayoutView",
            "align_content": null,
            "align_items": null,
            "align_self": null,
            "border": null,
            "bottom": null,
            "display": null,
            "flex": null,
            "flex_flow": null,
            "grid_area": null,
            "grid_auto_columns": null,
            "grid_auto_flow": null,
            "grid_auto_rows": null,
            "grid_column": null,
            "grid_gap": null,
            "grid_row": null,
            "grid_template_areas": null,
            "grid_template_columns": null,
            "grid_template_rows": null,
            "height": null,
            "justify_content": null,
            "justify_items": null,
            "left": null,
            "margin": null,
            "max_height": null,
            "max_width": null,
            "min_height": null,
            "min_width": null,
            "object_fit": null,
            "object_position": null,
            "order": null,
            "overflow": null,
            "overflow_x": null,
            "overflow_y": null,
            "padding": null,
            "right": null,
            "top": null,
            "visibility": null,
            "width": null
          }
        },
        "1f62db3a0e12402781a143295a7da992": {
          "model_module": "@jupyter-widgets/controls",
          "model_name": "DescriptionStyleModel",
          "model_module_version": "1.5.0",
          "state": {
            "_model_module": "@jupyter-widgets/controls",
            "_model_module_version": "1.5.0",
            "_model_name": "DescriptionStyleModel",
            "_view_count": null,
            "_view_module": "@jupyter-widgets/base",
            "_view_module_version": "1.2.0",
            "_view_name": "StyleView",
            "description_width": ""
          }
        },
        "748227b3ba734b62bb76a6a3a7569407": {
          "model_module": "@jupyter-widgets/base",
          "model_name": "LayoutModel",
          "model_module_version": "1.2.0",
          "state": {
            "_model_module": "@jupyter-widgets/base",
            "_model_module_version": "1.2.0",
            "_model_name": "LayoutModel",
            "_view_count": null,
            "_view_module": "@jupyter-widgets/base",
            "_view_module_version": "1.2.0",
            "_view_name": "LayoutView",
            "align_content": null,
            "align_items": null,
            "align_self": null,
            "border": null,
            "bottom": null,
            "display": null,
            "flex": null,
            "flex_flow": null,
            "grid_area": null,
            "grid_auto_columns": null,
            "grid_auto_flow": null,
            "grid_auto_rows": null,
            "grid_column": null,
            "grid_gap": null,
            "grid_row": null,
            "grid_template_areas": null,
            "grid_template_columns": null,
            "grid_template_rows": null,
            "height": null,
            "justify_content": null,
            "justify_items": null,
            "left": null,
            "margin": null,
            "max_height": null,
            "max_width": null,
            "min_height": null,
            "min_width": null,
            "object_fit": null,
            "object_position": null,
            "order": null,
            "overflow": null,
            "overflow_x": null,
            "overflow_y": null,
            "padding": null,
            "right": null,
            "top": null,
            "visibility": null,
            "width": null
          }
        },
        "4c34a4e1004a41819ba7eb77ea93319d": {
          "model_module": "@jupyter-widgets/controls",
          "model_name": "ProgressStyleModel",
          "model_module_version": "1.5.0",
          "state": {
            "_model_module": "@jupyter-widgets/controls",
            "_model_module_version": "1.5.0",
            "_model_name": "ProgressStyleModel",
            "_view_count": null,
            "_view_module": "@jupyter-widgets/base",
            "_view_module_version": "1.2.0",
            "_view_name": "StyleView",
            "bar_color": null,
            "description_width": ""
          }
        },
        "c07067a26d2248e0a5669af22331c6c6": {
          "model_module": "@jupyter-widgets/base",
          "model_name": "LayoutModel",
          "model_module_version": "1.2.0",
          "state": {
            "_model_module": "@jupyter-widgets/base",
            "_model_module_version": "1.2.0",
            "_model_name": "LayoutModel",
            "_view_count": null,
            "_view_module": "@jupyter-widgets/base",
            "_view_module_version": "1.2.0",
            "_view_name": "LayoutView",
            "align_content": null,
            "align_items": null,
            "align_self": null,
            "border": null,
            "bottom": null,
            "display": null,
            "flex": null,
            "flex_flow": null,
            "grid_area": null,
            "grid_auto_columns": null,
            "grid_auto_flow": null,
            "grid_auto_rows": null,
            "grid_column": null,
            "grid_gap": null,
            "grid_row": null,
            "grid_template_areas": null,
            "grid_template_columns": null,
            "grid_template_rows": null,
            "height": null,
            "justify_content": null,
            "justify_items": null,
            "left": null,
            "margin": null,
            "max_height": null,
            "max_width": null,
            "min_height": null,
            "min_width": null,
            "object_fit": null,
            "object_position": null,
            "order": null,
            "overflow": null,
            "overflow_x": null,
            "overflow_y": null,
            "padding": null,
            "right": null,
            "top": null,
            "visibility": null,
            "width": null
          }
        },
        "91b055096f71453d94cd9180cbc12411": {
          "model_module": "@jupyter-widgets/controls",
          "model_name": "DescriptionStyleModel",
          "model_module_version": "1.5.0",
          "state": {
            "_model_module": "@jupyter-widgets/controls",
            "_model_module_version": "1.5.0",
            "_model_name": "DescriptionStyleModel",
            "_view_count": null,
            "_view_module": "@jupyter-widgets/base",
            "_view_module_version": "1.2.0",
            "_view_name": "StyleView",
            "description_width": ""
          }
        },
        "929da47bfc09440a90ede23c673f7e63": {
          "model_module": "@jupyter-widgets/controls",
          "model_name": "HBoxModel",
          "model_module_version": "1.5.0",
          "state": {
            "_dom_classes": [],
            "_model_module": "@jupyter-widgets/controls",
            "_model_module_version": "1.5.0",
            "_model_name": "HBoxModel",
            "_view_count": null,
            "_view_module": "@jupyter-widgets/controls",
            "_view_module_version": "1.5.0",
            "_view_name": "HBoxView",
            "box_style": "",
            "children": [
              "IPY_MODEL_4eceb20a48b64cd58c47700acea673bf",
              "IPY_MODEL_eadcb3793589435f8b4a239a30cf26db",
              "IPY_MODEL_097a0da407674fbaa2483f47921284df"
            ],
            "layout": "IPY_MODEL_35a4a7cb0d7d4ac1a70505a5acb262e4"
          }
        },
        "4eceb20a48b64cd58c47700acea673bf": {
          "model_module": "@jupyter-widgets/controls",
          "model_name": "HTMLModel",
          "model_module_version": "1.5.0",
          "state": {
            "_dom_classes": [],
            "_model_module": "@jupyter-widgets/controls",
            "_model_module_version": "1.5.0",
            "_model_name": "HTMLModel",
            "_view_count": null,
            "_view_module": "@jupyter-widgets/controls",
            "_view_module_version": "1.5.0",
            "_view_name": "HTMLView",
            "description": "",
            "description_tooltip": null,
            "layout": "IPY_MODEL_fa12830fe3204050ab52c0b995dfcaef",
            "placeholder": "​",
            "style": "IPY_MODEL_7b4848a7dc724d8093d5845d71a43d46",
            "value": "Downloading (…)okenizer_config.json: 100%"
          }
        },
        "eadcb3793589435f8b4a239a30cf26db": {
          "model_module": "@jupyter-widgets/controls",
          "model_name": "FloatProgressModel",
          "model_module_version": "1.5.0",
          "state": {
            "_dom_classes": [],
            "_model_module": "@jupyter-widgets/controls",
            "_model_module_version": "1.5.0",
            "_model_name": "FloatProgressModel",
            "_view_count": null,
            "_view_module": "@jupyter-widgets/controls",
            "_view_module_version": "1.5.0",
            "_view_name": "ProgressView",
            "bar_style": "success",
            "description": "",
            "description_tooltip": null,
            "layout": "IPY_MODEL_61c3de44bf6b4ab5877f660b7620c4d9",
            "max": 29,
            "min": 0,
            "orientation": "horizontal",
            "style": "IPY_MODEL_6787643f60e64c6e8bd212681ecf8ab4",
            "value": 29
          }
        },
        "097a0da407674fbaa2483f47921284df": {
          "model_module": "@jupyter-widgets/controls",
          "model_name": "HTMLModel",
          "model_module_version": "1.5.0",
          "state": {
            "_dom_classes": [],
            "_model_module": "@jupyter-widgets/controls",
            "_model_module_version": "1.5.0",
            "_model_name": "HTMLModel",
            "_view_count": null,
            "_view_module": "@jupyter-widgets/controls",
            "_view_module_version": "1.5.0",
            "_view_name": "HTMLView",
            "description": "",
            "description_tooltip": null,
            "layout": "IPY_MODEL_6d50982e2cd84277bcf5e35d5ccbc40e",
            "placeholder": "​",
            "style": "IPY_MODEL_b54efde33f244dcfaac94527473827d5",
            "value": " 29.0/29.0 [00:00&lt;00:00, 1.07kB/s]"
          }
        },
        "35a4a7cb0d7d4ac1a70505a5acb262e4": {
          "model_module": "@jupyter-widgets/base",
          "model_name": "LayoutModel",
          "model_module_version": "1.2.0",
          "state": {
            "_model_module": "@jupyter-widgets/base",
            "_model_module_version": "1.2.0",
            "_model_name": "LayoutModel",
            "_view_count": null,
            "_view_module": "@jupyter-widgets/base",
            "_view_module_version": "1.2.0",
            "_view_name": "LayoutView",
            "align_content": null,
            "align_items": null,
            "align_self": null,
            "border": null,
            "bottom": null,
            "display": null,
            "flex": null,
            "flex_flow": null,
            "grid_area": null,
            "grid_auto_columns": null,
            "grid_auto_flow": null,
            "grid_auto_rows": null,
            "grid_column": null,
            "grid_gap": null,
            "grid_row": null,
            "grid_template_areas": null,
            "grid_template_columns": null,
            "grid_template_rows": null,
            "height": null,
            "justify_content": null,
            "justify_items": null,
            "left": null,
            "margin": null,
            "max_height": null,
            "max_width": null,
            "min_height": null,
            "min_width": null,
            "object_fit": null,
            "object_position": null,
            "order": null,
            "overflow": null,
            "overflow_x": null,
            "overflow_y": null,
            "padding": null,
            "right": null,
            "top": null,
            "visibility": null,
            "width": null
          }
        },
        "fa12830fe3204050ab52c0b995dfcaef": {
          "model_module": "@jupyter-widgets/base",
          "model_name": "LayoutModel",
          "model_module_version": "1.2.0",
          "state": {
            "_model_module": "@jupyter-widgets/base",
            "_model_module_version": "1.2.0",
            "_model_name": "LayoutModel",
            "_view_count": null,
            "_view_module": "@jupyter-widgets/base",
            "_view_module_version": "1.2.0",
            "_view_name": "LayoutView",
            "align_content": null,
            "align_items": null,
            "align_self": null,
            "border": null,
            "bottom": null,
            "display": null,
            "flex": null,
            "flex_flow": null,
            "grid_area": null,
            "grid_auto_columns": null,
            "grid_auto_flow": null,
            "grid_auto_rows": null,
            "grid_column": null,
            "grid_gap": null,
            "grid_row": null,
            "grid_template_areas": null,
            "grid_template_columns": null,
            "grid_template_rows": null,
            "height": null,
            "justify_content": null,
            "justify_items": null,
            "left": null,
            "margin": null,
            "max_height": null,
            "max_width": null,
            "min_height": null,
            "min_width": null,
            "object_fit": null,
            "object_position": null,
            "order": null,
            "overflow": null,
            "overflow_x": null,
            "overflow_y": null,
            "padding": null,
            "right": null,
            "top": null,
            "visibility": null,
            "width": null
          }
        },
        "7b4848a7dc724d8093d5845d71a43d46": {
          "model_module": "@jupyter-widgets/controls",
          "model_name": "DescriptionStyleModel",
          "model_module_version": "1.5.0",
          "state": {
            "_model_module": "@jupyter-widgets/controls",
            "_model_module_version": "1.5.0",
            "_model_name": "DescriptionStyleModel",
            "_view_count": null,
            "_view_module": "@jupyter-widgets/base",
            "_view_module_version": "1.2.0",
            "_view_name": "StyleView",
            "description_width": ""
          }
        },
        "61c3de44bf6b4ab5877f660b7620c4d9": {
          "model_module": "@jupyter-widgets/base",
          "model_name": "LayoutModel",
          "model_module_version": "1.2.0",
          "state": {
            "_model_module": "@jupyter-widgets/base",
            "_model_module_version": "1.2.0",
            "_model_name": "LayoutModel",
            "_view_count": null,
            "_view_module": "@jupyter-widgets/base",
            "_view_module_version": "1.2.0",
            "_view_name": "LayoutView",
            "align_content": null,
            "align_items": null,
            "align_self": null,
            "border": null,
            "bottom": null,
            "display": null,
            "flex": null,
            "flex_flow": null,
            "grid_area": null,
            "grid_auto_columns": null,
            "grid_auto_flow": null,
            "grid_auto_rows": null,
            "grid_column": null,
            "grid_gap": null,
            "grid_row": null,
            "grid_template_areas": null,
            "grid_template_columns": null,
            "grid_template_rows": null,
            "height": null,
            "justify_content": null,
            "justify_items": null,
            "left": null,
            "margin": null,
            "max_height": null,
            "max_width": null,
            "min_height": null,
            "min_width": null,
            "object_fit": null,
            "object_position": null,
            "order": null,
            "overflow": null,
            "overflow_x": null,
            "overflow_y": null,
            "padding": null,
            "right": null,
            "top": null,
            "visibility": null,
            "width": null
          }
        },
        "6787643f60e64c6e8bd212681ecf8ab4": {
          "model_module": "@jupyter-widgets/controls",
          "model_name": "ProgressStyleModel",
          "model_module_version": "1.5.0",
          "state": {
            "_model_module": "@jupyter-widgets/controls",
            "_model_module_version": "1.5.0",
            "_model_name": "ProgressStyleModel",
            "_view_count": null,
            "_view_module": "@jupyter-widgets/base",
            "_view_module_version": "1.2.0",
            "_view_name": "StyleView",
            "bar_color": null,
            "description_width": ""
          }
        },
        "6d50982e2cd84277bcf5e35d5ccbc40e": {
          "model_module": "@jupyter-widgets/base",
          "model_name": "LayoutModel",
          "model_module_version": "1.2.0",
          "state": {
            "_model_module": "@jupyter-widgets/base",
            "_model_module_version": "1.2.0",
            "_model_name": "LayoutModel",
            "_view_count": null,
            "_view_module": "@jupyter-widgets/base",
            "_view_module_version": "1.2.0",
            "_view_name": "LayoutView",
            "align_content": null,
            "align_items": null,
            "align_self": null,
            "border": null,
            "bottom": null,
            "display": null,
            "flex": null,
            "flex_flow": null,
            "grid_area": null,
            "grid_auto_columns": null,
            "grid_auto_flow": null,
            "grid_auto_rows": null,
            "grid_column": null,
            "grid_gap": null,
            "grid_row": null,
            "grid_template_areas": null,
            "grid_template_columns": null,
            "grid_template_rows": null,
            "height": null,
            "justify_content": null,
            "justify_items": null,
            "left": null,
            "margin": null,
            "max_height": null,
            "max_width": null,
            "min_height": null,
            "min_width": null,
            "object_fit": null,
            "object_position": null,
            "order": null,
            "overflow": null,
            "overflow_x": null,
            "overflow_y": null,
            "padding": null,
            "right": null,
            "top": null,
            "visibility": null,
            "width": null
          }
        },
        "b54efde33f244dcfaac94527473827d5": {
          "model_module": "@jupyter-widgets/controls",
          "model_name": "DescriptionStyleModel",
          "model_module_version": "1.5.0",
          "state": {
            "_model_module": "@jupyter-widgets/controls",
            "_model_module_version": "1.5.0",
            "_model_name": "DescriptionStyleModel",
            "_view_count": null,
            "_view_module": "@jupyter-widgets/base",
            "_view_module_version": "1.2.0",
            "_view_name": "StyleView",
            "description_width": ""
          }
        },
        "05d20bff7f844de4824ead59925e7d9a": {
          "model_module": "@jupyter-widgets/controls",
          "model_name": "HBoxModel",
          "model_module_version": "1.5.0",
          "state": {
            "_dom_classes": [],
            "_model_module": "@jupyter-widgets/controls",
            "_model_module_version": "1.5.0",
            "_model_name": "HBoxModel",
            "_view_count": null,
            "_view_module": "@jupyter-widgets/controls",
            "_view_module_version": "1.5.0",
            "_view_name": "HBoxView",
            "box_style": "",
            "children": [
              "IPY_MODEL_d9bad3b775df4759991d92b5ec0dfd70",
              "IPY_MODEL_028415da1aab41e9b9288a46f726df67",
              "IPY_MODEL_c0cff2b1dab34723806af9beece28f06"
            ],
            "layout": "IPY_MODEL_65d64f56dce9481cad5e887fe09f360a"
          }
        },
        "d9bad3b775df4759991d92b5ec0dfd70": {
          "model_module": "@jupyter-widgets/controls",
          "model_name": "HTMLModel",
          "model_module_version": "1.5.0",
          "state": {
            "_dom_classes": [],
            "_model_module": "@jupyter-widgets/controls",
            "_model_module_version": "1.5.0",
            "_model_name": "HTMLModel",
            "_view_count": null,
            "_view_module": "@jupyter-widgets/controls",
            "_view_module_version": "1.5.0",
            "_view_name": "HTMLView",
            "description": "",
            "description_tooltip": null,
            "layout": "IPY_MODEL_b64adc1e7a014937892b3a121a754568",
            "placeholder": "​",
            "style": "IPY_MODEL_021aea47afb644fea69cb19ccbca9494",
            "value": "Downloading (…)lve/main/config.json: 100%"
          }
        },
        "028415da1aab41e9b9288a46f726df67": {
          "model_module": "@jupyter-widgets/controls",
          "model_name": "FloatProgressModel",
          "model_module_version": "1.5.0",
          "state": {
            "_dom_classes": [],
            "_model_module": "@jupyter-widgets/controls",
            "_model_module_version": "1.5.0",
            "_model_name": "FloatProgressModel",
            "_view_count": null,
            "_view_module": "@jupyter-widgets/controls",
            "_view_module_version": "1.5.0",
            "_view_name": "ProgressView",
            "bar_style": "success",
            "description": "",
            "description_tooltip": null,
            "layout": "IPY_MODEL_156d7334eccc40d89ef42bfc0de9cd7d",
            "max": 570,
            "min": 0,
            "orientation": "horizontal",
            "style": "IPY_MODEL_f27f590db01a49f0ba7f2c74048f7bcc",
            "value": 570
          }
        },
        "c0cff2b1dab34723806af9beece28f06": {
          "model_module": "@jupyter-widgets/controls",
          "model_name": "HTMLModel",
          "model_module_version": "1.5.0",
          "state": {
            "_dom_classes": [],
            "_model_module": "@jupyter-widgets/controls",
            "_model_module_version": "1.5.0",
            "_model_name": "HTMLModel",
            "_view_count": null,
            "_view_module": "@jupyter-widgets/controls",
            "_view_module_version": "1.5.0",
            "_view_name": "HTMLView",
            "description": "",
            "description_tooltip": null,
            "layout": "IPY_MODEL_38405f6c5d8b415da7d191e1a4d5be79",
            "placeholder": "​",
            "style": "IPY_MODEL_8f4b5cb6e53248d08d7a1f36f0ec306a",
            "value": " 570/570 [00:00&lt;00:00, 29.0kB/s]"
          }
        },
        "65d64f56dce9481cad5e887fe09f360a": {
          "model_module": "@jupyter-widgets/base",
          "model_name": "LayoutModel",
          "model_module_version": "1.2.0",
          "state": {
            "_model_module": "@jupyter-widgets/base",
            "_model_module_version": "1.2.0",
            "_model_name": "LayoutModel",
            "_view_count": null,
            "_view_module": "@jupyter-widgets/base",
            "_view_module_version": "1.2.0",
            "_view_name": "LayoutView",
            "align_content": null,
            "align_items": null,
            "align_self": null,
            "border": null,
            "bottom": null,
            "display": null,
            "flex": null,
            "flex_flow": null,
            "grid_area": null,
            "grid_auto_columns": null,
            "grid_auto_flow": null,
            "grid_auto_rows": null,
            "grid_column": null,
            "grid_gap": null,
            "grid_row": null,
            "grid_template_areas": null,
            "grid_template_columns": null,
            "grid_template_rows": null,
            "height": null,
            "justify_content": null,
            "justify_items": null,
            "left": null,
            "margin": null,
            "max_height": null,
            "max_width": null,
            "min_height": null,
            "min_width": null,
            "object_fit": null,
            "object_position": null,
            "order": null,
            "overflow": null,
            "overflow_x": null,
            "overflow_y": null,
            "padding": null,
            "right": null,
            "top": null,
            "visibility": null,
            "width": null
          }
        },
        "b64adc1e7a014937892b3a121a754568": {
          "model_module": "@jupyter-widgets/base",
          "model_name": "LayoutModel",
          "model_module_version": "1.2.0",
          "state": {
            "_model_module": "@jupyter-widgets/base",
            "_model_module_version": "1.2.0",
            "_model_name": "LayoutModel",
            "_view_count": null,
            "_view_module": "@jupyter-widgets/base",
            "_view_module_version": "1.2.0",
            "_view_name": "LayoutView",
            "align_content": null,
            "align_items": null,
            "align_self": null,
            "border": null,
            "bottom": null,
            "display": null,
            "flex": null,
            "flex_flow": null,
            "grid_area": null,
            "grid_auto_columns": null,
            "grid_auto_flow": null,
            "grid_auto_rows": null,
            "grid_column": null,
            "grid_gap": null,
            "grid_row": null,
            "grid_template_areas": null,
            "grid_template_columns": null,
            "grid_template_rows": null,
            "height": null,
            "justify_content": null,
            "justify_items": null,
            "left": null,
            "margin": null,
            "max_height": null,
            "max_width": null,
            "min_height": null,
            "min_width": null,
            "object_fit": null,
            "object_position": null,
            "order": null,
            "overflow": null,
            "overflow_x": null,
            "overflow_y": null,
            "padding": null,
            "right": null,
            "top": null,
            "visibility": null,
            "width": null
          }
        },
        "021aea47afb644fea69cb19ccbca9494": {
          "model_module": "@jupyter-widgets/controls",
          "model_name": "DescriptionStyleModel",
          "model_module_version": "1.5.0",
          "state": {
            "_model_module": "@jupyter-widgets/controls",
            "_model_module_version": "1.5.0",
            "_model_name": "DescriptionStyleModel",
            "_view_count": null,
            "_view_module": "@jupyter-widgets/base",
            "_view_module_version": "1.2.0",
            "_view_name": "StyleView",
            "description_width": ""
          }
        },
        "156d7334eccc40d89ef42bfc0de9cd7d": {
          "model_module": "@jupyter-widgets/base",
          "model_name": "LayoutModel",
          "model_module_version": "1.2.0",
          "state": {
            "_model_module": "@jupyter-widgets/base",
            "_model_module_version": "1.2.0",
            "_model_name": "LayoutModel",
            "_view_count": null,
            "_view_module": "@jupyter-widgets/base",
            "_view_module_version": "1.2.0",
            "_view_name": "LayoutView",
            "align_content": null,
            "align_items": null,
            "align_self": null,
            "border": null,
            "bottom": null,
            "display": null,
            "flex": null,
            "flex_flow": null,
            "grid_area": null,
            "grid_auto_columns": null,
            "grid_auto_flow": null,
            "grid_auto_rows": null,
            "grid_column": null,
            "grid_gap": null,
            "grid_row": null,
            "grid_template_areas": null,
            "grid_template_columns": null,
            "grid_template_rows": null,
            "height": null,
            "justify_content": null,
            "justify_items": null,
            "left": null,
            "margin": null,
            "max_height": null,
            "max_width": null,
            "min_height": null,
            "min_width": null,
            "object_fit": null,
            "object_position": null,
            "order": null,
            "overflow": null,
            "overflow_x": null,
            "overflow_y": null,
            "padding": null,
            "right": null,
            "top": null,
            "visibility": null,
            "width": null
          }
        },
        "f27f590db01a49f0ba7f2c74048f7bcc": {
          "model_module": "@jupyter-widgets/controls",
          "model_name": "ProgressStyleModel",
          "model_module_version": "1.5.0",
          "state": {
            "_model_module": "@jupyter-widgets/controls",
            "_model_module_version": "1.5.0",
            "_model_name": "ProgressStyleModel",
            "_view_count": null,
            "_view_module": "@jupyter-widgets/base",
            "_view_module_version": "1.2.0",
            "_view_name": "StyleView",
            "bar_color": null,
            "description_width": ""
          }
        },
        "38405f6c5d8b415da7d191e1a4d5be79": {
          "model_module": "@jupyter-widgets/base",
          "model_name": "LayoutModel",
          "model_module_version": "1.2.0",
          "state": {
            "_model_module": "@jupyter-widgets/base",
            "_model_module_version": "1.2.0",
            "_model_name": "LayoutModel",
            "_view_count": null,
            "_view_module": "@jupyter-widgets/base",
            "_view_module_version": "1.2.0",
            "_view_name": "LayoutView",
            "align_content": null,
            "align_items": null,
            "align_self": null,
            "border": null,
            "bottom": null,
            "display": null,
            "flex": null,
            "flex_flow": null,
            "grid_area": null,
            "grid_auto_columns": null,
            "grid_auto_flow": null,
            "grid_auto_rows": null,
            "grid_column": null,
            "grid_gap": null,
            "grid_row": null,
            "grid_template_areas": null,
            "grid_template_columns": null,
            "grid_template_rows": null,
            "height": null,
            "justify_content": null,
            "justify_items": null,
            "left": null,
            "margin": null,
            "max_height": null,
            "max_width": null,
            "min_height": null,
            "min_width": null,
            "object_fit": null,
            "object_position": null,
            "order": null,
            "overflow": null,
            "overflow_x": null,
            "overflow_y": null,
            "padding": null,
            "right": null,
            "top": null,
            "visibility": null,
            "width": null
          }
        },
        "8f4b5cb6e53248d08d7a1f36f0ec306a": {
          "model_module": "@jupyter-widgets/controls",
          "model_name": "DescriptionStyleModel",
          "model_module_version": "1.5.0",
          "state": {
            "_model_module": "@jupyter-widgets/controls",
            "_model_module_version": "1.5.0",
            "_model_name": "DescriptionStyleModel",
            "_view_count": null,
            "_view_module": "@jupyter-widgets/base",
            "_view_module_version": "1.2.0",
            "_view_name": "StyleView",
            "description_width": ""
          }
        },
        "8980b775b202452a8ab2be06fa601ea1": {
          "model_module": "@jupyter-widgets/controls",
          "model_name": "HBoxModel",
          "model_module_version": "1.5.0",
          "state": {
            "_dom_classes": [],
            "_model_module": "@jupyter-widgets/controls",
            "_model_module_version": "1.5.0",
            "_model_name": "HBoxModel",
            "_view_count": null,
            "_view_module": "@jupyter-widgets/controls",
            "_view_module_version": "1.5.0",
            "_view_name": "HBoxView",
            "box_style": "",
            "children": [
              "IPY_MODEL_a64ef3019d3a4b5db4bbaffb0b26b876",
              "IPY_MODEL_6e6319715a4b4877925b7c9be05d2672",
              "IPY_MODEL_a6bc4605417146dcaa58e0d67ab0bcd4"
            ],
            "layout": "IPY_MODEL_9e91b57533714989b33678931d1a3e52"
          }
        },
        "a64ef3019d3a4b5db4bbaffb0b26b876": {
          "model_module": "@jupyter-widgets/controls",
          "model_name": "HTMLModel",
          "model_module_version": "1.5.0",
          "state": {
            "_dom_classes": [],
            "_model_module": "@jupyter-widgets/controls",
            "_model_module_version": "1.5.0",
            "_model_name": "HTMLModel",
            "_view_count": null,
            "_view_module": "@jupyter-widgets/controls",
            "_view_module_version": "1.5.0",
            "_view_name": "HTMLView",
            "description": "",
            "description_tooltip": null,
            "layout": "IPY_MODEL_4f286855e2c34afa82b835078d9da25d",
            "placeholder": "​",
            "style": "IPY_MODEL_a099c0ab06734f83b846c8e24cdc375e",
            "value": "Downloading (…)solve/main/vocab.txt: 100%"
          }
        },
        "6e6319715a4b4877925b7c9be05d2672": {
          "model_module": "@jupyter-widgets/controls",
          "model_name": "FloatProgressModel",
          "model_module_version": "1.5.0",
          "state": {
            "_dom_classes": [],
            "_model_module": "@jupyter-widgets/controls",
            "_model_module_version": "1.5.0",
            "_model_name": "FloatProgressModel",
            "_view_count": null,
            "_view_module": "@jupyter-widgets/controls",
            "_view_module_version": "1.5.0",
            "_view_name": "ProgressView",
            "bar_style": "success",
            "description": "",
            "description_tooltip": null,
            "layout": "IPY_MODEL_5df87504ae0f4720b20c5bf61fd9b4b0",
            "max": 213450,
            "min": 0,
            "orientation": "horizontal",
            "style": "IPY_MODEL_b0e9d9bf78954e9292018504b740b089",
            "value": 213450
          }
        },
        "a6bc4605417146dcaa58e0d67ab0bcd4": {
          "model_module": "@jupyter-widgets/controls",
          "model_name": "HTMLModel",
          "model_module_version": "1.5.0",
          "state": {
            "_dom_classes": [],
            "_model_module": "@jupyter-widgets/controls",
            "_model_module_version": "1.5.0",
            "_model_name": "HTMLModel",
            "_view_count": null,
            "_view_module": "@jupyter-widgets/controls",
            "_view_module_version": "1.5.0",
            "_view_name": "HTMLView",
            "description": "",
            "description_tooltip": null,
            "layout": "IPY_MODEL_60f0247f977142d1b6d27ebf17af78b1",
            "placeholder": "​",
            "style": "IPY_MODEL_16ab9959057b4198b748e1a36ba9b8ec",
            "value": " 213k/213k [00:00&lt;00:00, 12.8MB/s]"
          }
        },
        "9e91b57533714989b33678931d1a3e52": {
          "model_module": "@jupyter-widgets/base",
          "model_name": "LayoutModel",
          "model_module_version": "1.2.0",
          "state": {
            "_model_module": "@jupyter-widgets/base",
            "_model_module_version": "1.2.0",
            "_model_name": "LayoutModel",
            "_view_count": null,
            "_view_module": "@jupyter-widgets/base",
            "_view_module_version": "1.2.0",
            "_view_name": "LayoutView",
            "align_content": null,
            "align_items": null,
            "align_self": null,
            "border": null,
            "bottom": null,
            "display": null,
            "flex": null,
            "flex_flow": null,
            "grid_area": null,
            "grid_auto_columns": null,
            "grid_auto_flow": null,
            "grid_auto_rows": null,
            "grid_column": null,
            "grid_gap": null,
            "grid_row": null,
            "grid_template_areas": null,
            "grid_template_columns": null,
            "grid_template_rows": null,
            "height": null,
            "justify_content": null,
            "justify_items": null,
            "left": null,
            "margin": null,
            "max_height": null,
            "max_width": null,
            "min_height": null,
            "min_width": null,
            "object_fit": null,
            "object_position": null,
            "order": null,
            "overflow": null,
            "overflow_x": null,
            "overflow_y": null,
            "padding": null,
            "right": null,
            "top": null,
            "visibility": null,
            "width": null
          }
        },
        "4f286855e2c34afa82b835078d9da25d": {
          "model_module": "@jupyter-widgets/base",
          "model_name": "LayoutModel",
          "model_module_version": "1.2.0",
          "state": {
            "_model_module": "@jupyter-widgets/base",
            "_model_module_version": "1.2.0",
            "_model_name": "LayoutModel",
            "_view_count": null,
            "_view_module": "@jupyter-widgets/base",
            "_view_module_version": "1.2.0",
            "_view_name": "LayoutView",
            "align_content": null,
            "align_items": null,
            "align_self": null,
            "border": null,
            "bottom": null,
            "display": null,
            "flex": null,
            "flex_flow": null,
            "grid_area": null,
            "grid_auto_columns": null,
            "grid_auto_flow": null,
            "grid_auto_rows": null,
            "grid_column": null,
            "grid_gap": null,
            "grid_row": null,
            "grid_template_areas": null,
            "grid_template_columns": null,
            "grid_template_rows": null,
            "height": null,
            "justify_content": null,
            "justify_items": null,
            "left": null,
            "margin": null,
            "max_height": null,
            "max_width": null,
            "min_height": null,
            "min_width": null,
            "object_fit": null,
            "object_position": null,
            "order": null,
            "overflow": null,
            "overflow_x": null,
            "overflow_y": null,
            "padding": null,
            "right": null,
            "top": null,
            "visibility": null,
            "width": null
          }
        },
        "a099c0ab06734f83b846c8e24cdc375e": {
          "model_module": "@jupyter-widgets/controls",
          "model_name": "DescriptionStyleModel",
          "model_module_version": "1.5.0",
          "state": {
            "_model_module": "@jupyter-widgets/controls",
            "_model_module_version": "1.5.0",
            "_model_name": "DescriptionStyleModel",
            "_view_count": null,
            "_view_module": "@jupyter-widgets/base",
            "_view_module_version": "1.2.0",
            "_view_name": "StyleView",
            "description_width": ""
          }
        },
        "5df87504ae0f4720b20c5bf61fd9b4b0": {
          "model_module": "@jupyter-widgets/base",
          "model_name": "LayoutModel",
          "model_module_version": "1.2.0",
          "state": {
            "_model_module": "@jupyter-widgets/base",
            "_model_module_version": "1.2.0",
            "_model_name": "LayoutModel",
            "_view_count": null,
            "_view_module": "@jupyter-widgets/base",
            "_view_module_version": "1.2.0",
            "_view_name": "LayoutView",
            "align_content": null,
            "align_items": null,
            "align_self": null,
            "border": null,
            "bottom": null,
            "display": null,
            "flex": null,
            "flex_flow": null,
            "grid_area": null,
            "grid_auto_columns": null,
            "grid_auto_flow": null,
            "grid_auto_rows": null,
            "grid_column": null,
            "grid_gap": null,
            "grid_row": null,
            "grid_template_areas": null,
            "grid_template_columns": null,
            "grid_template_rows": null,
            "height": null,
            "justify_content": null,
            "justify_items": null,
            "left": null,
            "margin": null,
            "max_height": null,
            "max_width": null,
            "min_height": null,
            "min_width": null,
            "object_fit": null,
            "object_position": null,
            "order": null,
            "overflow": null,
            "overflow_x": null,
            "overflow_y": null,
            "padding": null,
            "right": null,
            "top": null,
            "visibility": null,
            "width": null
          }
        },
        "b0e9d9bf78954e9292018504b740b089": {
          "model_module": "@jupyter-widgets/controls",
          "model_name": "ProgressStyleModel",
          "model_module_version": "1.5.0",
          "state": {
            "_model_module": "@jupyter-widgets/controls",
            "_model_module_version": "1.5.0",
            "_model_name": "ProgressStyleModel",
            "_view_count": null,
            "_view_module": "@jupyter-widgets/base",
            "_view_module_version": "1.2.0",
            "_view_name": "StyleView",
            "bar_color": null,
            "description_width": ""
          }
        },
        "60f0247f977142d1b6d27ebf17af78b1": {
          "model_module": "@jupyter-widgets/base",
          "model_name": "LayoutModel",
          "model_module_version": "1.2.0",
          "state": {
            "_model_module": "@jupyter-widgets/base",
            "_model_module_version": "1.2.0",
            "_model_name": "LayoutModel",
            "_view_count": null,
            "_view_module": "@jupyter-widgets/base",
            "_view_module_version": "1.2.0",
            "_view_name": "LayoutView",
            "align_content": null,
            "align_items": null,
            "align_self": null,
            "border": null,
            "bottom": null,
            "display": null,
            "flex": null,
            "flex_flow": null,
            "grid_area": null,
            "grid_auto_columns": null,
            "grid_auto_flow": null,
            "grid_auto_rows": null,
            "grid_column": null,
            "grid_gap": null,
            "grid_row": null,
            "grid_template_areas": null,
            "grid_template_columns": null,
            "grid_template_rows": null,
            "height": null,
            "justify_content": null,
            "justify_items": null,
            "left": null,
            "margin": null,
            "max_height": null,
            "max_width": null,
            "min_height": null,
            "min_width": null,
            "object_fit": null,
            "object_position": null,
            "order": null,
            "overflow": null,
            "overflow_x": null,
            "overflow_y": null,
            "padding": null,
            "right": null,
            "top": null,
            "visibility": null,
            "width": null
          }
        },
        "16ab9959057b4198b748e1a36ba9b8ec": {
          "model_module": "@jupyter-widgets/controls",
          "model_name": "DescriptionStyleModel",
          "model_module_version": "1.5.0",
          "state": {
            "_model_module": "@jupyter-widgets/controls",
            "_model_module_version": "1.5.0",
            "_model_name": "DescriptionStyleModel",
            "_view_count": null,
            "_view_module": "@jupyter-widgets/base",
            "_view_module_version": "1.2.0",
            "_view_name": "StyleView",
            "description_width": ""
          }
        },
        "036d4458888f4088a85da054ddd66379": {
          "model_module": "@jupyter-widgets/controls",
          "model_name": "HBoxModel",
          "model_module_version": "1.5.0",
          "state": {
            "_dom_classes": [],
            "_model_module": "@jupyter-widgets/controls",
            "_model_module_version": "1.5.0",
            "_model_name": "HBoxModel",
            "_view_count": null,
            "_view_module": "@jupyter-widgets/controls",
            "_view_module_version": "1.5.0",
            "_view_name": "HBoxView",
            "box_style": "",
            "children": [
              "IPY_MODEL_54ef736563384deda5a19d60140b8f43",
              "IPY_MODEL_6971e6caa5044398a542beea166faba9",
              "IPY_MODEL_6f0bad9830b440b38ab1aed674fbe2a4"
            ],
            "layout": "IPY_MODEL_a9dac48911d147b998929dd92c40c924"
          }
        },
        "54ef736563384deda5a19d60140b8f43": {
          "model_module": "@jupyter-widgets/controls",
          "model_name": "HTMLModel",
          "model_module_version": "1.5.0",
          "state": {
            "_dom_classes": [],
            "_model_module": "@jupyter-widgets/controls",
            "_model_module_version": "1.5.0",
            "_model_name": "HTMLModel",
            "_view_count": null,
            "_view_module": "@jupyter-widgets/controls",
            "_view_module_version": "1.5.0",
            "_view_name": "HTMLView",
            "description": "",
            "description_tooltip": null,
            "layout": "IPY_MODEL_828fa92f555f461c97bdb034bd7ebc88",
            "placeholder": "​",
            "style": "IPY_MODEL_377d24f06dd743d1bd8f956655569f12",
            "value": "Downloading (…)/main/tokenizer.json: 100%"
          }
        },
        "6971e6caa5044398a542beea166faba9": {
          "model_module": "@jupyter-widgets/controls",
          "model_name": "FloatProgressModel",
          "model_module_version": "1.5.0",
          "state": {
            "_dom_classes": [],
            "_model_module": "@jupyter-widgets/controls",
            "_model_module_version": "1.5.0",
            "_model_name": "FloatProgressModel",
            "_view_count": null,
            "_view_module": "@jupyter-widgets/controls",
            "_view_module_version": "1.5.0",
            "_view_name": "ProgressView",
            "bar_style": "success",
            "description": "",
            "description_tooltip": null,
            "layout": "IPY_MODEL_b26a0773821b45bcaa12cbed8a7644fd",
            "max": 435797,
            "min": 0,
            "orientation": "horizontal",
            "style": "IPY_MODEL_4da4b7bd8bfe4771b7742919d0b8e505",
            "value": 435797
          }
        },
        "6f0bad9830b440b38ab1aed674fbe2a4": {
          "model_module": "@jupyter-widgets/controls",
          "model_name": "HTMLModel",
          "model_module_version": "1.5.0",
          "state": {
            "_dom_classes": [],
            "_model_module": "@jupyter-widgets/controls",
            "_model_module_version": "1.5.0",
            "_model_name": "HTMLModel",
            "_view_count": null,
            "_view_module": "@jupyter-widgets/controls",
            "_view_module_version": "1.5.0",
            "_view_name": "HTMLView",
            "description": "",
            "description_tooltip": null,
            "layout": "IPY_MODEL_756cf591067740c1afbd1faf267b97aa",
            "placeholder": "​",
            "style": "IPY_MODEL_01ce76b724794bcc96d1f2f572a137d1",
            "value": " 436k/436k [00:00&lt;00:00, 11.8MB/s]"
          }
        },
        "a9dac48911d147b998929dd92c40c924": {
          "model_module": "@jupyter-widgets/base",
          "model_name": "LayoutModel",
          "model_module_version": "1.2.0",
          "state": {
            "_model_module": "@jupyter-widgets/base",
            "_model_module_version": "1.2.0",
            "_model_name": "LayoutModel",
            "_view_count": null,
            "_view_module": "@jupyter-widgets/base",
            "_view_module_version": "1.2.0",
            "_view_name": "LayoutView",
            "align_content": null,
            "align_items": null,
            "align_self": null,
            "border": null,
            "bottom": null,
            "display": null,
            "flex": null,
            "flex_flow": null,
            "grid_area": null,
            "grid_auto_columns": null,
            "grid_auto_flow": null,
            "grid_auto_rows": null,
            "grid_column": null,
            "grid_gap": null,
            "grid_row": null,
            "grid_template_areas": null,
            "grid_template_columns": null,
            "grid_template_rows": null,
            "height": null,
            "justify_content": null,
            "justify_items": null,
            "left": null,
            "margin": null,
            "max_height": null,
            "max_width": null,
            "min_height": null,
            "min_width": null,
            "object_fit": null,
            "object_position": null,
            "order": null,
            "overflow": null,
            "overflow_x": null,
            "overflow_y": null,
            "padding": null,
            "right": null,
            "top": null,
            "visibility": null,
            "width": null
          }
        },
        "828fa92f555f461c97bdb034bd7ebc88": {
          "model_module": "@jupyter-widgets/base",
          "model_name": "LayoutModel",
          "model_module_version": "1.2.0",
          "state": {
            "_model_module": "@jupyter-widgets/base",
            "_model_module_version": "1.2.0",
            "_model_name": "LayoutModel",
            "_view_count": null,
            "_view_module": "@jupyter-widgets/base",
            "_view_module_version": "1.2.0",
            "_view_name": "LayoutView",
            "align_content": null,
            "align_items": null,
            "align_self": null,
            "border": null,
            "bottom": null,
            "display": null,
            "flex": null,
            "flex_flow": null,
            "grid_area": null,
            "grid_auto_columns": null,
            "grid_auto_flow": null,
            "grid_auto_rows": null,
            "grid_column": null,
            "grid_gap": null,
            "grid_row": null,
            "grid_template_areas": null,
            "grid_template_columns": null,
            "grid_template_rows": null,
            "height": null,
            "justify_content": null,
            "justify_items": null,
            "left": null,
            "margin": null,
            "max_height": null,
            "max_width": null,
            "min_height": null,
            "min_width": null,
            "object_fit": null,
            "object_position": null,
            "order": null,
            "overflow": null,
            "overflow_x": null,
            "overflow_y": null,
            "padding": null,
            "right": null,
            "top": null,
            "visibility": null,
            "width": null
          }
        },
        "377d24f06dd743d1bd8f956655569f12": {
          "model_module": "@jupyter-widgets/controls",
          "model_name": "DescriptionStyleModel",
          "model_module_version": "1.5.0",
          "state": {
            "_model_module": "@jupyter-widgets/controls",
            "_model_module_version": "1.5.0",
            "_model_name": "DescriptionStyleModel",
            "_view_count": null,
            "_view_module": "@jupyter-widgets/base",
            "_view_module_version": "1.2.0",
            "_view_name": "StyleView",
            "description_width": ""
          }
        },
        "b26a0773821b45bcaa12cbed8a7644fd": {
          "model_module": "@jupyter-widgets/base",
          "model_name": "LayoutModel",
          "model_module_version": "1.2.0",
          "state": {
            "_model_module": "@jupyter-widgets/base",
            "_model_module_version": "1.2.0",
            "_model_name": "LayoutModel",
            "_view_count": null,
            "_view_module": "@jupyter-widgets/base",
            "_view_module_version": "1.2.0",
            "_view_name": "LayoutView",
            "align_content": null,
            "align_items": null,
            "align_self": null,
            "border": null,
            "bottom": null,
            "display": null,
            "flex": null,
            "flex_flow": null,
            "grid_area": null,
            "grid_auto_columns": null,
            "grid_auto_flow": null,
            "grid_auto_rows": null,
            "grid_column": null,
            "grid_gap": null,
            "grid_row": null,
            "grid_template_areas": null,
            "grid_template_columns": null,
            "grid_template_rows": null,
            "height": null,
            "justify_content": null,
            "justify_items": null,
            "left": null,
            "margin": null,
            "max_height": null,
            "max_width": null,
            "min_height": null,
            "min_width": null,
            "object_fit": null,
            "object_position": null,
            "order": null,
            "overflow": null,
            "overflow_x": null,
            "overflow_y": null,
            "padding": null,
            "right": null,
            "top": null,
            "visibility": null,
            "width": null
          }
        },
        "4da4b7bd8bfe4771b7742919d0b8e505": {
          "model_module": "@jupyter-widgets/controls",
          "model_name": "ProgressStyleModel",
          "model_module_version": "1.5.0",
          "state": {
            "_model_module": "@jupyter-widgets/controls",
            "_model_module_version": "1.5.0",
            "_model_name": "ProgressStyleModel",
            "_view_count": null,
            "_view_module": "@jupyter-widgets/base",
            "_view_module_version": "1.2.0",
            "_view_name": "StyleView",
            "bar_color": null,
            "description_width": ""
          }
        },
        "756cf591067740c1afbd1faf267b97aa": {
          "model_module": "@jupyter-widgets/base",
          "model_name": "LayoutModel",
          "model_module_version": "1.2.0",
          "state": {
            "_model_module": "@jupyter-widgets/base",
            "_model_module_version": "1.2.0",
            "_model_name": "LayoutModel",
            "_view_count": null,
            "_view_module": "@jupyter-widgets/base",
            "_view_module_version": "1.2.0",
            "_view_name": "LayoutView",
            "align_content": null,
            "align_items": null,
            "align_self": null,
            "border": null,
            "bottom": null,
            "display": null,
            "flex": null,
            "flex_flow": null,
            "grid_area": null,
            "grid_auto_columns": null,
            "grid_auto_flow": null,
            "grid_auto_rows": null,
            "grid_column": null,
            "grid_gap": null,
            "grid_row": null,
            "grid_template_areas": null,
            "grid_template_columns": null,
            "grid_template_rows": null,
            "height": null,
            "justify_content": null,
            "justify_items": null,
            "left": null,
            "margin": null,
            "max_height": null,
            "max_width": null,
            "min_height": null,
            "min_width": null,
            "object_fit": null,
            "object_position": null,
            "order": null,
            "overflow": null,
            "overflow_x": null,
            "overflow_y": null,
            "padding": null,
            "right": null,
            "top": null,
            "visibility": null,
            "width": null
          }
        },
        "01ce76b724794bcc96d1f2f572a137d1": {
          "model_module": "@jupyter-widgets/controls",
          "model_name": "DescriptionStyleModel",
          "model_module_version": "1.5.0",
          "state": {
            "_model_module": "@jupyter-widgets/controls",
            "_model_module_version": "1.5.0",
            "_model_name": "DescriptionStyleModel",
            "_view_count": null,
            "_view_module": "@jupyter-widgets/base",
            "_view_module_version": "1.2.0",
            "_view_name": "StyleView",
            "description_width": ""
          }
        },
        "3b294bc32b874fe6bf852e56b4eaefb0": {
          "model_module": "@jupyter-widgets/controls",
          "model_name": "HBoxModel",
          "model_module_version": "1.5.0",
          "state": {
            "_dom_classes": [],
            "_model_module": "@jupyter-widgets/controls",
            "_model_module_version": "1.5.0",
            "_model_name": "HBoxModel",
            "_view_count": null,
            "_view_module": "@jupyter-widgets/controls",
            "_view_module_version": "1.5.0",
            "_view_name": "HBoxView",
            "box_style": "",
            "children": [
              "IPY_MODEL_d5dc34bc1917419dbeddf4f73006cad6",
              "IPY_MODEL_c60c8bc14306406094c9acc5dc33d86f",
              "IPY_MODEL_cf8028a260c44b28b45ce683d744ca82"
            ],
            "layout": "IPY_MODEL_8cf6b2dfac4a409c80e1f971b5164105"
          }
        },
        "d5dc34bc1917419dbeddf4f73006cad6": {
          "model_module": "@jupyter-widgets/controls",
          "model_name": "HTMLModel",
          "model_module_version": "1.5.0",
          "state": {
            "_dom_classes": [],
            "_model_module": "@jupyter-widgets/controls",
            "_model_module_version": "1.5.0",
            "_model_name": "HTMLModel",
            "_view_count": null,
            "_view_module": "@jupyter-widgets/controls",
            "_view_module_version": "1.5.0",
            "_view_name": "HTMLView",
            "description": "",
            "description_tooltip": null,
            "layout": "IPY_MODEL_17c8f51f9cad4cc9b076b69ee7bcd8eb",
            "placeholder": "​",
            "style": "IPY_MODEL_74a15b94ed804b79bff7dce64c586b26",
            "value": "Downloading model.safetensors: 100%"
          }
        },
        "c60c8bc14306406094c9acc5dc33d86f": {
          "model_module": "@jupyter-widgets/controls",
          "model_name": "FloatProgressModel",
          "model_module_version": "1.5.0",
          "state": {
            "_dom_classes": [],
            "_model_module": "@jupyter-widgets/controls",
            "_model_module_version": "1.5.0",
            "_model_name": "FloatProgressModel",
            "_view_count": null,
            "_view_module": "@jupyter-widgets/controls",
            "_view_module_version": "1.5.0",
            "_view_name": "ProgressView",
            "bar_style": "success",
            "description": "",
            "description_tooltip": null,
            "layout": "IPY_MODEL_1fd74cf6a5604f9a9c653d48718f222a",
            "max": 435755784,
            "min": 0,
            "orientation": "horizontal",
            "style": "IPY_MODEL_bae0c02fa9064129a6d963446d646c44",
            "value": 435755784
          }
        },
        "cf8028a260c44b28b45ce683d744ca82": {
          "model_module": "@jupyter-widgets/controls",
          "model_name": "HTMLModel",
          "model_module_version": "1.5.0",
          "state": {
            "_dom_classes": [],
            "_model_module": "@jupyter-widgets/controls",
            "_model_module_version": "1.5.0",
            "_model_name": "HTMLModel",
            "_view_count": null,
            "_view_module": "@jupyter-widgets/controls",
            "_view_module_version": "1.5.0",
            "_view_name": "HTMLView",
            "description": "",
            "description_tooltip": null,
            "layout": "IPY_MODEL_b7cbbdcd65dc4dd6bb2f0eb5525fa343",
            "placeholder": "​",
            "style": "IPY_MODEL_1cd0c87093164672ae8ab5dc09358cdd",
            "value": " 436M/436M [00:01&lt;00:00, 249MB/s]"
          }
        },
        "8cf6b2dfac4a409c80e1f971b5164105": {
          "model_module": "@jupyter-widgets/base",
          "model_name": "LayoutModel",
          "model_module_version": "1.2.0",
          "state": {
            "_model_module": "@jupyter-widgets/base",
            "_model_module_version": "1.2.0",
            "_model_name": "LayoutModel",
            "_view_count": null,
            "_view_module": "@jupyter-widgets/base",
            "_view_module_version": "1.2.0",
            "_view_name": "LayoutView",
            "align_content": null,
            "align_items": null,
            "align_self": null,
            "border": null,
            "bottom": null,
            "display": null,
            "flex": null,
            "flex_flow": null,
            "grid_area": null,
            "grid_auto_columns": null,
            "grid_auto_flow": null,
            "grid_auto_rows": null,
            "grid_column": null,
            "grid_gap": null,
            "grid_row": null,
            "grid_template_areas": null,
            "grid_template_columns": null,
            "grid_template_rows": null,
            "height": null,
            "justify_content": null,
            "justify_items": null,
            "left": null,
            "margin": null,
            "max_height": null,
            "max_width": null,
            "min_height": null,
            "min_width": null,
            "object_fit": null,
            "object_position": null,
            "order": null,
            "overflow": null,
            "overflow_x": null,
            "overflow_y": null,
            "padding": null,
            "right": null,
            "top": null,
            "visibility": null,
            "width": null
          }
        },
        "17c8f51f9cad4cc9b076b69ee7bcd8eb": {
          "model_module": "@jupyter-widgets/base",
          "model_name": "LayoutModel",
          "model_module_version": "1.2.0",
          "state": {
            "_model_module": "@jupyter-widgets/base",
            "_model_module_version": "1.2.0",
            "_model_name": "LayoutModel",
            "_view_count": null,
            "_view_module": "@jupyter-widgets/base",
            "_view_module_version": "1.2.0",
            "_view_name": "LayoutView",
            "align_content": null,
            "align_items": null,
            "align_self": null,
            "border": null,
            "bottom": null,
            "display": null,
            "flex": null,
            "flex_flow": null,
            "grid_area": null,
            "grid_auto_columns": null,
            "grid_auto_flow": null,
            "grid_auto_rows": null,
            "grid_column": null,
            "grid_gap": null,
            "grid_row": null,
            "grid_template_areas": null,
            "grid_template_columns": null,
            "grid_template_rows": null,
            "height": null,
            "justify_content": null,
            "justify_items": null,
            "left": null,
            "margin": null,
            "max_height": null,
            "max_width": null,
            "min_height": null,
            "min_width": null,
            "object_fit": null,
            "object_position": null,
            "order": null,
            "overflow": null,
            "overflow_x": null,
            "overflow_y": null,
            "padding": null,
            "right": null,
            "top": null,
            "visibility": null,
            "width": null
          }
        },
        "74a15b94ed804b79bff7dce64c586b26": {
          "model_module": "@jupyter-widgets/controls",
          "model_name": "DescriptionStyleModel",
          "model_module_version": "1.5.0",
          "state": {
            "_model_module": "@jupyter-widgets/controls",
            "_model_module_version": "1.5.0",
            "_model_name": "DescriptionStyleModel",
            "_view_count": null,
            "_view_module": "@jupyter-widgets/base",
            "_view_module_version": "1.2.0",
            "_view_name": "StyleView",
            "description_width": ""
          }
        },
        "1fd74cf6a5604f9a9c653d48718f222a": {
          "model_module": "@jupyter-widgets/base",
          "model_name": "LayoutModel",
          "model_module_version": "1.2.0",
          "state": {
            "_model_module": "@jupyter-widgets/base",
            "_model_module_version": "1.2.0",
            "_model_name": "LayoutModel",
            "_view_count": null,
            "_view_module": "@jupyter-widgets/base",
            "_view_module_version": "1.2.0",
            "_view_name": "LayoutView",
            "align_content": null,
            "align_items": null,
            "align_self": null,
            "border": null,
            "bottom": null,
            "display": null,
            "flex": null,
            "flex_flow": null,
            "grid_area": null,
            "grid_auto_columns": null,
            "grid_auto_flow": null,
            "grid_auto_rows": null,
            "grid_column": null,
            "grid_gap": null,
            "grid_row": null,
            "grid_template_areas": null,
            "grid_template_columns": null,
            "grid_template_rows": null,
            "height": null,
            "justify_content": null,
            "justify_items": null,
            "left": null,
            "margin": null,
            "max_height": null,
            "max_width": null,
            "min_height": null,
            "min_width": null,
            "object_fit": null,
            "object_position": null,
            "order": null,
            "overflow": null,
            "overflow_x": null,
            "overflow_y": null,
            "padding": null,
            "right": null,
            "top": null,
            "visibility": null,
            "width": null
          }
        },
        "bae0c02fa9064129a6d963446d646c44": {
          "model_module": "@jupyter-widgets/controls",
          "model_name": "ProgressStyleModel",
          "model_module_version": "1.5.0",
          "state": {
            "_model_module": "@jupyter-widgets/controls",
            "_model_module_version": "1.5.0",
            "_model_name": "ProgressStyleModel",
            "_view_count": null,
            "_view_module": "@jupyter-widgets/base",
            "_view_module_version": "1.2.0",
            "_view_name": "StyleView",
            "bar_color": null,
            "description_width": ""
          }
        },
        "b7cbbdcd65dc4dd6bb2f0eb5525fa343": {
          "model_module": "@jupyter-widgets/base",
          "model_name": "LayoutModel",
          "model_module_version": "1.2.0",
          "state": {
            "_model_module": "@jupyter-widgets/base",
            "_model_module_version": "1.2.0",
            "_model_name": "LayoutModel",
            "_view_count": null,
            "_view_module": "@jupyter-widgets/base",
            "_view_module_version": "1.2.0",
            "_view_name": "LayoutView",
            "align_content": null,
            "align_items": null,
            "align_self": null,
            "border": null,
            "bottom": null,
            "display": null,
            "flex": null,
            "flex_flow": null,
            "grid_area": null,
            "grid_auto_columns": null,
            "grid_auto_flow": null,
            "grid_auto_rows": null,
            "grid_column": null,
            "grid_gap": null,
            "grid_row": null,
            "grid_template_areas": null,
            "grid_template_columns": null,
            "grid_template_rows": null,
            "height": null,
            "justify_content": null,
            "justify_items": null,
            "left": null,
            "margin": null,
            "max_height": null,
            "max_width": null,
            "min_height": null,
            "min_width": null,
            "object_fit": null,
            "object_position": null,
            "order": null,
            "overflow": null,
            "overflow_x": null,
            "overflow_y": null,
            "padding": null,
            "right": null,
            "top": null,
            "visibility": null,
            "width": null
          }
        },
        "1cd0c87093164672ae8ab5dc09358cdd": {
          "model_module": "@jupyter-widgets/controls",
          "model_name": "DescriptionStyleModel",
          "model_module_version": "1.5.0",
          "state": {
            "_model_module": "@jupyter-widgets/controls",
            "_model_module_version": "1.5.0",
            "_model_name": "DescriptionStyleModel",
            "_view_count": null,
            "_view_module": "@jupyter-widgets/base",
            "_view_module_version": "1.2.0",
            "_view_name": "StyleView",
            "description_width": ""
          }
        }
      }
    }
  },
  "nbformat": 4,
  "nbformat_minor": 0
}