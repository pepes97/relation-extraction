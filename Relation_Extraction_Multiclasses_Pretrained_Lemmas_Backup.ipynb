{
  "cells": [
    {
      "cell_type": "markdown",
      "metadata": {
        "id": "view-in-github",
        "colab_type": "text"
      },
      "source": [
        "<a href=\"https://colab.research.google.com/github/pepes97/relation-extraction/blob/sveva-develop/Relation_Extraction_Multiclasses_Pretrained_Lemmas_Backup.ipynb\" target=\"_parent\"><img src=\"https://colab.research.google.com/assets/colab-badge.svg\" alt=\"Open In Colab\"/></a>"
      ]
    },
    {
      "cell_type": "markdown",
      "metadata": {
        "id": "Hn7Pi0a5Z7Gx"
      },
      "source": [
        "# Install"
      ]
    },
    {
      "cell_type": "code",
      "execution_count": 1,
      "metadata": {
        "id": "w5obiSwtZ8Z1",
        "colab": {
          "base_uri": "https://localhost:8080/"
        },
        "outputId": "0df8324c-db5f-41f2-972c-28b19e3fb919"
      },
      "outputs": [
        {
          "output_type": "stream",
          "name": "stdout",
          "text": [
            "Looking in indexes: https://pypi.org/simple, https://us-python.pkg.dev/colab-wheels/public/simple/\n",
            "Requirement already satisfied: transformers in /usr/local/lib/python3.10/dist-packages (4.30.1)\n",
            "Requirement already satisfied: filelock in /usr/local/lib/python3.10/dist-packages (from transformers) (3.12.0)\n",
            "Requirement already satisfied: huggingface-hub<1.0,>=0.14.1 in /usr/local/lib/python3.10/dist-packages (from transformers) (0.15.1)\n",
            "Requirement already satisfied: numpy>=1.17 in /usr/local/lib/python3.10/dist-packages (from transformers) (1.22.4)\n",
            "Requirement already satisfied: packaging>=20.0 in /usr/local/lib/python3.10/dist-packages (from transformers) (23.1)\n",
            "Requirement already satisfied: pyyaml>=5.1 in /usr/local/lib/python3.10/dist-packages (from transformers) (6.0)\n",
            "Requirement already satisfied: regex!=2019.12.17 in /usr/local/lib/python3.10/dist-packages (from transformers) (2022.10.31)\n",
            "Requirement already satisfied: requests in /usr/local/lib/python3.10/dist-packages (from transformers) (2.27.1)\n",
            "Requirement already satisfied: tokenizers!=0.11.3,<0.14,>=0.11.1 in /usr/local/lib/python3.10/dist-packages (from transformers) (0.13.3)\n",
            "Requirement already satisfied: safetensors>=0.3.1 in /usr/local/lib/python3.10/dist-packages (from transformers) (0.3.1)\n",
            "Requirement already satisfied: tqdm>=4.27 in /usr/local/lib/python3.10/dist-packages (from transformers) (4.65.0)\n",
            "Requirement already satisfied: fsspec in /usr/local/lib/python3.10/dist-packages (from huggingface-hub<1.0,>=0.14.1->transformers) (2023.4.0)\n",
            "Requirement already satisfied: typing-extensions>=3.7.4.3 in /usr/local/lib/python3.10/dist-packages (from huggingface-hub<1.0,>=0.14.1->transformers) (4.5.0)\n",
            "Requirement already satisfied: urllib3<1.27,>=1.21.1 in /usr/local/lib/python3.10/dist-packages (from requests->transformers) (1.26.15)\n",
            "Requirement already satisfied: certifi>=2017.4.17 in /usr/local/lib/python3.10/dist-packages (from requests->transformers) (2022.12.7)\n",
            "Requirement already satisfied: charset-normalizer~=2.0.0 in /usr/local/lib/python3.10/dist-packages (from requests->transformers) (2.0.12)\n",
            "Requirement already satisfied: idna<4,>=2.5 in /usr/local/lib/python3.10/dist-packages (from requests->transformers) (3.4)\n",
            "Looking in indexes: https://pypi.org/simple, https://us-python.pkg.dev/colab-wheels/public/simple/\n",
            "Requirement already satisfied: datasets in /usr/local/lib/python3.10/dist-packages (2.12.0)\n",
            "Requirement already satisfied: numpy>=1.17 in /usr/local/lib/python3.10/dist-packages (from datasets) (1.22.4)\n",
            "Requirement already satisfied: pyarrow>=8.0.0 in /usr/local/lib/python3.10/dist-packages (from datasets) (9.0.0)\n",
            "Requirement already satisfied: dill<0.3.7,>=0.3.0 in /usr/local/lib/python3.10/dist-packages (from datasets) (0.3.6)\n",
            "Requirement already satisfied: pandas in /usr/local/lib/python3.10/dist-packages (from datasets) (1.5.3)\n",
            "Requirement already satisfied: requests>=2.19.0 in /usr/local/lib/python3.10/dist-packages (from datasets) (2.27.1)\n",
            "Requirement already satisfied: tqdm>=4.62.1 in /usr/local/lib/python3.10/dist-packages (from datasets) (4.65.0)\n",
            "Requirement already satisfied: xxhash in /usr/local/lib/python3.10/dist-packages (from datasets) (3.2.0)\n",
            "Requirement already satisfied: multiprocess in /usr/local/lib/python3.10/dist-packages (from datasets) (0.70.14)\n",
            "Requirement already satisfied: fsspec[http]>=2021.11.1 in /usr/local/lib/python3.10/dist-packages (from datasets) (2023.4.0)\n",
            "Requirement already satisfied: aiohttp in /usr/local/lib/python3.10/dist-packages (from datasets) (3.8.4)\n",
            "Requirement already satisfied: huggingface-hub<1.0.0,>=0.11.0 in /usr/local/lib/python3.10/dist-packages (from datasets) (0.15.1)\n",
            "Requirement already satisfied: packaging in /usr/local/lib/python3.10/dist-packages (from datasets) (23.1)\n",
            "Requirement already satisfied: responses<0.19 in /usr/local/lib/python3.10/dist-packages (from datasets) (0.18.0)\n",
            "Requirement already satisfied: pyyaml>=5.1 in /usr/local/lib/python3.10/dist-packages (from datasets) (6.0)\n",
            "Requirement already satisfied: attrs>=17.3.0 in /usr/local/lib/python3.10/dist-packages (from aiohttp->datasets) (23.1.0)\n",
            "Requirement already satisfied: charset-normalizer<4.0,>=2.0 in /usr/local/lib/python3.10/dist-packages (from aiohttp->datasets) (2.0.12)\n",
            "Requirement already satisfied: multidict<7.0,>=4.5 in /usr/local/lib/python3.10/dist-packages (from aiohttp->datasets) (6.0.4)\n",
            "Requirement already satisfied: async-timeout<5.0,>=4.0.0a3 in /usr/local/lib/python3.10/dist-packages (from aiohttp->datasets) (4.0.2)\n",
            "Requirement already satisfied: yarl<2.0,>=1.0 in /usr/local/lib/python3.10/dist-packages (from aiohttp->datasets) (1.9.2)\n",
            "Requirement already satisfied: frozenlist>=1.1.1 in /usr/local/lib/python3.10/dist-packages (from aiohttp->datasets) (1.3.3)\n",
            "Requirement already satisfied: aiosignal>=1.1.2 in /usr/local/lib/python3.10/dist-packages (from aiohttp->datasets) (1.3.1)\n",
            "Requirement already satisfied: filelock in /usr/local/lib/python3.10/dist-packages (from huggingface-hub<1.0.0,>=0.11.0->datasets) (3.12.0)\n",
            "Requirement already satisfied: typing-extensions>=3.7.4.3 in /usr/local/lib/python3.10/dist-packages (from huggingface-hub<1.0.0,>=0.11.0->datasets) (4.5.0)\n",
            "Requirement already satisfied: urllib3<1.27,>=1.21.1 in /usr/local/lib/python3.10/dist-packages (from requests>=2.19.0->datasets) (1.26.15)\n",
            "Requirement already satisfied: certifi>=2017.4.17 in /usr/local/lib/python3.10/dist-packages (from requests>=2.19.0->datasets) (2022.12.7)\n",
            "Requirement already satisfied: idna<4,>=2.5 in /usr/local/lib/python3.10/dist-packages (from requests>=2.19.0->datasets) (3.4)\n",
            "Requirement already satisfied: python-dateutil>=2.8.1 in /usr/local/lib/python3.10/dist-packages (from pandas->datasets) (2.8.2)\n",
            "Requirement already satisfied: pytz>=2020.1 in /usr/local/lib/python3.10/dist-packages (from pandas->datasets) (2022.7.1)\n",
            "Requirement already satisfied: six>=1.5 in /usr/local/lib/python3.10/dist-packages (from python-dateutil>=2.8.1->pandas->datasets) (1.16.0)\n"
          ]
        }
      ],
      "source": [
        "!pip install transformers\n",
        "!pip install datasets"
      ]
    },
    {
      "cell_type": "markdown",
      "metadata": {
        "id": "LL9I9bhZAWNL"
      },
      "source": [
        "# Librerie"
      ]
    },
    {
      "cell_type": "code",
      "execution_count": 2,
      "metadata": {
        "id": "kDZD-4kNATUy",
        "outputId": "aa9fd956-ed59-41eb-ee65-889273680782",
        "colab": {
          "base_uri": "https://localhost:8080/"
        }
      },
      "outputs": [
        {
          "output_type": "stream",
          "name": "stderr",
          "text": [
            "[nltk_data] Downloading package wordnet to /root/nltk_data...\n",
            "[nltk_data]   Package wordnet is already up-to-date!\n",
            "[nltk_data] Downloading package punkt to /root/nltk_data...\n",
            "[nltk_data]   Package punkt is already up-to-date!\n"
          ]
        },
        {
          "output_type": "execute_result",
          "data": {
            "text/plain": [
              "True"
            ]
          },
          "metadata": {},
          "execution_count": 2
        }
      ],
      "source": [
        "import re\n",
        "import torch\n",
        "import random\n",
        "import numpy as np\n",
        "from torch import nn\n",
        "import torch.optim as optim\n",
        "from itertools import count\n",
        "from tabulate import tabulate\n",
        "from bs4 import BeautifulSoup\n",
        "from tqdm.notebook import tqdm\n",
        "from datasets import load_dataset\n",
        "from collections import Counter\n",
        "import nltk\n",
        "from nltk.stem import WordNetLemmatizer\n",
        "import matplotlib.pyplot as plt\n",
        "from torch.nn.utils.rnn import pad_sequence\n",
        "from torch.utils.data import Dataset, DataLoader\n",
        "from sklearn.metrics import recall_score, f1_score, accuracy_score\n",
        "from torch.nn import Module, Embedding, Dropout, Linear,LSTM\n",
        "from transformers import BertTokenizer, BertModel, BertTokenizerFast\n",
        "\n",
        "device = 'cuda' if torch.cuda.is_available() else 'cpu'\n",
        "SEED = 1234\n",
        "random.seed(SEED)\n",
        "nltk.download('wordnet')\n",
        "nltk.download('punkt')"
      ]
    },
    {
      "cell_type": "markdown",
      "metadata": {
        "id": "oJpKMMZwWbba"
      },
      "source": [
        "# Data"
      ]
    },
    {
      "cell_type": "markdown",
      "metadata": {
        "id": "-Y0bpHDm0P-e"
      },
      "source": [
        "## Data Semeval"
      ]
    },
    {
      "cell_type": "code",
      "execution_count": 3,
      "metadata": {
        "colab": {
          "base_uri": "https://localhost:8080/",
          "height": 86,
          "referenced_widgets": [
            "dcb214402cf6498d90fb81e6dfb0e8a1",
            "4e8d428f9e0844e9919132d14e704fe3",
            "bf6b81f49b8747af938ed78c2a8816a5",
            "a16610ed0efe42c58ed094f28412a83d",
            "38480d8f9c8042a8928cf686acade227",
            "4db9f478cf4f4fc3ad598c168b26de2c",
            "0d1489fee4b24129a42fe01901407559",
            "3703bfbb0f1d405996e098bb56e4e78e",
            "86b185a481bc465da800195e6eae364f",
            "aa6dc396d6d14367bc1cece54062c8b8",
            "0d18e8008e704a2088c899c206f6518f"
          ]
        },
        "id": "Ir2NT3iy2aNR",
        "outputId": "f0a9803d-64b2-40a5-e325-c289c6996558"
      },
      "outputs": [
        {
          "output_type": "stream",
          "name": "stderr",
          "text": [
            "WARNING:datasets.builder:Found cached dataset sem_eval_2010_task_8 (/root/.cache/huggingface/datasets/sem_eval_2010_task_8/default/1.0.0/8545d1995bbbade386acf5c4e2bef5589d8387ae0a93356407dfb54cdb234416)\n"
          ]
        },
        {
          "output_type": "display_data",
          "data": {
            "text/plain": [
              "  0%|          | 0/2 [00:00<?, ?it/s]"
            ],
            "application/vnd.jupyter.widget-view+json": {
              "version_major": 2,
              "version_minor": 0,
              "model_id": "dcb214402cf6498d90fb81e6dfb0e8a1"
            }
          },
          "metadata": {}
        }
      ],
      "source": [
        "dataset = load_dataset('sem_eval_2010_task_8')"
      ]
    },
    {
      "cell_type": "markdown",
      "metadata": {
        "id": "vDNP2vlNn1cn"
      },
      "source": [
        "### Lista delle entità"
      ]
    },
    {
      "cell_type": "code",
      "execution_count": 4,
      "metadata": {
        "id": "6EaYTG7-n2TG"
      },
      "outputs": [],
      "source": [
        "def lista_tutte_entità_nel_dataset(data, lista_entita):\n",
        "  relation_dict = {i: label for i, label in enumerate(data.features['relation'].names)}\n",
        "  for s, r in zip(data['sentence'], data['relation']):\n",
        "    if relation_dict[r] != \"Other\":\n",
        "      tipo1, tipo2 = relation_dict[r].split(\"(\")[0].split(\"-\")\n",
        "      lista_entita.append(tipo1)\n",
        "      lista_entita.append(tipo2)\n",
        "  return list(set(lista_entita))     "
      ]
    },
    {
      "cell_type": "markdown",
      "metadata": {
        "id": "aQcZ66MjJ9cl"
      },
      "source": [
        "### Creazione dati"
      ]
    },
    {
      "cell_type": "code",
      "execution_count": 5,
      "metadata": {
        "id": "TuMY5NPtDhsh"
      },
      "outputs": [],
      "source": [
        "def create_data(new_data, data, count_yes, lista_entities, max_len=1864):\n",
        "  relation_dict = {i: label for i, label in enumerate(data.features['relation'].names)}\n",
        "  for s, r in zip(data['sentence'], data['relation']):\n",
        "    soup = BeautifulSoup(s, 'html.parser')\n",
        "    entita = {}\n",
        "    for tag in soup.find_all(['e1', 'e2']):\n",
        "        entita[tag.name] = tag.string\n",
        "        tag.replace_with(entita[tag.name])\n",
        "    nuova_frase = str(soup) \n",
        "    entities = ['O']*len(nuova_frase.split())\n",
        "    if relation_dict[r]== \"Other\":\n",
        "        relation = []\n",
        "        tipo1, tipo2 = random.sample(lista_entities, 2)\n",
        "        tipo_entita = {\"e1\": tipo1, \"e2\": tipo2}\n",
        "\n",
        "        for e in entita.keys():\n",
        "          for i, elem in enumerate(entita[e].split()):\n",
        "            index_char = nuova_frase.index(elem)\n",
        "            index_token = nuova_frase[:index_char].count(\" \")\n",
        "            if i == 0:\n",
        "              entities[index_token] = \"B-\"+tipo_entita[e]\n",
        "            else:\n",
        "              entities[index_token] = \"I-\"+tipo_entita[e]\n",
        "\n",
        "        item = {\"sentence\": nuova_frase, \n",
        "          \"features\": nltk.word_tokenize(nuova_frase),\n",
        "          \"entities\": entities,\n",
        "          \"relations\": relation}\n",
        "        new_data.append(item)\n",
        "    else:\n",
        "      if count_yes < max_len:\n",
        "        tipo_soggetto, tipo_oggetto = relation_dict[r].split(\"(\")[0].split(\"-\")\n",
        "        soggetto = relation_dict[r].split('(')[1].split(',')[0]\n",
        "        oggetto = relation_dict[r].split('(')[1].split(',')[1].split(\")\")[0]\n",
        "        tipo_entita = {soggetto: tipo_soggetto, oggetto: tipo_oggetto}\n",
        "      \n",
        "        for e in entita.keys():\n",
        "          for i, elem in enumerate(entita[e].split()):\n",
        "            index_char = nuova_frase.index(elem)\n",
        "            index_token = nuova_frase[:index_char].count(\" \")\n",
        "            if i == 0:\n",
        "              entities[index_token] = \"B-\"+tipo_entita[e]\n",
        "            else:\n",
        "              entities[index_token] = \"I-\"+tipo_entita[e]\n",
        "        relation = [(entita[soggetto], entita[oggetto], relation_dict[r])]\n",
        "        count_yes+=1\n",
        "        item = {\"sentence\": nuova_frase, \n",
        "          \"features\": nltk.word_tokenize(nuova_frase),\n",
        "          \"entities\": entities,\n",
        "          \"relations\": relation}\n",
        "        new_data.append(item)\n",
        "  return new_data, count_yes"
      ]
    },
    {
      "cell_type": "markdown",
      "metadata": {
        "id": "q0CE9HoEKBJW"
      },
      "source": [
        "#### Generazione train,valid, test"
      ]
    },
    {
      "cell_type": "code",
      "execution_count": 6,
      "metadata": {
        "id": "2_mDx1yY0SPl"
      },
      "outputs": [],
      "source": [
        "def generate_train_valid_test(data):\n",
        "  count_yes = 0\n",
        "  new_data = []\n",
        "  lista_entita = []\n",
        "  train = data['train']\n",
        "  test = data['test']\n",
        "  lista_entita = lista_tutte_entità_nel_dataset(train, lista_entita)\n",
        "  lista_entita = lista_tutte_entità_nel_dataset(test, lista_entita)\n",
        "  new_data, count_yes = create_data(new_data, train, count_yes, lista_entita, max_len= 100000000000)\n",
        "  new_data, count_yes = create_data(new_data, test, count_yes, lista_entita, max_len= 100000000000)\n",
        "  return new_data"
      ]
    },
    {
      "cell_type": "code",
      "execution_count": 7,
      "metadata": {
        "id": "oqO7HUfuD8d4"
      },
      "outputs": [],
      "source": [
        "data = generate_train_valid_test(dataset)"
      ]
    },
    {
      "cell_type": "markdown",
      "metadata": {
        "id": "694nvq6jKNen"
      },
      "source": [
        "# Divisione Train, Valid, Test"
      ]
    },
    {
      "cell_type": "code",
      "execution_count": 8,
      "metadata": {
        "colab": {
          "base_uri": "https://localhost:8080/"
        },
        "id": "fUFfYLleEdgO",
        "outputId": "0d3e0a7a-f6b4-44c7-99c5-5b80a5a2d6ff"
      },
      "outputs": [
        {
          "output_type": "stream",
          "name": "stdout",
          "text": [
            "7492 1618 1607\n"
          ]
        }
      ],
      "source": [
        "def divide_dataset(data):\n",
        "  # Calcola il numero di istanze per ogni etichetta\n",
        "  label_counts = {}\n",
        "  count_labels = 0\n",
        "  for item in data:\n",
        "    relation = item[\"relations\"]\n",
        "    if len(relation) != 0:\n",
        "      count_labels += 1\n",
        "      for r in relation:\n",
        "        if r[2] in label_counts.keys():\n",
        "          label_counts[r[2]] += 1\n",
        "        else:\n",
        "          label_counts[r[2]] = 1\n",
        "    else:\n",
        "      count_labels += 1\n",
        "      if \"No-Relations\" in label_counts.keys():\n",
        "        label_counts[\"No-Relations\"] += 1\n",
        "      else:\n",
        "        label_counts[\"No-Relations\"] = 1\n",
        "\n",
        "  # Definiamo la proporzione di dati per ogni set\n",
        "  train_ratio = 0.7\n",
        "  val_ratio = 0.15\n",
        "  test_ratio = 0.15\n",
        "\n",
        "  # Mescoliamo i dati in modo casuale\n",
        "  random.shuffle(data)\n",
        "\n",
        "  # Calcola il numero di istanze per ciascuna divisione\n",
        "  total_instances = sum(label_counts.values())\n",
        "  train_size = int(train_ratio * total_instances)\n",
        "  test_size = int(test_ratio * total_instances)\n",
        "  dev_size = total_instances - train_size - test_size\n",
        "  # Calcola il numero di istanze per ogni etichetta nella divisione train\n",
        "  train_label_counts = {label: int(count * train_ratio) for label, count in label_counts.items()}\n",
        "  # Inizializza le divisioni train, test e dev\n",
        "  train_set = []\n",
        "  test_set = []\n",
        "  val_set = []\n",
        "\n",
        "  # Dividi il dataset in base alle etichette e alle quantità calcolate\n",
        "  for item in data:\n",
        "      relation = item[\"relations\"]\n",
        "      if len(relation) != 0:\n",
        "        for r in relation:\n",
        "          if train_label_counts[r[2]] > 0:\n",
        "              train_set.append(item)\n",
        "              train_label_counts[r[2]] -= 1\n",
        "          elif test_size > 0:\n",
        "              test_set.append(item)\n",
        "              test_size -= 1\n",
        "          else:\n",
        "              val_set.append(item)\n",
        "              dev_size -= 1\n",
        "      else:\n",
        "        if train_label_counts[\"No-Relations\"] > 0:\n",
        "            train_set.append(item)\n",
        "            train_label_counts[\"No-Relations\"] -= 1\n",
        "        elif test_size > 0:\n",
        "            test_set.append(item)\n",
        "            test_size -= 1\n",
        "        else:\n",
        "            val_set.append(item)\n",
        "            dev_size -= 1\n",
        "  return train_set, val_set, test_set\n",
        "\n",
        "train_set, val_set, test_set = divide_dataset(data)\n",
        "# Verifichiamo le lunghezze dei set per assicurarci che siano corrette\n",
        "print(len(train_set), len(val_set), len(test_set))"
      ]
    },
    {
      "cell_type": "markdown",
      "metadata": {
        "id": "Ftu69p_9w9PO"
      },
      "source": [
        "# Statistiche Dati"
      ]
    },
    {
      "cell_type": "markdown",
      "metadata": {
        "id": "SaOsniItKR-o"
      },
      "source": [
        "## Labels"
      ]
    },
    {
      "cell_type": "code",
      "execution_count": 9,
      "metadata": {
        "id": "oFU_IgxDw8ua"
      },
      "outputs": [],
      "source": [
        "def count_labels(data):\n",
        "  relations = []\n",
        "  for d in data:\n",
        "    r = d[\"relations\"]\n",
        "    if len(r)!=0:\n",
        "      for rr in r:\n",
        "        relations.append(rr[2])\n",
        "    else:\n",
        "      relations.append(\"No-Relations\")\n",
        "  return relations"
      ]
    },
    {
      "cell_type": "code",
      "execution_count": 10,
      "metadata": {
        "id": "Xntw68WfxmIm"
      },
      "outputs": [],
      "source": [
        "r = count_labels(train_set)"
      ]
    },
    {
      "cell_type": "markdown",
      "metadata": {
        "id": "nFgq6AjAKTsz"
      },
      "source": [
        "## Histogramma"
      ]
    },
    {
      "cell_type": "code",
      "execution_count": 11,
      "metadata": {
        "id": "QXRhskr22s81"
      },
      "outputs": [],
      "source": [
        "def plot_histogram(data: list) -> None:\n",
        "    # function to add value labels\n",
        "    def addlabels(x,y):\n",
        "      for i in range(len(x)):\n",
        "          plt.text(i, y[i], y[i], ha = 'center', bbox = dict(facecolor = 'red', alpha =.8))\n",
        "    \n",
        "    data_counter = Counter(data)\n",
        "    x = np.arange(len(data_counter))\n",
        "    y = [n_elems for _, n_elems in data_counter.items()]\n",
        "    plt.figure(figsize=(20,5))\n",
        "    plt.bar(x, y)\n",
        "    addlabels(x, y)\n",
        "    plt.xticks(x, [elem_name for elem_name, _ in data_counter.items()], rotation=60)\n",
        "    plt.show()"
      ]
    },
    {
      "cell_type": "code",
      "execution_count": 12,
      "metadata": {
        "id": "4RCqcdKc2vmT",
        "colab": {
          "base_uri": "https://localhost:8080/",
          "height": 367
        },
        "outputId": "fe492ca7-b297-419e-a67e-8436fe7eb971"
      },
      "outputs": [
        {
          "output_type": "display_data",
          "data": {
            "text/plain": [
              "<Figure size 2000x500 with 1 Axes>"
            ],
            "image/png": "[encoded data removed]"
          },
          "metadata": {}
        }
      ],
      "source": [
        "plot_histogram(r)"
      ]
    },
    {
      "cell_type": "markdown",
      "metadata": {
        "id": "b5oqKw8hAXql"
      },
      "source": [
        "# Dataset"
      ]
    },
    {
      "cell_type": "code",
      "execution_count": 9,
      "metadata": {
        "id": "v-pIGhcTUaxG"
      },
      "outputs": [],
      "source": [
        "class RelationExtractionBinaryDataset(Dataset):\n",
        "  def __init__(self, \n",
        "                 data,\n",
        "                 tokenizer, rel2idx = None, ent2idx = None, w_vocab = None, lemma_vocab= None):\n",
        "    self.data = data\n",
        "    self.max_len = 128\n",
        "    self.tokenizer = tokenizer\n",
        "    self.single_sentences = self.rewrite_sentences()\n",
        "    if rel2idx == None:\n",
        "      self.rel2idx = self.build_dictionary_relations()\n",
        "    else:\n",
        "      self.rel2idx = rel2idx\n",
        "    if ent2idx == None:\n",
        "      self.ent2idx = self.build_dictionary_entities()\n",
        "    else:\n",
        "      self.ent2idx = ent2idx\n",
        "    if w_vocab == None:\n",
        "      self.w_vocab = self.build_vocab_words()\n",
        "    else:\n",
        "      self.w_vocab = w_vocab\n",
        "    \n",
        "    if lemma_vocab == None:\n",
        "      self.lemma_vocab = self.build_vocab_lemma()\n",
        "    else:\n",
        "      self.lemma_vocab = lemma_vocab\n",
        "\n",
        "  def select_only_entities_in_relations(self, elem, new_d, d):\n",
        "    for m in re.finditer(elem, new_d['sentence']):\n",
        "      start_id, end_id = m.span()\n",
        "      token_start_id = new_d['sentence'][:start_id].count(\" \")\n",
        "      token_end_id = new_d['sentence'][:end_id].count(\" \")\n",
        "      for i in range(token_start_id, token_end_id+1):\n",
        "        new_d['entities'][i] = d['entities'][i]\n",
        "    return new_d\n",
        "\n",
        "  def build_vocab_words(self):\n",
        "    w_dict = {}\n",
        "    counter = Counter()\n",
        "    for elem in self.single_sentences:\n",
        "      for w in elem[\"features\"]:\n",
        "        counter[w]+=1\n",
        "    w_dict.update({'<pad>': 0})\n",
        "    w_dict.update({'<unk>': 1})\n",
        "    for index, (key,value) in enumerate(counter.most_common()):\n",
        "      w_dict.update({key: index+2})\n",
        "    \n",
        "    return w_dict\n",
        "  \n",
        "  def build_vocab_lemma(self):\n",
        "    lemma_dict = {}\n",
        "    counter = Counter()\n",
        "    for elem in self.single_sentences:\n",
        "      for lemma in elem[\"lemmas\"]:\n",
        "        counter[lemma]+=1\n",
        "    lemma_dict.update({'<pad>': 0})\n",
        "    lemma_dict.update({'<unk>': 1})\n",
        "    for index, (key,value) in enumerate(counter.most_common()):\n",
        "      lemma_dict.update({key: index+2})\n",
        "    return lemma_dict\n",
        "\n",
        "  def lemmatize_sentence(self, sentence):\n",
        "    # Tokenizzazione della frase\n",
        "    tokens = nltk.word_tokenize(sentence)\n",
        "    # Creazione dell'istanza del lematizzatore\n",
        "    lemmatizer = WordNetLemmatizer()\n",
        "    # Lemmatizzazione dei token\n",
        "    lemmas = [lemmatizer.lemmatize(token) for token in tokens]\n",
        "    return lemmas\n",
        "\n",
        "  def rewrite_sentences(self):\n",
        "    # riscrivo il dizionario dove ho una relazione (una tupla) per frase \n",
        "    new_data = []\n",
        "    for d in self.data:\n",
        "      if len(d['relations'])>0:\n",
        "        for r in d['relations']:\n",
        "          subj = r[0]\n",
        "          obj = r[1]\n",
        "          new_d = d.copy()\n",
        "          sentence = new_d[\"sentence\"]\n",
        "          lemmas = self.lemmatize_sentence(sentence)\n",
        "          new_d['lemmas'] = lemmas\n",
        "          new_d['relations'] = r\n",
        "          new_d['entities'] = ['O' for _ in d['entities']]  # reset entities to \"O\" tags\n",
        "          new_d = self.select_only_entities_in_relations(subj, new_d, d)\n",
        "          new_d = self.select_only_entities_in_relations(obj, new_d, d)\n",
        "          new_data.append(new_d)\n",
        "      else:\n",
        "        new_d = d.copy()\n",
        "        sentence = new_d[\"sentence\"]\n",
        "        lemmas = self.lemmatize_sentence(sentence)\n",
        "        new_d['lemmas'] = lemmas\n",
        "        new_d['relations'] = ()\n",
        "        new_data.append(new_d)\n",
        "    return new_data\n",
        "\n",
        "  def build_dictionary_entities(self):\n",
        "    # creazione del dizionario entità -> indice\n",
        "    ent2idx = {\"<pad>\": 0,  'O': 1}\n",
        "    for data_point in self.single_sentences:\n",
        "      entities = data_point['entities']\n",
        "      for e in entities:\n",
        "        if e != \"O\":\n",
        "          e = e.split(\"-\")[1]\n",
        "        if e not in ent2idx.keys():\n",
        "            ent2idx[e] = len(ent2idx)\n",
        "    return ent2idx\n",
        "\n",
        "  def encode_words(self, sentence, offset, vocab):\n",
        "    data = []\n",
        "    for elem, (start, end) in  zip(sentence,offset):\n",
        "      if elem in vocab.keys():\n",
        "        data.append(vocab[elem])\n",
        "      else:\n",
        "        data.append(vocab[\"<unk>\"])\n",
        "      data+=[0]*(end-start-1)\n",
        "    return [0] + data + [0]\n",
        "\n",
        "  def encode_words_BERT(self, features):\n",
        "    curr_offset = 1\n",
        "    word_offset = []\n",
        "    sub_word_idx = []\n",
        "    for featu in features:\n",
        "      word_idx = self.tokenizer.convert_tokens_to_ids(self.tokenizer.tokenize(featu))\n",
        "      sub_word_idx += word_idx\n",
        "      word_offset.append((curr_offset, curr_offset+len(word_idx)))\n",
        "      curr_offset += len(word_idx)\n",
        "    sub_word_idx = self.tokenizer.build_inputs_with_special_tokens(sub_word_idx)\n",
        "    return sub_word_idx, word_offset\n",
        "\n",
        "  def encode_NER_entities(self, entities, word_offset):\n",
        "    entities_encoded = []\n",
        "    for i, (e, (start, end)) in enumerate(zip(entities, word_offset)):\n",
        "      if e != \"O\" and e.split(\"-\")[1] in self.ent2idx.keys():\n",
        "        tag = e.split(\"-\")[1]\n",
        "        entities_encoded.append(self.ent2idx[tag])\n",
        "        entities_encoded+=[self.ent2idx[tag]]*(end-start-1)\n",
        "      elif e== \"O\":\n",
        "        entities_encoded.append(self.ent2idx[e])\n",
        "        entities_encoded+=[self.ent2idx[e]]*(end-start-1)\n",
        "    entities_encoded = [self.ent2idx['<pad>']]+entities_encoded+[self.ent2idx['<pad>']]\n",
        "    return entities_encoded\n",
        "\n",
        "  def encode_labels(self, tuple_relation):\n",
        "    if len(tuple_relation) == 0:\n",
        "      labels = self.rel2idx[\"No-Relation\"]\n",
        "    else:\n",
        "      if tuple_relation[2] in self.rel2idx.keys():\n",
        "        labels = self.rel2idx[tuple_relation[2]]\n",
        "      else:\n",
        "        labels = self.rel2idx['<unk>']\n",
        "    return labels\n",
        "\n",
        "  def build_dictionary_relations(self):\n",
        "    rel2idx = {}\n",
        "    counter = Counter()\n",
        "    for elem in self.single_sentences:\n",
        "      r = elem[\"relations\"]\n",
        "      if len(r) == 0:\n",
        "        counter[\"No-Relation\"]+=1\n",
        "      else:\n",
        "        counter[r[2]]+=1\n",
        "    rel2idx.update({'<pad>': 0})\n",
        "    rel2idx.update({'<unk>': 1})\n",
        "    for index, (key,value) in enumerate(counter.most_common()):\n",
        "      rel2idx.update({key: index+2})\n",
        "    return rel2idx\n",
        "\n",
        "  def __len__(self):\n",
        "      return len(self.single_sentences)\n",
        "  \n",
        "  def __getitem__(self, index):\n",
        "      sentence = self.single_sentences[index]['sentence']\n",
        "      entities = self.single_sentences[index]['entities']\n",
        "      features = self.single_sentences[index]['features']\n",
        "      lemmas = self.single_sentences[index]['lemmas']\n",
        "      tuple_relation = self.single_sentences[index]['relations']\n",
        "\n",
        "      # encoding word bert\n",
        "      sub_word_idx, word_offset = self.encode_words_BERT(features)\n",
        "\n",
        "      # encoding pretrained words\n",
        "      pretrained_words = self.encode_words(features, word_offset, self.w_vocab)\n",
        "\n",
        "      # attention mask\n",
        "      encoded_sentences = self.tokenizer(sentence, padding=True, truncation = True)\n",
        "      input_ids = encoded_sentences[\"input_ids\"]\n",
        "      attention_mask = encoded_sentences[\"attention_mask\"]\n",
        "\n",
        "      # encoding NER entities\n",
        "      entities_encoded = self.encode_NER_entities(entities, word_offset)\n",
        "      \n",
        "      # encoding lemma\n",
        "      encoded_lemmas = self.encode_words(lemmas, word_offset, self.lemma_vocab)\n",
        "\n",
        "      # encoding labels \n",
        "      labels = self.encode_labels(tuple_relation)\n",
        "\n",
        "      item = {\n",
        "         \"input_ids\": torch.tensor(input_ids),\n",
        "         \"attention_mask\": torch.tensor(attention_mask),\n",
        "         \"lemmas\": torch.tensor(encoded_lemmas),\n",
        "         \"entites_encoded\": torch.tensor(entities_encoded),\n",
        "         \"pretrained_words\": torch.tensor(pretrained_words),\n",
        "         \"labels\": torch.tensor([labels])\n",
        "      }\n",
        "\n",
        "      return item"
      ]
    },
    {
      "cell_type": "markdown",
      "metadata": {
        "id": "Oj9ewLZpccmv"
      },
      "source": [
        "## Init dataset"
      ]
    },
    {
      "cell_type": "code",
      "execution_count": 10,
      "metadata": {
        "id": "S05ul948WSAV"
      },
      "outputs": [],
      "source": [
        "tokenizer = BertTokenizer.from_pretrained('bert-base-uncased')\n",
        "train_dataset = RelationExtractionBinaryDataset(train_set, tokenizer)\n",
        "word_vocab = train_dataset.w_vocab\n",
        "lemma_vocab = train_dataset.lemma_vocab\n",
        "dict_labels = train_dataset.rel2idx\n",
        "dict_entities = train_dataset.ent2idx\n",
        "valid_dataset = RelationExtractionBinaryDataset(val_set, tokenizer, dict_labels, dict_entities, word_vocab, lemma_vocab)\n",
        "test_dataset = RelationExtractionBinaryDataset(test_set, tokenizer, dict_labels, dict_entities, word_vocab, lemma_vocab)"
      ]
    },
    {
      "cell_type": "markdown",
      "metadata": {
        "id": "gQFxI-Jvcd0d"
      },
      "source": [
        "## Esempio elemento dataset"
      ]
    },
    {
      "cell_type": "code",
      "execution_count": 15,
      "metadata": {
        "colab": {
          "base_uri": "https://localhost:8080/"
        },
        "id": "BBwYmMzUWfkd",
        "outputId": "7d8721ae-9805-4ead-d867-2b55ca8f5dda"
      },
      "outputs": [
        {
          "output_type": "stream",
          "name": "stdout",
          "text": [
            "idx: 0,\n",
            "frase: [CLS] there is chicha, andian beer made with a maize called jora. [SEP],         \n",
            "tokens: ['[CLS]', 'there', 'is', 'chi', '##cha', ',', 'and', '##ian', 'beer', 'made', 'with', 'a', 'maize', 'called', 'jo', '##ra', '.', '[SEP]']        \n",
            "encoded tokens: tensor([  101,  2045,  2003,  9610,  7507,  1010,  1998,  2937,  5404,  2081,\n",
            "         2007,  1037, 21154,  2170,  8183,  2527,  1012,   102]), shape: torch.Size([18])         \n",
            "attention mask: tensor([1, 1, 1, 1, 1, 1, 1, 1, 1, 1, 1, 1, 1, 1, 1, 1, 1, 1]), shape: torch.Size([18])         \n",
            "pretrained_words: tensor([   0,  139,   11,    1,    0,    6,    1,    0,  639,   46,   15,    5,\n",
            "        4527,  264,    1,    0,    3,    0]), shape: torch.Size([18])         \n",
            "entities: ['<pad>', 'O', 'O', 'O', 'O', 'O', 'Entity', 'Entity', 'O', 'O', 'O', 'Origin', 'O', 'O', '<pad>']        \n",
            "encoded entities: tensor([ 0,  1,  1,  1,  1,  1, 10, 10,  1,  1,  1, 11,  1,  1,  0]), shape: torch.Size([15])        \n",
            "lemmas: ['<pad>', 'There', 'is', '<unk>', '<pad>', ',', '<unk>', '<pad>', 'beer', 'made', 'with', 'a', 'maize', 'called', '<unk>', '<pad>', '.', '<pad>']        \n",
            "encoded lemmas: tensor([   0,  157,   11,    1,    0,    6,    1,    0,  650,   45,   15,    5,\n",
            "        4269,  297,    1,    0,    3,    0]), shape: torch.Size([18])        \n",
            "labels: Entity-Origin(e1,e2)        \n",
            "encoded labels: tensor([6]), shape:torch.Size([1])\n"
          ]
        }
      ],
      "source": [
        "for i,elem in enumerate(valid_dataset):\n",
        "  sentence_encoded = elem[\"input_ids\"]\n",
        "  attention_mask = elem[\"attention_mask\"]\n",
        "  entitites_encoded = elem[\"entites_encoded\"]\n",
        "  pretrained_words = elem[\"pretrained_words\"]\n",
        "  lemmas = elem[\"lemmas\"]\n",
        "  labels = elem[\"labels\"]\n",
        "  entities_invertito = {valore: chiave for chiave, valore in dict_entities.items()}\n",
        "  lemmas_invertito = {valore: chiave for chiave, valore in lemma_vocab.items()}\n",
        "  lab_invertito = {valore: chiave for chiave, valore in dict_labels.items()}\n",
        "  print(f\"idx: {i},\\nfrase: {tokenizer.decode(sentence_encoded)}, \\\n",
        "        \\ntokens: {tokenizer.convert_ids_to_tokens(sentence_encoded)}\\\n",
        "        \\nencoded tokens: {sentence_encoded}, shape: {sentence_encoded.shape} \\\n",
        "        \\nattention mask: {attention_mask}, shape: {attention_mask.shape} \\\n",
        "        \\npretrained_words: {pretrained_words}, shape: {pretrained_words.shape} \\\n",
        "        \\nentities: {[entities_invertito[e.item()] for e in entitites_encoded]}\\\n",
        "        \\nencoded entities: {entitites_encoded}, shape: {entitites_encoded.shape}\\\n",
        "        \\nlemmas: {[lemmas_invertito[e.item()] for e in lemmas]}\\\n",
        "        \\nencoded lemmas: {lemmas}, shape: {lemmas.shape}\\\n",
        "        \\nlabels: {lab_invertito[labels.item()]}\\\n",
        "        \\nencoded labels: {labels}, shape:{labels.shape}\")\n",
        "  break"
      ]
    },
    {
      "cell_type": "markdown",
      "metadata": {
        "id": "7LjSlbUUAsPm"
      },
      "source": [
        "# Dataloader"
      ]
    },
    {
      "cell_type": "code",
      "execution_count": 11,
      "metadata": {
        "id": "ov1V9Jb0NR3G"
      },
      "outputs": [],
      "source": [
        "def padding_function(elems):\n",
        "  max_len = 512\n",
        "  input_ids = [elem[\"input_ids\"] for elem in elems]\n",
        "  attention_mask = [elem[\"attention_mask\"] for elem in elems]\n",
        "  pretrained_words = [elem[\"pretrained_words\"] for elem in elems]\n",
        "  entities = [elem[\"entites_encoded\"] for elem in elems]\n",
        "  lemmas = [elem[\"lemmas\"] for elem in elems]\n",
        "  labels = [elem[\"labels\"] for elem in elems]\n",
        "  input_ids[0] = nn.ConstantPad1d((0, max_len - input_ids[0].shape[0]), 0)(input_ids[0])\n",
        "  attention_mask[0] = nn.ConstantPad1d((0, max_len - attention_mask[0].shape[0]), 0)(attention_mask[0])\n",
        "  pretrained_words[0] = nn.ConstantPad1d((0, max_len - pretrained_words[0].shape[0]), 0)(pretrained_words[0])\n",
        "  entities[0] = nn.ConstantPad1d((0, max_len - entities[0].shape[0]), 0)(entities[0])\n",
        "  lemmas[0] = nn.ConstantPad1d((0, max_len - lemmas[0].shape[0]), 0)(lemmas[0])\n",
        "  input_ids = pad_sequence(input_ids, batch_first=True, padding_value = 0)\n",
        "  attention_mask = pad_sequence(attention_mask, batch_first=True, padding_value = 0)\n",
        "  pretrained_words = pad_sequence(pretrained_words, batch_first=True, padding_value = 0)\n",
        "  entities = pad_sequence(entities, batch_first=True, padding_value = 0)\n",
        "  lemmas = pad_sequence(lemmas, batch_first=True, padding_value = 0)\n",
        "  labels = torch.stack(labels, dim=0)\n",
        "\n",
        "  item = {\n",
        "      \"input_ids\" : input_ids,\n",
        "      \"attention_mask\": attention_mask,\n",
        "      \"entities\": entities,\n",
        "      \"pretrained_words\": pretrained_words,\n",
        "      \"lemmas\": lemmas,\n",
        "      \"labels\": labels\n",
        "  }\n",
        "  assert(input_ids.shape[1]==max_len)\n",
        "  return item"
      ]
    },
    {
      "cell_type": "markdown",
      "metadata": {
        "id": "XMCMOTm-cgTh"
      },
      "source": [
        "## Init dataloader"
      ]
    },
    {
      "cell_type": "code",
      "execution_count": 12,
      "metadata": {
        "id": "gHzGj5b2hB3J"
      },
      "outputs": [],
      "source": [
        "train_dataloader = DataLoader(train_dataset, batch_size=4, collate_fn=padding_function, shuffle = True)\n",
        "valid_dataloader = DataLoader(valid_dataset, batch_size=4, collate_fn=padding_function)\n",
        "test_dataloader = DataLoader(test_dataset, batch_size=4, collate_fn=padding_function)"
      ]
    },
    {
      "cell_type": "markdown",
      "metadata": {
        "id": "ySVvAa3JciOG"
      },
      "source": [
        "## Esempio elemento dataloader"
      ]
    },
    {
      "cell_type": "code",
      "execution_count": 18,
      "metadata": {
        "colab": {
          "base_uri": "https://localhost:8080/"
        },
        "id": "TzCfSBGmhH3m",
        "outputId": "d545dcb6-af6e-4c1d-a817-00996ae56695"
      },
      "outputs": [
        {
          "output_type": "stream",
          "name": "stdout",
          "text": [
            "idx: 0,\n",
            "frase: tensor([[ 101, 1996, 2930,  ...,    0,    0,    0],\n",
            "        [ 101, 1996, 2450,  ...,    0,    0,    0],\n",
            "        [ 101, 2543, 2001,  ...,    0,    0,    0],\n",
            "        ...,\n",
            "        [ 101, 1996, 1023,  ...,    0,    0,    0],\n",
            "        [ 101, 1045, 1005,  ...,    0,    0,    0],\n",
            "        [ 101, 3803, 2120,  ...,    0,    0,    0]]), shape: torch.Size([8, 512]),         \n",
            "attention mask: tensor([[1, 1, 1,  ..., 0, 0, 0],\n",
            "        [1, 1, 1,  ..., 0, 0, 0],\n",
            "        [1, 1, 1,  ..., 0, 0, 0],\n",
            "        ...,\n",
            "        [1, 1, 1,  ..., 0, 0, 0],\n",
            "        [1, 1, 1,  ..., 0, 0, 0],\n",
            "        [1, 1, 1,  ..., 0, 0, 0]]), shape: torch.Size([8, 512]),         \n",
            "pretrained_words: tensor([[    0,     8,   431,  ...,     0,     0,     0],\n",
            "        [    0,     8,   402,  ...,     0,     0,     0],\n",
            "        [    0, 19176,    12,  ...,     0,     0,     0],\n",
            "        ...,\n",
            "        [    0,     8, 12785,  ...,     0,     0,     0],\n",
            "        [    0,    32,   666,  ...,     0,     0,     0],\n",
            "        [    0,  2315,  1299,  ...,     0,     0,     0]]), shape: torch.Size([8, 512]),         \n",
            "entities: tensor([[ 0,  1,  7,  ...,  0,  0,  0],\n",
            "        [ 0,  1, 10,  ...,  0,  0,  0],\n",
            "        [ 0,  8,  1,  ...,  0,  0,  0],\n",
            "        ...,\n",
            "        [ 0,  1,  1,  ...,  0,  0,  0],\n",
            "        [ 0,  1,  1,  ...,  0,  0,  0],\n",
            "        [ 0,  1,  1,  ...,  0,  0,  0]]), shape: torch.Size([8, 512])        \n",
            "lemmas: tensor([[    0,     8,   319,  ...,     0,     0,     0],\n",
            "        [    0,     8,   167,  ...,     0,     0,     0],\n",
            "        [    0, 17183,    12,  ...,     0,     0,     0],\n",
            "        ...,\n",
            "        [    0,     8, 11482,  ...,     0,     0,     0],\n",
            "        [    0,    31,   768,  ...,     0,     0,     0],\n",
            "        [    0,  2312,  1382,  ...,     0,     0,     0]]), shape: torch.Size([8, 512])        \n",
            "labels: tensor([[ 7],\n",
            "        [ 6],\n",
            "        [ 2],\n",
            "        [10],\n",
            "        [ 7],\n",
            "        [11],\n",
            "        [ 2],\n",
            "        [ 2]]), shape: torch.Size([8, 1])\n"
          ]
        }
      ],
      "source": [
        "for i,elem in enumerate(train_dataloader):\n",
        "  sentence_encoded = elem[\"input_ids\"]\n",
        "  attention_mask = elem[\"attention_mask\"]\n",
        "  entitites_encoded = elem[\"entities\"]\n",
        "  pretrained_words = elem[\"pretrained_words\"]\n",
        "  lemmas = elem[\"lemmas\"]\n",
        "  labels = elem[\"labels\"]\n",
        "  entities_invertito = {valore: chiave for chiave, valore in dict_entities.items()}\n",
        "  lab_invertito = {valore: chiave for chiave, valore in dict_labels.items()}\n",
        "  print(f\"idx: {i},\\nfrase: {sentence_encoded}, shape: {sentence_encoded.shape}, \\\n",
        "        \\nattention mask: {attention_mask}, shape: {attention_mask.shape}, \\\n",
        "        \\npretrained_words: {pretrained_words}, shape: {pretrained_words.shape}, \\\n",
        "        \\nentities: {entitites_encoded}, shape: {entitites_encoded.shape}\\\n",
        "        \\nlemmas: {lemmas}, shape: {lemmas.shape}\\\n",
        "        \\nlabels: {labels}, shape: {labels.shape}\")\n",
        "  break"
      ]
    },
    {
      "cell_type": "markdown",
      "metadata": {
        "id": "vrV-HPLP4829"
      },
      "source": [
        "# Pretrained"
      ]
    },
    {
      "cell_type": "code",
      "execution_count": 19,
      "metadata": {
        "colab": {
          "base_uri": "https://localhost:8080/"
        },
        "id": "JSagCKBf5XMe",
        "outputId": "6929f218-142e-4d40-c42a-cb3aab06e1bf"
      },
      "outputs": [
        {
          "output_type": "stream",
          "name": "stdout",
          "text": [
            "--2023-06-09 16:03:54--  http://nlp.stanford.edu/data/glove.6B.zip\n",
            "Resolving nlp.stanford.edu (nlp.stanford.edu)... 171.64.67.140\n",
            "Connecting to nlp.stanford.edu (nlp.stanford.edu)|171.64.67.140|:80... connected.\n",
            "HTTP request sent, awaiting response... 302 Found\n",
            "Location: https://nlp.stanford.edu/data/glove.6B.zip [following]\n",
            "--2023-06-09 16:03:54--  https://nlp.stanford.edu/data/glove.6B.zip\n",
            "Connecting to nlp.stanford.edu (nlp.stanford.edu)|171.64.67.140|:443... connected.\n",
            "HTTP request sent, awaiting response... 301 Moved Permanently\n",
            "Location: https://downloads.cs.stanford.edu/nlp/data/glove.6B.zip [following]\n",
            "--2023-06-09 16:03:54--  https://downloads.cs.stanford.edu/nlp/data/glove.6B.zip\n",
            "Resolving downloads.cs.stanford.edu (downloads.cs.stanford.edu)... 171.64.64.22\n",
            "Connecting to downloads.cs.stanford.edu (downloads.cs.stanford.edu)|171.64.64.22|:443... connected.\n",
            "HTTP request sent, awaiting response... 200 OK\n",
            "Length: 862182613 (822M) [application/zip]\n",
            "Saving to: ‘glove.6B.zip’\n",
            "\n",
            "glove.6B.zip          7%[>                   ]  58.02M  5.06MB/s    eta 95s    ^C\n",
            "Archive:  glove.6B.zip\n",
            "  End-of-central-directory signature not found.  Either this file is not\n",
            "  a zipfile, or it constitutes one disk of a multi-part archive.  In the\n",
            "  latter case the central directory and zipfile comment will be found on\n",
            "  the last disk(s) of this archive.\n",
            "unzip:  cannot find zipfile directory in one of glove.6B.zip or\n",
            "        glove.6B.zip.zip, and cannot find glove.6B.zip.ZIP, period.\n"
          ]
        }
      ],
      "source": [
        "!wget http://nlp.stanford.edu/data/glove.6B.zip\n",
        "!unzip glove.6B.zip"
      ]
    },
    {
      "cell_type": "code",
      "execution_count": null,
      "metadata": {
        "id": "WBOr8PI24-oN"
      },
      "outputs": [],
      "source": [
        "class PreTrainedEmbedding():\n",
        "  def __init__(self,\n",
        "               path:str, \n",
        "               dim:int, \n",
        "               vocab:dict):\n",
        "    \n",
        "    self.path = path\n",
        "    self.dim = dim\n",
        "    self.vocab = vocab\n",
        "\n",
        "    self.dictionary_emb = self.build_dictionary()\n",
        "    self.weights = self.embedding_weights() \n",
        "  \n",
        "  def build_dictionary(self):\n",
        "    \n",
        "    dictionary = {}\n",
        "    with open(self.path) as file_:\n",
        "      for line in file_.readlines():\n",
        "        data = []\n",
        "        elem = line.strip().split()\n",
        "        word = elem[0]\n",
        "        for i in range (self.dim):\n",
        "          data.append(float(elem[i+1]))\n",
        "        dictionary[word]=data\n",
        "    return dictionary\n",
        "\n",
        "  def embedding_weights(self):\n",
        "    \n",
        "    embeddings_weights = torch.zeros([len(self.vocab),self.dim])\n",
        "    random = torch.rand(1,self.dim)[0]\n",
        "\n",
        "    for elem in self.vocab:\n",
        "      if elem not in self.dictionary_emb:\n",
        "        embeddings_weights[self.vocab[elem]] = random\n",
        "      else:\n",
        "        embeddings_weights[self.vocab[elem]] = torch.tensor(self.dictionary_emb[elem])\n",
        "   \n",
        "    return embeddings_weights"
      ]
    },
    {
      "cell_type": "code",
      "execution_count": null,
      "metadata": {
        "id": "FKlb_h9I8CqT"
      },
      "outputs": [],
      "source": [
        "pre_embeddings = PreTrainedEmbedding(\"./glove.6B.100d.txt\", 100, word_vocab)"
      ]
    },
    {
      "cell_type": "markdown",
      "metadata": {
        "id": "PkNchWiPAuL4"
      },
      "source": [
        "# Modello"
      ]
    },
    {
      "cell_type": "code",
      "execution_count": 13,
      "metadata": {
        "id": "YrRlAYEnkPYR"
      },
      "outputs": [],
      "source": [
        "class RelationExtractionBinaryModel(Module):\n",
        "  def __init__(self, hparams):\n",
        "    super(RelationExtractionBinaryModel, self).__init__()\n",
        "    self.bert = BertModel.from_pretrained(hparams.transformer_model)\n",
        "    # self.pretrained_embedding = nn.Embedding(hparams.w_vocab_size, hparams.embedding_dim_pretrained)\n",
        "    self.NER_embedding = nn.Embedding(hparams.NER_vocab_size, hparams.embedding_dim_NER)\n",
        "    self.lemma_embedding = nn.Embedding(hparams.lemma_vocab_size, hparams.embedding_dim_lemma)\n",
        "    self.lstm = LSTM( hparams.embedding_dim_words + \n",
        "                      hparams.embedding_dim_NER +\n",
        "                     hparams.embedding_dim_lemma,\n",
        "                      # hparams.embedding_dim_pretrained,\n",
        "                      hparams.hidden_dim, \n",
        "                      bidirectional = hparams.bidirectional,\n",
        "                      num_layers = hparams.num_layers, \n",
        "                      batch_first = True,\n",
        "                      dropout = hparams.dropout if hparams.num_layers > 1 else 0\n",
        "                     )\n",
        "    # self.pretrained_embedding.weight.data.copy_(hparams.pretrained_embeddings.weights)\n",
        "    lstm_output_dim = hparams.hidden_dim if hparams.bidirectional is False else hparams.hidden_dim * 2\n",
        "    self.dropout = Dropout(hparams.dropout)\n",
        "    self.classifier = Linear(lstm_output_dim*hparams.max_len, hparams.num_classes)\n",
        "\n",
        "  def forward(self, input_ids, mask, NER_e, pretrained, lemma):\n",
        "    embeddings = self.bert(input_ids, attention_mask=mask)[0]\n",
        "    # embeddings_pretrained  =self.pretrained_embedding(pretrained)\n",
        "    embeddings_NER = self.NER_embedding(NER_e)\n",
        "    embeddings_lemma = self.lemma_embedding(lemma)\n",
        "    embeddings = torch.cat((embeddings, embeddings_NER, embeddings_lemma), dim=2) # batch, n_seq, emb_bert + emb_NER\n",
        "    o, (h, c) = self.lstm(embeddings) # (batch, n_seq, 512)\n",
        "    o = o.flatten(start_dim=1) # (batch, n_seq * 512)\n",
        "    output = self.classifier(o)  \n",
        "    return output"
      ]
    },
    {
      "cell_type": "markdown",
      "metadata": {
        "id": "bzRqmrpImVcr"
      },
      "source": [
        "## Hparameters"
      ]
    },
    {
      "cell_type": "code",
      "execution_count": 14,
      "metadata": {
        "id": "s_BRoa9JmW0f"
      },
      "outputs": [],
      "source": [
        "class HParams():\n",
        "    def __init__(self, l_vocab, ner_vocab, bert_model, w_vocab, lemma_vocab, pretrained_embeddings = None):\n",
        "      self.transformer_model = bert_model\n",
        "      self.NER_vocab_size = len(ner_vocab)\n",
        "      self.fine_tune = False\n",
        "      self.pretrained_embeddings = pretrained_embeddings\n",
        "      self.w_vocab_size = len(w_vocab)\n",
        "      self.lemma_vocab_size = len(lemma_vocab)\n",
        "      self.embedding_dim_pretrained = 100\n",
        "      self.embedding_dim_words = 768\n",
        "      self.embedding_dim_NER = 100\n",
        "      self.embedding_dim_lemma = 100\n",
        "      self.hidden_dim = 256\n",
        "      self.max_len = 512\n",
        "      self.num_classes = len(l_vocab)\n",
        "      self.bidirectional = True\n",
        "      self.num_layers = 2\n",
        "      self.dropout = 0.3"
      ]
    },
    {
      "cell_type": "markdown",
      "metadata": {
        "id": "qJoC4memdDDv"
      },
      "source": [
        "## Init Modello"
      ]
    },
    {
      "cell_type": "code",
      "execution_count": 15,
      "metadata": {
        "colab": {
          "base_uri": "https://localhost:8080/"
        },
        "id": "ZRPMtqlwnPCA",
        "outputId": "217e2f45-c864-4ebb-b621-e53126eacd21"
      },
      "outputs": [
        {
          "output_type": "stream",
          "name": "stderr",
          "text": [
            "Some weights of the model checkpoint at bert-base-uncased were not used when initializing BertModel: ['cls.predictions.bias', 'cls.seq_relationship.weight', 'cls.predictions.transform.dense.weight', 'cls.predictions.transform.LayerNorm.weight', 'cls.predictions.transform.dense.bias', 'cls.predictions.transform.LayerNorm.bias', 'cls.seq_relationship.bias']\n",
            "- This IS expected if you are initializing BertModel from the checkpoint of a model trained on another task or with another architecture (e.g. initializing a BertForSequenceClassification model from a BertForPreTraining model).\n",
            "- This IS NOT expected if you are initializing BertModel from the checkpoint of a model that you expect to be exactly identical (initializing a BertForSequenceClassification model from a BertForSequenceClassification model).\n"
          ]
        }
      ],
      "source": [
        "params = HParams(dict_labels, dict_entities, 'bert-base-uncased', word_vocab, lemma_vocab, pretrained_embeddings=None)\n",
        "model = RelationExtractionBinaryModel(params).to(device)"
      ]
    },
    {
      "cell_type": "markdown",
      "metadata": {
        "id": "ZQr7w0GiAvWw"
      },
      "source": [
        "# Train, Validation, Predict"
      ]
    },
    {
      "cell_type": "code",
      "execution_count": 16,
      "metadata": {
        "id": "zZv98muPrvNd"
      },
      "outputs": [],
      "source": [
        "class Trainer():\n",
        "\n",
        "  def __init__(\n",
        "      self,\n",
        "      model: Module,\n",
        "      loss_function,\n",
        "      optimizer,\n",
        "      tokenizer,\n",
        "      label_vocab,\n",
        "      patience, \n",
        "      save_path):\n",
        "    \n",
        "    self.model = model\n",
        "    self.loss_function = loss_function\n",
        "    self.optimizer = optimizer\n",
        "    self.tokenizer = tokenizer\n",
        "    self.label_vocab = label_vocab \n",
        "    self.patience = patience\n",
        "    self.best_valid_f1 = 0.0\n",
        "    self.best_loss = 0.0\n",
        "    self.early_stop_counter = 0\n",
        "    self.save_path = save_path\n",
        "  \n",
        "  def train(self, train_dataset, valid_dataset, epochs:int=1):\n",
        "    train_loss = 0.0\n",
        "    for epoch in range(epochs):\n",
        "      epoch_loss = 0.0\n",
        "      self.model.train()\n",
        "      train_iterator = tqdm(train_dataset)\n",
        "      f1_scores = list()\n",
        "      accuracies = list()\n",
        "      y_true, y_pred = [], []\n",
        "      for step, sample in enumerate(train_iterator):\n",
        "\n",
        "        input_ids = sample['input_ids'].to(device)\n",
        "        attention_mask = sample['attention_mask'].to(device)\n",
        "        pretrained_embeddings = sample['pretrained_words'].to(device)\n",
        "        entitites = sample['entities'].to(device)\n",
        "        lemma = sample['lemmas'].to(device)\n",
        "        labels = sample['labels'].to(device) # (batch, n_classes)\n",
        "\n",
        "        self.optimizer.zero_grad()\n",
        "\n",
        "        predictions = self.model(input_ids, attention_mask, entitites, pretrained_embeddings, lemma)\n",
        "        labels = labels.view(-1)\n",
        "\n",
        "        sample_loss = self.loss_function(predictions, labels)\n",
        "\n",
        "        sample_loss.backward()\n",
        "\n",
        "        self.optimizer.step()\n",
        "\n",
        "        epoch_loss += sample_loss.item()\n",
        "        avg_loss = epoch_loss / (step + 1)\n",
        "\n",
        "        # Calcolo dell'accuratezza nel batch\n",
        "        pred = torch.argmax(predictions, dim=1)\n",
        "\n",
        "        # Aggiunta delle etichette vere e predette per calcolare l'F1-score\n",
        "        y_true.extend(labels.tolist())\n",
        "        y_pred.extend(pred.tolist())\n",
        "\n",
        "        f1 = f1_score(labels.tolist(), pred.tolist(), average=\"weighted\", zero_division=0)\n",
        "        acc = accuracy_score(labels.tolist(), pred.tolist())\n",
        "        \n",
        "        train_iterator.set_postfix(\n",
        "          loss=avg_loss,\n",
        "          epoch=epoch,\n",
        "          f1_score = f1,\n",
        "          accuracy = acc,\n",
        "          step=(step + 1)\n",
        "        )\n",
        "        f1_scores.append(f1)\n",
        "        accuracies.append(acc)\n",
        "\n",
        "      training_metrics = {}\n",
        "      training_metrics['loss'] = epoch_loss / len(train_dataset) if epoch_loss > 0 else 0.0 \n",
        "      training_metrics['f1'] = sum(f1_scores) / len(f1_scores) if f1_scores else 0.0\n",
        "      training_metrics['accuracy'] = sum(accuracies) / len(accuracies) if accuracies else 0.0\n",
        "      validation_metrics = self.evaluate(valid_dataset, epoch)\n",
        "\n",
        "      # Early stopping check\n",
        "      valid_f1 = validation_metrics['f1']\n",
        "      valid_loss = validation_metrics['loss']\n",
        "      if valid_f1 > self.best_valid_f1 or valid_loss < self.best_loss:\n",
        "          self.best_valid_f1 = valid_f1\n",
        "          self.early_stop_counter = 0\n",
        "          if self.save_path is not None:\n",
        "              torch.save(self.model.state_dict(), self.save_path)\n",
        "      else:\n",
        "          self.early_stop_counter += 1\n",
        "          if self.early_stop_counter >= self.patience:\n",
        "              print(\"Early stopping triggered. No improvement in validation F1 score.\")\n",
        "              break\n",
        "\n",
        "      keys = set()\n",
        "      keys |= set(training_metrics.keys())\n",
        "      keys |= set(validation_metrics.keys())\n",
        "\n",
        "      table = []\n",
        "\n",
        "      for key in keys:\n",
        "          table.append((key, training_metrics.get(key, float('Nan')), validation_metrics.get(key, float('Nan'))))\n",
        "\n",
        "      print(tabulate(table, headers=('metric', 'train', 'dev')) + '\\n')\n",
        "\n",
        "  def evaluate(self, valid_dataset, epoch):\n",
        "    valid_loss = 0.0\n",
        "    self.model.eval()\n",
        "    f1_scores = list()\n",
        "    accuracies = list()\n",
        "    y_true, y_pred = [], []\n",
        "    with torch.no_grad():\n",
        "      valid_iterator = tqdm(valid_dataset)\n",
        "      for step,  sample in enumerate(valid_iterator):\n",
        "        input_ids = sample['input_ids'].to(device)\n",
        "        attention_mask = sample['attention_mask'].to(device)\n",
        "        pretrained_embeddings = sample['pretrained_words'].to(device)\n",
        "        entitites = sample['entities'].to(device)\n",
        "        lemma = sample['lemmas'].to(device)\n",
        "        labels = sample['labels'].to(device)\n",
        "        predictions = self.model(input_ids, attention_mask, entitites, pretrained_embeddings, lemma)\n",
        "        labels = labels.view(-1)\n",
        "        sample_loss = self.loss_function(predictions, labels)\n",
        "        valid_loss += sample_loss.tolist()\n",
        "        avg_loss = valid_loss / (step + 1)\n",
        "\n",
        "        # Calcolo dell'accuratezza nel batch\n",
        "        pred = torch.argmax(predictions, dim=1)\n",
        "\n",
        "        # Aggiunta delle etichette vere e predette per calcolare l'F1-score\n",
        "        y_true.extend(labels.tolist())\n",
        "        y_pred.extend(pred.tolist())\n",
        "\n",
        "        f1 = f1_score(labels.tolist(), pred.tolist(), average=\"weighted\", zero_division=0)\n",
        "        acc = accuracy_score(labels.tolist(), pred.tolist())\n",
        "\n",
        "        valid_iterator.set_postfix(\n",
        "          loss=avg_loss,\n",
        "          epoch=epoch,\n",
        "          f1_score = f1,\n",
        "          accuracy = acc,\n",
        "          step=(step + 1)\n",
        "        )\n",
        "\n",
        "        f1_scores.append(f1)\n",
        "        accuracies.append(acc)\n",
        "\n",
        "    metrics = {}\n",
        "    metrics['loss'] = valid_loss / len(valid_dataset) if valid_loss > 0 else 0.0 \n",
        "    metrics['f1'] = sum(f1_scores) / len(f1_scores) if f1_scores else 0.0\n",
        "    metrics['accuracy'] = sum(accuracies) / len(accuracies) if accuracies else 0.0\n",
        "\n",
        "    return metrics\n",
        "\n",
        "  def predict(self, test_dataset):\n",
        "    self.model.eval()\n",
        "    f1_scores = list()\n",
        "    accuracies = list()\n",
        "    y_true, y_pred = [], []\n",
        "    with torch.no_grad():\n",
        "      test_iterator = tqdm(test_dataset)\n",
        "      for step,  sample in enumerate(test_iterator):\n",
        "        input_ids = sample['input_ids'].to(device)\n",
        "        attention_mask = sample['attention_mask'].to(device)\n",
        "        pretrained_embeddings = sample['pretrained_words'].to(device)\n",
        "        entitites = sample['entities'].to(device)\n",
        "        labels = sample['labels'].to(device)\n",
        "        lemma = sample['lemmas'].to(device)\n",
        "        predictions = self.model(input_ids, attention_mask, entitites, pretrained_embeddings, lemma)\n",
        "\n",
        "        # Calcolo dell'accuratezza nel batch\n",
        "        pred = torch.argmax(predictions, dim=1)\n",
        "\n",
        "        # Aggiunta delle etichette vere e predette per calcolare l'F1-score\n",
        "        y_true.extend(labels.tolist())\n",
        "        y_pred.extend(pred.tolist())\n",
        "\n",
        "        f1 = f1_score(labels.tolist(), pred.tolist(), average=\"weighted\", zero_division=0)\n",
        "        acc = accuracy_score(labels.tolist(), pred.tolist())\n",
        "\n",
        "        test_iterator.set_postfix(\n",
        "          f1_score = f1,\n",
        "          accuracy = acc,\n",
        "          step=(step + 1)\n",
        "        )\n",
        "\n",
        "        f1_scores.append(f1)\n",
        "        accuracies.append(acc)\n",
        "    return y_pred, y_true,  sum(f1_scores) / len(f1_scores), sum(accuracies) / len(accuracies)"
      ]
    },
    {
      "cell_type": "markdown",
      "metadata": {
        "id": "AnhRbX-vvy5-"
      },
      "source": [
        "## Init Trainer"
      ]
    },
    {
      "cell_type": "code",
      "execution_count": 17,
      "metadata": {
        "id": "IiF_zPvruoTM"
      },
      "outputs": [],
      "source": [
        "trainer = Trainer(\n",
        "    model = model,\n",
        "    loss_function = nn.CrossEntropyLoss(ignore_index=0),\n",
        "    optimizer = optim.Adam(model.parameters(), lr=2e-5),\n",
        "    tokenizer = tokenizer,\n",
        "    label_vocab= dict_labels,\n",
        "    patience = 5,\n",
        "    save_path = \"model_prova.pth\"\n",
        ")"
      ]
    },
    {
      "cell_type": "markdown",
      "metadata": {
        "id": "S8AnnoKAvwsP"
      },
      "source": [
        "### Training"
      ]
    },
    {
      "cell_type": "code",
      "execution_count": 18,
      "metadata": {
        "colab": {
          "base_uri": "https://localhost:8080/",
          "height": 487,
          "referenced_widgets": [
            "27b922933bf945178959a682a10bcd8a",
            "fc3158902a674b39b936d7f42e10ae58",
            "3c57583c75234eeb876023cea2459022",
            "dc490255a16040cd85c5fa0ed0bda9c6",
            "958630ae88c8418698eca08a2ef0e950",
            "ce5b4eb47e354e4980d89da0ac35eba0",
            "b3c27b414d264a2ca949c995da42586c",
            "5869261701f54d06860c761dc6796bc4",
            "df52d0bc8e0e49d088f449908fc6e9b1",
            "49697c4b1edf412eb4496faf49ad1f2f",
            "0f01c5bcdcad454f8be51df89d6175ad",
            "a2020fb69a74473e8997446184b870a6",
            "5e2a62baf4de43bb9cbc51961e5e277c",
            "6d39e315f0d24c9fa8ffd9197510d1b8",
            "098551d761ad43e6995ead4aa6e2bcb3",
            "a61be55f1ffc4511976ef133805ee9cb",
            "f6210dc78d254deeba3d1a4adb0ef012",
            "f0403abe0f324bb3a2e009c475ad044a",
            "5aa6a2bbe42a4a83a2eaec11c45835eb",
            "6076d82f48e143a4bc299c0eabe0393e",
            "0413454f2c0b4ba8a6639ddece6f39cf",
            "0b95f44ecf97402b955b815abc1eeedc",
            "2b3f72994388423b9cfe780adc91bf57",
            "78ad5fe531874ca5ae898b775a27ae01",
            "db98d5c057ec4a2b8d886bd14856e78b",
            "ba11a6b001554f6abd26592cc49fcc68",
            "a1602c09e53b4856aeb883dc30764e24",
            "44869ba176e24eb5b2be946eb574af4b",
            "9808415fa2db49f98feb537404fb8213",
            "a36d1f5c136d44c2b38196d1ad6606c6",
            "657a480c512d4f8a9b09629546985a83",
            "091bd50c80124bf5be0938a58bef6ce7",
            "e35ecdcdfbe649e29a255924ff7c9ac2"
          ]
        },
        "id": "6CjKiDUFvmd7",
        "outputId": "1885e8c7-388a-4ceb-ff99-fb93cae4eccf"
      },
      "outputs": [
        {
          "data": {
            "application/vnd.jupyter.widget-view+json": {
              "model_id": "27b922933bf945178959a682a10bcd8a",
              "version_major": 2,
              "version_minor": 0
            },
            "text/plain": [
              "  0%|          | 0/1873 [00:00<?, ?it/s]"
            ]
          },
          "metadata": {},
          "output_type": "display_data"
        },
        {
          "output_type": "display_data",
          "data": {
            "text/plain": [
              "  0%|          | 0/405 [00:00<?, ?it/s]"
            ],
            "application/vnd.jupyter.widget-view+json": {
              "version_major": 2,
              "version_minor": 0,
              "model_id": "a2020fb69a74473e8997446184b870a6"
            }
          },
          "metadata": {}
        },
        {
          "output_type": "stream",
          "name": "stdout",
          "text": [
            "metric       train       dev\n",
            "--------  --------  --------\n",
            "loss      1.25813   0.942526\n",
            "f1        0.592312  0.708971\n",
            "accuracy  0.598905  0.709259\n",
            "\n"
          ]
        },
        {
          "output_type": "display_data",
          "data": {
            "text/plain": [
              "  0%|          | 0/1873 [00:00<?, ?it/s]"
            ],
            "application/vnd.jupyter.widget-view+json": {
              "version_major": 2,
              "version_minor": 0,
              "model_id": "2b3f72994388423b9cfe780adc91bf57"
            }
          },
          "metadata": {}
        },
        {
          "output_type": "error",
          "ename": "KeyboardInterrupt",
          "evalue": "ignored",
          "traceback": [
            "\u001b[0;31m---------------------------------------------------------------------------\u001b[0m",
            "\u001b[0;31mKeyboardInterrupt\u001b[0m                         Traceback (most recent call last)",
            "\u001b[0;32m<ipython-input-18-a292487624fd>\u001b[0m in \u001b[0;36m<cell line: 1>\u001b[0;34m()\u001b[0m\n\u001b[0;32m----> 1\u001b[0;31m \u001b[0mtrainer\u001b[0m\u001b[0;34m.\u001b[0m\u001b[0mtrain\u001b[0m\u001b[0;34m(\u001b[0m\u001b[0mtrain_dataloader\u001b[0m\u001b[0;34m,\u001b[0m \u001b[0mvalid_dataloader\u001b[0m\u001b[0;34m,\u001b[0m \u001b[0;36m50\u001b[0m\u001b[0;34m)\u001b[0m\u001b[0;34m\u001b[0m\u001b[0;34m\u001b[0m\u001b[0m\n\u001b[0m",
            "\u001b[0;32m<ipython-input-16-9f5e5dccad56>\u001b[0m in \u001b[0;36mtrain\u001b[0;34m(self, train_dataset, valid_dataset, epochs)\u001b[0m\n\u001b[1;32m     51\u001b[0m         \u001b[0mself\u001b[0m\u001b[0;34m.\u001b[0m\u001b[0moptimizer\u001b[0m\u001b[0;34m.\u001b[0m\u001b[0mstep\u001b[0m\u001b[0;34m(\u001b[0m\u001b[0;34m)\u001b[0m\u001b[0;34m\u001b[0m\u001b[0;34m\u001b[0m\u001b[0m\n\u001b[1;32m     52\u001b[0m \u001b[0;34m\u001b[0m\u001b[0m\n\u001b[0;32m---> 53\u001b[0;31m         \u001b[0mepoch_loss\u001b[0m \u001b[0;34m+=\u001b[0m \u001b[0msample_loss\u001b[0m\u001b[0;34m.\u001b[0m\u001b[0mitem\u001b[0m\u001b[0;34m(\u001b[0m\u001b[0;34m)\u001b[0m\u001b[0;34m\u001b[0m\u001b[0;34m\u001b[0m\u001b[0m\n\u001b[0m\u001b[1;32m     54\u001b[0m         \u001b[0mavg_loss\u001b[0m \u001b[0;34m=\u001b[0m \u001b[0mepoch_loss\u001b[0m \u001b[0;34m/\u001b[0m \u001b[0;34m(\u001b[0m\u001b[0mstep\u001b[0m \u001b[0;34m+\u001b[0m \u001b[0;36m1\u001b[0m\u001b[0;34m)\u001b[0m\u001b[0;34m\u001b[0m\u001b[0;34m\u001b[0m\u001b[0m\n\u001b[1;32m     55\u001b[0m \u001b[0;34m\u001b[0m\u001b[0m\n",
            "\u001b[0;31mKeyboardInterrupt\u001b[0m: "
          ]
        }
      ],
      "source": [
        "trainer.train(train_dataloader, valid_dataloader, 50)"
      ]
    },
    {
      "cell_type": "markdown",
      "metadata": {
        "id": "mFQFuVasr2Qk"
      },
      "source": [
        "### Predict"
      ]
    },
    {
      "cell_type": "code",
      "execution_count": null,
      "metadata": {
        "id": "saj34ceWr3iU",
        "colab": {
          "base_uri": "https://localhost:8080/",
          "height": 49,
          "referenced_widgets": [
            "00a6941bd5b045c3b6ea1dbf19f675a0",
            "e3d4ed48de764dd9873d07eff0d44826",
            "a5066de5d88c433d8a86ea48188c978b",
            "c77bf0d52233424ba28af83fdb84cd52",
            "bc452592c06b40809860d40811ddfc64",
            "0e11dc69768c46918d4983ecf4de1272",
            "5654ee701ae14ceba221ece9d7565f62",
            "372138c795a642d99284b25f3c769518",
            "bd5ef8281abe49198e4777f7751779d1",
            "a2719429780a4d62af36b845b3d7e8be",
            "daf627a4c4c24d45bc0197491422e87c"
          ]
        },
        "outputId": "69978e16-5264-48d2-eb8b-9f719bda006d"
      },
      "outputs": [
        {
          "output_type": "display_data",
          "data": {
            "text/plain": [
              "  0%|          | 0/166 [00:00<?, ?it/s]"
            ],
            "application/vnd.jupyter.widget-view+json": {
              "version_major": 2,
              "version_minor": 0,
              "model_id": "00a6941bd5b045c3b6ea1dbf19f675a0"
            }
          },
          "metadata": {}
        }
      ],
      "source": [
        "predictions, true_labels, accuracy, f1 = trainer.predict(test_dataloader)"
      ]
    },
    {
      "cell_type": "code",
      "execution_count": null,
      "metadata": {
        "id": "DM5kewOdr_Bv",
        "colab": {
          "base_uri": "https://localhost:8080/"
        },
        "outputId": "637d3d0f-dc7e-411c-8b5e-2f5e0a45e55d"
      },
      "outputs": [
        {
          "output_type": "stream",
          "name": "stdout",
          "text": [
            "Before Accuracy test: 0.021320998278829602, Accuracy f1: 0.039909638554216864\n"
          ]
        }
      ],
      "source": [
        "print(f\"Before Accuracy test: {accuracy}, Accuracy f1: {f1}\")"
      ]
    },
    {
      "cell_type": "code",
      "source": [
        "print(f\"After Accuracy test: {accuracy}, Accuracy f1: {f1}\")"
      ],
      "metadata": {
        "id": "ckCsKkCS1yzs"
      },
      "execution_count": null,
      "outputs": []
    },
    {
      "cell_type": "markdown",
      "metadata": {
        "id": "dYVxx93HAy1b"
      },
      "source": [
        "# Confusion metrics"
      ]
    },
    {
      "cell_type": "code",
      "execution_count": null,
      "metadata": {
        "id": "Qx2t2jvlDPUT"
      },
      "outputs": [],
      "source": [
        "import numpy as np\n",
        "import matplotlib.pyplot as plt\n",
        "import numpy as np\n",
        "import itertools\n",
        "from sklearn.metrics import confusion_matrix\n",
        "\n",
        "\n",
        "def plot_confusion_matrix(cm,\n",
        "                          target_names,\n",
        "                          title='Confusion matrix',\n",
        "                          cmap=None,\n",
        "                          normalize=True):\n",
        "    \n",
        "\n",
        "    accuracy = np.trace(cm) / np.sum(cm).astype('float')\n",
        "    misclass = 1 - accuracy\n",
        "\n",
        "    if cmap is None:\n",
        "        cmap = plt.get_cmap('Blues')\n",
        "\n",
        "    plt.figure(figsize=(8, 6))\n",
        "    plt.imshow(cm, interpolation='nearest', cmap=cmap)\n",
        "    plt.title(title)\n",
        "    plt.colorbar()\n",
        "\n",
        "    if target_names is not None:\n",
        "        tick_marks = np.arange(len(target_names))\n",
        "        plt.xticks(tick_marks, target_names, rotation=45)\n",
        "        plt.yticks(tick_marks, target_names)\n",
        "\n",
        "    if normalize:\n",
        "        cm = cm.astype('float') / cm.sum(axis=1)[:, np.newaxis]\n",
        "\n",
        "\n",
        "    thresh = cm.max() / 1.5 if normalize else cm.max() / 2\n",
        "    for i, j in itertools.product(range(cm.shape[0]), range(cm.shape[1])):\n",
        "        if normalize:\n",
        "            plt.text(j, i, \"{:0.4f}\".format(cm[i, j]),\n",
        "                     horizontalalignment=\"center\",\n",
        "                     color=\"white\" if cm[i, j] > thresh else \"black\")\n",
        "        else:\n",
        "            plt.text(j, i, \"{:,}\".format(cm[i, j]),\n",
        "                     horizontalalignment=\"center\",\n",
        "                     color=\"white\" if cm[i, j] > thresh else \"black\")\n",
        "\n",
        "\n",
        "    plt.tight_layout()\n",
        "    plt.ylabel('True label')\n",
        "    plt.xlabel('Predicted label\\naccuracy={:0.4f}; misclass={:0.4f}'.format(accuracy, misclass))\n",
        "    plt.show()"
      ]
    },
    {
      "cell_type": "code",
      "execution_count": null,
      "metadata": {
        "colab": {
          "base_uri": "https://localhost:8080/",
          "height": 642
        },
        "id": "yFYCnNW1DedL",
        "outputId": "d4d5408b-053a-4caf-da1c-4cacb61109cf"
      },
      "outputs": [
        {
          "data": {
            "image/png": "[encoded data removed]",
            "text/plain": [
              "<Figure size 800x600 with 2 Axes>"
            ]
          },
          "metadata": {},
          "output_type": "display_data"
        }
      ],
      "source": [
        "cm = confusion_matrix(true_labels, predictions)\n",
        "plot_confusion_matrix(cm, [\"no\", \"yes\"])"
      ]
    }
  ],
  "metadata": {
    "accelerator": "GPU",
    "colab": {
      "gpuType": "T4",
      "provenance": [],
      "include_colab_link": true
    },
    "gpuClass": "standard",
    "kernelspec": {
      "display_name": "Python 3",
      "name": "python3"
    },
    "language_info": {
      "name": "python"
    },
    "widgets": {
      "application/vnd.jupyter.widget-state+json": {
        "00a6941bd5b045c3b6ea1dbf19f675a0": {
          "model_module": "@jupyter-widgets/controls",
          "model_name": "HBoxModel",
          "model_module_version": "1.5.0",
          "state": {
            "_dom_classes": [],
            "_model_module": "@jupyter-widgets/controls",
            "_model_module_version": "1.5.0",
            "_model_name": "HBoxModel",
            "_view_count": null,
            "_view_module": "@jupyter-widgets/controls",
            "_view_module_version": "1.5.0",
            "_view_name": "HBoxView",
            "box_style": "",
            "children": [
              "IPY_MODEL_e3d4ed48de764dd9873d07eff0d44826",
              "IPY_MODEL_a5066de5d88c433d8a86ea48188c978b",
              "IPY_MODEL_c77bf0d52233424ba28af83fdb84cd52"
            ],
            "layout": "IPY_MODEL_bc452592c06b40809860d40811ddfc64"
          }
        },
        "e3d4ed48de764dd9873d07eff0d44826": {
          "model_module": "@jupyter-widgets/controls",
          "model_name": "HTMLModel",
          "model_module_version": "1.5.0",
          "state": {
            "_dom_classes": [],
            "_model_module": "@jupyter-widgets/controls",
            "_model_module_version": "1.5.0",
            "_model_name": "HTMLModel",
            "_view_count": null,
            "_view_module": "@jupyter-widgets/controls",
            "_view_module_version": "1.5.0",
            "_view_name": "HTMLView",
            "description": "",
            "description_tooltip": null,
            "layout": "IPY_MODEL_0e11dc69768c46918d4983ecf4de1272",
            "placeholder": "​",
            "style": "IPY_MODEL_5654ee701ae14ceba221ece9d7565f62",
            "value": "100%"
          }
        },
        "a5066de5d88c433d8a86ea48188c978b": {
          "model_module": "@jupyter-widgets/controls",
          "model_name": "FloatProgressModel",
          "model_module_version": "1.5.0",
          "state": {
            "_dom_classes": [],
            "_model_module": "@jupyter-widgets/controls",
            "_model_module_version": "1.5.0",
            "_model_name": "FloatProgressModel",
            "_view_count": null,
            "_view_module": "@jupyter-widgets/controls",
            "_view_module_version": "1.5.0",
            "_view_name": "ProgressView",
            "bar_style": "success",
            "description": "",
            "description_tooltip": null,
            "layout": "IPY_MODEL_372138c795a642d99284b25f3c769518",
            "max": 166,
            "min": 0,
            "orientation": "horizontal",
            "style": "IPY_MODEL_bd5ef8281abe49198e4777f7751779d1",
            "value": 166
          }
        },
        "c77bf0d52233424ba28af83fdb84cd52": {
          "model_module": "@jupyter-widgets/controls",
          "model_name": "HTMLModel",
          "model_module_version": "1.5.0",
          "state": {
            "_dom_classes": [],
            "_model_module": "@jupyter-widgets/controls",
            "_model_module_version": "1.5.0",
            "_model_name": "HTMLModel",
            "_view_count": null,
            "_view_module": "@jupyter-widgets/controls",
            "_view_module_version": "1.5.0",
            "_view_name": "HTMLView",
            "description": "",
            "description_tooltip": null,
            "layout": "IPY_MODEL_a2719429780a4d62af36b845b3d7e8be",
            "placeholder": "​",
            "style": "IPY_MODEL_daf627a4c4c24d45bc0197491422e87c",
            "value": " 166/166 [00:52&lt;00:00,  3.18it/s, accuracy=0, f1_score=0, step=166]"
          }
        },
        "bc452592c06b40809860d40811ddfc64": {
          "model_module": "@jupyter-widgets/base",
          "model_name": "LayoutModel",
          "model_module_version": "1.2.0",
          "state": {
            "_model_module": "@jupyter-widgets/base",
            "_model_module_version": "1.2.0",
            "_model_name": "LayoutModel",
            "_view_count": null,
            "_view_module": "@jupyter-widgets/base",
            "_view_module_version": "1.2.0",
            "_view_name": "LayoutView",
            "align_content": null,
            "align_items": null,
            "align_self": null,
            "border": null,
            "bottom": null,
            "display": null,
            "flex": null,
            "flex_flow": null,
            "grid_area": null,
            "grid_auto_columns": null,
            "grid_auto_flow": null,
            "grid_auto_rows": null,
            "grid_column": null,
            "grid_gap": null,
            "grid_row": null,
            "grid_template_areas": null,
            "grid_template_columns": null,
            "grid_template_rows": null,
            "height": null,
            "justify_content": null,
            "justify_items": null,
            "left": null,
            "margin": null,
            "max_height": null,
            "max_width": null,
            "min_height": null,
            "min_width": null,
            "object_fit": null,
            "object_position": null,
            "order": null,
            "overflow": null,
            "overflow_x": null,
            "overflow_y": null,
            "padding": null,
            "right": null,
            "top": null,
            "visibility": null,
            "width": null
          }
        },
        "0e11dc69768c46918d4983ecf4de1272": {
          "model_module": "@jupyter-widgets/base",
          "model_name": "LayoutModel",
          "model_module_version": "1.2.0",
          "state": {
            "_model_module": "@jupyter-widgets/base",
            "_model_module_version": "1.2.0",
            "_model_name": "LayoutModel",
            "_view_count": null,
            "_view_module": "@jupyter-widgets/base",
            "_view_module_version": "1.2.0",
            "_view_name": "LayoutView",
            "align_content": null,
            "align_items": null,
            "align_self": null,
            "border": null,
            "bottom": null,
            "display": null,
            "flex": null,
            "flex_flow": null,
            "grid_area": null,
            "grid_auto_columns": null,
            "grid_auto_flow": null,
            "grid_auto_rows": null,
            "grid_column": null,
            "grid_gap": null,
            "grid_row": null,
            "grid_template_areas": null,
            "grid_template_columns": null,
            "grid_template_rows": null,
            "height": null,
            "justify_content": null,
            "justify_items": null,
            "left": null,
            "margin": null,
            "max_height": null,
            "max_width": null,
            "min_height": null,
            "min_width": null,
            "object_fit": null,
            "object_position": null,
            "order": null,
            "overflow": null,
            "overflow_x": null,
            "overflow_y": null,
            "padding": null,
            "right": null,
            "top": null,
            "visibility": null,
            "width": null
          }
        },
        "5654ee701ae14ceba221ece9d7565f62": {
          "model_module": "@jupyter-widgets/controls",
          "model_name": "DescriptionStyleModel",
          "model_module_version": "1.5.0",
          "state": {
            "_model_module": "@jupyter-widgets/controls",
            "_model_module_version": "1.5.0",
            "_model_name": "DescriptionStyleModel",
            "_view_count": null,
            "_view_module": "@jupyter-widgets/base",
            "_view_module_version": "1.2.0",
            "_view_name": "StyleView",
            "description_width": ""
          }
        },
        "372138c795a642d99284b25f3c769518": {
          "model_module": "@jupyter-widgets/base",
          "model_name": "LayoutModel",
          "model_module_version": "1.2.0",
          "state": {
            "_model_module": "@jupyter-widgets/base",
            "_model_module_version": "1.2.0",
            "_model_name": "LayoutModel",
            "_view_count": null,
            "_view_module": "@jupyter-widgets/base",
            "_view_module_version": "1.2.0",
            "_view_name": "LayoutView",
            "align_content": null,
            "align_items": null,
            "align_self": null,
            "border": null,
            "bottom": null,
            "display": null,
            "flex": null,
            "flex_flow": null,
            "grid_area": null,
            "grid_auto_columns": null,
            "grid_auto_flow": null,
            "grid_auto_rows": null,
            "grid_column": null,
            "grid_gap": null,
            "grid_row": null,
            "grid_template_areas": null,
            "grid_template_columns": null,
            "grid_template_rows": null,
            "height": null,
            "justify_content": null,
            "justify_items": null,
            "left": null,
            "margin": null,
            "max_height": null,
            "max_width": null,
            "min_height": null,
            "min_width": null,
            "object_fit": null,
            "object_position": null,
            "order": null,
            "overflow": null,
            "overflow_x": null,
            "overflow_y": null,
            "padding": null,
            "right": null,
            "top": null,
            "visibility": null,
            "width": null
          }
        },
        "bd5ef8281abe49198e4777f7751779d1": {
          "model_module": "@jupyter-widgets/controls",
          "model_name": "ProgressStyleModel",
          "model_module_version": "1.5.0",
          "state": {
            "_model_module": "@jupyter-widgets/controls",
            "_model_module_version": "1.5.0",
            "_model_name": "ProgressStyleModel",
            "_view_count": null,
            "_view_module": "@jupyter-widgets/base",
            "_view_module_version": "1.2.0",
            "_view_name": "StyleView",
            "bar_color": null,
            "description_width": ""
          }
        },
        "a2719429780a4d62af36b845b3d7e8be": {
          "model_module": "@jupyter-widgets/base",
          "model_name": "LayoutModel",
          "model_module_version": "1.2.0",
          "state": {
            "_model_module": "@jupyter-widgets/base",
            "_model_module_version": "1.2.0",
            "_model_name": "LayoutModel",
            "_view_count": null,
            "_view_module": "@jupyter-widgets/base",
            "_view_module_version": "1.2.0",
            "_view_name": "LayoutView",
            "align_content": null,
            "align_items": null,
            "align_self": null,
            "border": null,
            "bottom": null,
            "display": null,
            "flex": null,
            "flex_flow": null,
            "grid_area": null,
            "grid_auto_columns": null,
            "grid_auto_flow": null,
            "grid_auto_rows": null,
            "grid_column": null,
            "grid_gap": null,
            "grid_row": null,
            "grid_template_areas": null,
            "grid_template_columns": null,
            "grid_template_rows": null,
            "height": null,
            "justify_content": null,
            "justify_items": null,
            "left": null,
            "margin": null,
            "max_height": null,
            "max_width": null,
            "min_height": null,
            "min_width": null,
            "object_fit": null,
            "object_position": null,
            "order": null,
            "overflow": null,
            "overflow_x": null,
            "overflow_y": null,
            "padding": null,
            "right": null,
            "top": null,
            "visibility": null,
            "width": null
          }
        },
        "daf627a4c4c24d45bc0197491422e87c": {
          "model_module": "@jupyter-widgets/controls",
          "model_name": "DescriptionStyleModel",
          "model_module_version": "1.5.0",
          "state": {
            "_model_module": "@jupyter-widgets/controls",
            "_model_module_version": "1.5.0",
            "_model_name": "DescriptionStyleModel",
            "_view_count": null,
            "_view_module": "@jupyter-widgets/base",
            "_view_module_version": "1.2.0",
            "_view_name": "StyleView",
            "description_width": ""
          }
        },
        "dcb214402cf6498d90fb81e6dfb0e8a1": {
          "model_module": "@jupyter-widgets/controls",
          "model_name": "HBoxModel",
          "model_module_version": "1.5.0",
          "state": {
            "_dom_classes": [],
            "_model_module": "@jupyter-widgets/controls",
            "_model_module_version": "1.5.0",
            "_model_name": "HBoxModel",
            "_view_count": null,
            "_view_module": "@jupyter-widgets/controls",
            "_view_module_version": "1.5.0",
            "_view_name": "HBoxView",
            "box_style": "",
            "children": [
              "IPY_MODEL_4e8d428f9e0844e9919132d14e704fe3",
              "IPY_MODEL_bf6b81f49b8747af938ed78c2a8816a5",
              "IPY_MODEL_a16610ed0efe42c58ed094f28412a83d"
            ],
            "layout": "IPY_MODEL_38480d8f9c8042a8928cf686acade227"
          }
        },
        "4e8d428f9e0844e9919132d14e704fe3": {
          "model_module": "@jupyter-widgets/controls",
          "model_name": "HTMLModel",
          "model_module_version": "1.5.0",
          "state": {
            "_dom_classes": [],
            "_model_module": "@jupyter-widgets/controls",
            "_model_module_version": "1.5.0",
            "_model_name": "HTMLModel",
            "_view_count": null,
            "_view_module": "@jupyter-widgets/controls",
            "_view_module_version": "1.5.0",
            "_view_name": "HTMLView",
            "description": "",
            "description_tooltip": null,
            "layout": "IPY_MODEL_4db9f478cf4f4fc3ad598c168b26de2c",
            "placeholder": "​",
            "style": "IPY_MODEL_0d1489fee4b24129a42fe01901407559",
            "value": "100%"
          }
        },
        "bf6b81f49b8747af938ed78c2a8816a5": {
          "model_module": "@jupyter-widgets/controls",
          "model_name": "FloatProgressModel",
          "model_module_version": "1.5.0",
          "state": {
            "_dom_classes": [],
            "_model_module": "@jupyter-widgets/controls",
            "_model_module_version": "1.5.0",
            "_model_name": "FloatProgressModel",
            "_view_count": null,
            "_view_module": "@jupyter-widgets/controls",
            "_view_module_version": "1.5.0",
            "_view_name": "ProgressView",
            "bar_style": "success",
            "description": "",
            "description_tooltip": null,
            "layout": "IPY_MODEL_3703bfbb0f1d405996e098bb56e4e78e",
            "max": 2,
            "min": 0,
            "orientation": "horizontal",
            "style": "IPY_MODEL_86b185a481bc465da800195e6eae364f",
            "value": 2
          }
        },
        "a16610ed0efe42c58ed094f28412a83d": {
          "model_module": "@jupyter-widgets/controls",
          "model_name": "HTMLModel",
          "model_module_version": "1.5.0",
          "state": {
            "_dom_classes": [],
            "_model_module": "@jupyter-widgets/controls",
            "_model_module_version": "1.5.0",
            "_model_name": "HTMLModel",
            "_view_count": null,
            "_view_module": "@jupyter-widgets/controls",
            "_view_module_version": "1.5.0",
            "_view_name": "HTMLView",
            "description": "",
            "description_tooltip": null,
            "layout": "IPY_MODEL_aa6dc396d6d14367bc1cece54062c8b8",
            "placeholder": "​",
            "style": "IPY_MODEL_0d18e8008e704a2088c899c206f6518f",
            "value": " 2/2 [00:00&lt;00:00, 26.82it/s]"
          }
        },
        "38480d8f9c8042a8928cf686acade227": {
          "model_module": "@jupyter-widgets/base",
          "model_name": "LayoutModel",
          "model_module_version": "1.2.0",
          "state": {
            "_model_module": "@jupyter-widgets/base",
            "_model_module_version": "1.2.0",
            "_model_name": "LayoutModel",
            "_view_count": null,
            "_view_module": "@jupyter-widgets/base",
            "_view_module_version": "1.2.0",
            "_view_name": "LayoutView",
            "align_content": null,
            "align_items": null,
            "align_self": null,
            "border": null,
            "bottom": null,
            "display": null,
            "flex": null,
            "flex_flow": null,
            "grid_area": null,
            "grid_auto_columns": null,
            "grid_auto_flow": null,
            "grid_auto_rows": null,
            "grid_column": null,
            "grid_gap": null,
            "grid_row": null,
            "grid_template_areas": null,
            "grid_template_columns": null,
            "grid_template_rows": null,
            "height": null,
            "justify_content": null,
            "justify_items": null,
            "left": null,
            "margin": null,
            "max_height": null,
            "max_width": null,
            "min_height": null,
            "min_width": null,
            "object_fit": null,
            "object_position": null,
            "order": null,
            "overflow": null,
            "overflow_x": null,
            "overflow_y": null,
            "padding": null,
            "right": null,
            "top": null,
            "visibility": null,
            "width": null
          }
        },
        "4db9f478cf4f4fc3ad598c168b26de2c": {
          "model_module": "@jupyter-widgets/base",
          "model_name": "LayoutModel",
          "model_module_version": "1.2.0",
          "state": {
            "_model_module": "@jupyter-widgets/base",
            "_model_module_version": "1.2.0",
            "_model_name": "LayoutModel",
            "_view_count": null,
            "_view_module": "@jupyter-widgets/base",
            "_view_module_version": "1.2.0",
            "_view_name": "LayoutView",
            "align_content": null,
            "align_items": null,
            "align_self": null,
            "border": null,
            "bottom": null,
            "display": null,
            "flex": null,
            "flex_flow": null,
            "grid_area": null,
            "grid_auto_columns": null,
            "grid_auto_flow": null,
            "grid_auto_rows": null,
            "grid_column": null,
            "grid_gap": null,
            "grid_row": null,
            "grid_template_areas": null,
            "grid_template_columns": null,
            "grid_template_rows": null,
            "height": null,
            "justify_content": null,
            "justify_items": null,
            "left": null,
            "margin": null,
            "max_height": null,
            "max_width": null,
            "min_height": null,
            "min_width": null,
            "object_fit": null,
            "object_position": null,
            "order": null,
            "overflow": null,
            "overflow_x": null,
            "overflow_y": null,
            "padding": null,
            "right": null,
            "top": null,
            "visibility": null,
            "width": null
          }
        },
        "0d1489fee4b24129a42fe01901407559": {
          "model_module": "@jupyter-widgets/controls",
          "model_name": "DescriptionStyleModel",
          "model_module_version": "1.5.0",
          "state": {
            "_model_module": "@jupyter-widgets/controls",
            "_model_module_version": "1.5.0",
            "_model_name": "DescriptionStyleModel",
            "_view_count": null,
            "_view_module": "@jupyter-widgets/base",
            "_view_module_version": "1.2.0",
            "_view_name": "StyleView",
            "description_width": ""
          }
        },
        "3703bfbb0f1d405996e098bb56e4e78e": {
          "model_module": "@jupyter-widgets/base",
          "model_name": "LayoutModel",
          "model_module_version": "1.2.0",
          "state": {
            "_model_module": "@jupyter-widgets/base",
            "_model_module_version": "1.2.0",
            "_model_name": "LayoutModel",
            "_view_count": null,
            "_view_module": "@jupyter-widgets/base",
            "_view_module_version": "1.2.0",
            "_view_name": "LayoutView",
            "align_content": null,
            "align_items": null,
            "align_self": null,
            "border": null,
            "bottom": null,
            "display": null,
            "flex": null,
            "flex_flow": null,
            "grid_area": null,
            "grid_auto_columns": null,
            "grid_auto_flow": null,
            "grid_auto_rows": null,
            "grid_column": null,
            "grid_gap": null,
            "grid_row": null,
            "grid_template_areas": null,
            "grid_template_columns": null,
            "grid_template_rows": null,
            "height": null,
            "justify_content": null,
            "justify_items": null,
            "left": null,
            "margin": null,
            "max_height": null,
            "max_width": null,
            "min_height": null,
            "min_width": null,
            "object_fit": null,
            "object_position": null,
            "order": null,
            "overflow": null,
            "overflow_x": null,
            "overflow_y": null,
            "padding": null,
            "right": null,
            "top": null,
            "visibility": null,
            "width": null
          }
        },
        "86b185a481bc465da800195e6eae364f": {
          "model_module": "@jupyter-widgets/controls",
          "model_name": "ProgressStyleModel",
          "model_module_version": "1.5.0",
          "state": {
            "_model_module": "@jupyter-widgets/controls",
            "_model_module_version": "1.5.0",
            "_model_name": "ProgressStyleModel",
            "_view_count": null,
            "_view_module": "@jupyter-widgets/base",
            "_view_module_version": "1.2.0",
            "_view_name": "StyleView",
            "bar_color": null,
            "description_width": ""
          }
        },
        "aa6dc396d6d14367bc1cece54062c8b8": {
          "model_module": "@jupyter-widgets/base",
          "model_name": "LayoutModel",
          "model_module_version": "1.2.0",
          "state": {
            "_model_module": "@jupyter-widgets/base",
            "_model_module_version": "1.2.0",
            "_model_name": "LayoutModel",
            "_view_count": null,
            "_view_module": "@jupyter-widgets/base",
            "_view_module_version": "1.2.0",
            "_view_name": "LayoutView",
            "align_content": null,
            "align_items": null,
            "align_self": null,
            "border": null,
            "bottom": null,
            "display": null,
            "flex": null,
            "flex_flow": null,
            "grid_area": null,
            "grid_auto_columns": null,
            "grid_auto_flow": null,
            "grid_auto_rows": null,
            "grid_column": null,
            "grid_gap": null,
            "grid_row": null,
            "grid_template_areas": null,
            "grid_template_columns": null,
            "grid_template_rows": null,
            "height": null,
            "justify_content": null,
            "justify_items": null,
            "left": null,
            "margin": null,
            "max_height": null,
            "max_width": null,
            "min_height": null,
            "min_width": null,
            "object_fit": null,
            "object_position": null,
            "order": null,
            "overflow": null,
            "overflow_x": null,
            "overflow_y": null,
            "padding": null,
            "right": null,
            "top": null,
            "visibility": null,
            "width": null
          }
        },
        "0d18e8008e704a2088c899c206f6518f": {
          "model_module": "@jupyter-widgets/controls",
          "model_name": "DescriptionStyleModel",
          "model_module_version": "1.5.0",
          "state": {
            "_model_module": "@jupyter-widgets/controls",
            "_model_module_version": "1.5.0",
            "_model_name": "DescriptionStyleModel",
            "_view_count": null,
            "_view_module": "@jupyter-widgets/base",
            "_view_module_version": "1.2.0",
            "_view_name": "StyleView",
            "description_width": ""
          }
        },
        "27b922933bf945178959a682a10bcd8a": {
          "model_module": "@jupyter-widgets/controls",
          "model_name": "HBoxModel",
          "model_module_version": "1.5.0",
          "state": {
            "_dom_classes": [],
            "_model_module": "@jupyter-widgets/controls",
            "_model_module_version": "1.5.0",
            "_model_name": "HBoxModel",
            "_view_count": null,
            "_view_module": "@jupyter-widgets/controls",
            "_view_module_version": "1.5.0",
            "_view_name": "HBoxView",
            "box_style": "",
            "children": [
              "IPY_MODEL_fc3158902a674b39b936d7f42e10ae58",
              "IPY_MODEL_3c57583c75234eeb876023cea2459022",
              "IPY_MODEL_dc490255a16040cd85c5fa0ed0bda9c6"
            ],
            "layout": "IPY_MODEL_958630ae88c8418698eca08a2ef0e950"
          }
        },
        "fc3158902a674b39b936d7f42e10ae58": {
          "model_module": "@jupyter-widgets/controls",
          "model_name": "HTMLModel",
          "model_module_version": "1.5.0",
          "state": {
            "_dom_classes": [],
            "_model_module": "@jupyter-widgets/controls",
            "_model_module_version": "1.5.0",
            "_model_name": "HTMLModel",
            "_view_count": null,
            "_view_module": "@jupyter-widgets/controls",
            "_view_module_version": "1.5.0",
            "_view_name": "HTMLView",
            "description": "",
            "description_tooltip": null,
            "layout": "IPY_MODEL_ce5b4eb47e354e4980d89da0ac35eba0",
            "placeholder": "​",
            "style": "IPY_MODEL_b3c27b414d264a2ca949c995da42586c",
            "value": "100%"
          }
        },
        "3c57583c75234eeb876023cea2459022": {
          "model_module": "@jupyter-widgets/controls",
          "model_name": "FloatProgressModel",
          "model_module_version": "1.5.0",
          "state": {
            "_dom_classes": [],
            "_model_module": "@jupyter-widgets/controls",
            "_model_module_version": "1.5.0",
            "_model_name": "FloatProgressModel",
            "_view_count": null,
            "_view_module": "@jupyter-widgets/controls",
            "_view_module_version": "1.5.0",
            "_view_name": "ProgressView",
            "bar_style": "success",
            "description": "",
            "description_tooltip": null,
            "layout": "IPY_MODEL_5869261701f54d06860c761dc6796bc4",
            "max": 1873,
            "min": 0,
            "orientation": "horizontal",
            "style": "IPY_MODEL_df52d0bc8e0e49d088f449908fc6e9b1",
            "value": 1873
          }
        },
        "dc490255a16040cd85c5fa0ed0bda9c6": {
          "model_module": "@jupyter-widgets/controls",
          "model_name": "HTMLModel",
          "model_module_version": "1.5.0",
          "state": {
            "_dom_classes": [],
            "_model_module": "@jupyter-widgets/controls",
            "_model_module_version": "1.5.0",
            "_model_name": "HTMLModel",
            "_view_count": null,
            "_view_module": "@jupyter-widgets/controls",
            "_view_module_version": "1.5.0",
            "_view_name": "HTMLView",
            "description": "",
            "description_tooltip": null,
            "layout": "IPY_MODEL_49697c4b1edf412eb4496faf49ad1f2f",
            "placeholder": "​",
            "style": "IPY_MODEL_0f01c5bcdcad454f8be51df89d6175ad",
            "value": " 1873/1873 [15:14&lt;00:00,  2.04it/s, accuracy=0.5, epoch=0, f1_score=0.5, loss=1.26, step=1873]"
          }
        },
        "958630ae88c8418698eca08a2ef0e950": {
          "model_module": "@jupyter-widgets/base",
          "model_name": "LayoutModel",
          "model_module_version": "1.2.0",
          "state": {
            "_model_module": "@jupyter-widgets/base",
            "_model_module_version": "1.2.0",
            "_model_name": "LayoutModel",
            "_view_count": null,
            "_view_module": "@jupyter-widgets/base",
            "_view_module_version": "1.2.0",
            "_view_name": "LayoutView",
            "align_content": null,
            "align_items": null,
            "align_self": null,
            "border": null,
            "bottom": null,
            "display": null,
            "flex": null,
            "flex_flow": null,
            "grid_area": null,
            "grid_auto_columns": null,
            "grid_auto_flow": null,
            "grid_auto_rows": null,
            "grid_column": null,
            "grid_gap": null,
            "grid_row": null,
            "grid_template_areas": null,
            "grid_template_columns": null,
            "grid_template_rows": null,
            "height": null,
            "justify_content": null,
            "justify_items": null,
            "left": null,
            "margin": null,
            "max_height": null,
            "max_width": null,
            "min_height": null,
            "min_width": null,
            "object_fit": null,
            "object_position": null,
            "order": null,
            "overflow": null,
            "overflow_x": null,
            "overflow_y": null,
            "padding": null,
            "right": null,
            "top": null,
            "visibility": null,
            "width": null
          }
        },
        "ce5b4eb47e354e4980d89da0ac35eba0": {
          "model_module": "@jupyter-widgets/base",
          "model_name": "LayoutModel",
          "model_module_version": "1.2.0",
          "state": {
            "_model_module": "@jupyter-widgets/base",
            "_model_module_version": "1.2.0",
            "_model_name": "LayoutModel",
            "_view_count": null,
            "_view_module": "@jupyter-widgets/base",
            "_view_module_version": "1.2.0",
            "_view_name": "LayoutView",
            "align_content": null,
            "align_items": null,
            "align_self": null,
            "border": null,
            "bottom": null,
            "display": null,
            "flex": null,
            "flex_flow": null,
            "grid_area": null,
            "grid_auto_columns": null,
            "grid_auto_flow": null,
            "grid_auto_rows": null,
            "grid_column": null,
            "grid_gap": null,
            "grid_row": null,
            "grid_template_areas": null,
            "grid_template_columns": null,
            "grid_template_rows": null,
            "height": null,
            "justify_content": null,
            "justify_items": null,
            "left": null,
            "margin": null,
            "max_height": null,
            "max_width": null,
            "min_height": null,
            "min_width": null,
            "object_fit": null,
            "object_position": null,
            "order": null,
            "overflow": null,
            "overflow_x": null,
            "overflow_y": null,
            "padding": null,
            "right": null,
            "top": null,
            "visibility": null,
            "width": null
          }
        },
        "b3c27b414d264a2ca949c995da42586c": {
          "model_module": "@jupyter-widgets/controls",
          "model_name": "DescriptionStyleModel",
          "model_module_version": "1.5.0",
          "state": {
            "_model_module": "@jupyter-widgets/controls",
            "_model_module_version": "1.5.0",
            "_model_name": "DescriptionStyleModel",
            "_view_count": null,
            "_view_module": "@jupyter-widgets/base",
            "_view_module_version": "1.2.0",
            "_view_name": "StyleView",
            "description_width": ""
          }
        },
        "5869261701f54d06860c761dc6796bc4": {
          "model_module": "@jupyter-widgets/base",
          "model_name": "LayoutModel",
          "model_module_version": "1.2.0",
          "state": {
            "_model_module": "@jupyter-widgets/base",
            "_model_module_version": "1.2.0",
            "_model_name": "LayoutModel",
            "_view_count": null,
            "_view_module": "@jupyter-widgets/base",
            "_view_module_version": "1.2.0",
            "_view_name": "LayoutView",
            "align_content": null,
            "align_items": null,
            "align_self": null,
            "border": null,
            "bottom": null,
            "display": null,
            "flex": null,
            "flex_flow": null,
            "grid_area": null,
            "grid_auto_columns": null,
            "grid_auto_flow": null,
            "grid_auto_rows": null,
            "grid_column": null,
            "grid_gap": null,
            "grid_row": null,
            "grid_template_areas": null,
            "grid_template_columns": null,
            "grid_template_rows": null,
            "height": null,
            "justify_content": null,
            "justify_items": null,
            "left": null,
            "margin": null,
            "max_height": null,
            "max_width": null,
            "min_height": null,
            "min_width": null,
            "object_fit": null,
            "object_position": null,
            "order": null,
            "overflow": null,
            "overflow_x": null,
            "overflow_y": null,
            "padding": null,
            "right": null,
            "top": null,
            "visibility": null,
            "width": null
          }
        },
        "df52d0bc8e0e49d088f449908fc6e9b1": {
          "model_module": "@jupyter-widgets/controls",
          "model_name": "ProgressStyleModel",
          "model_module_version": "1.5.0",
          "state": {
            "_model_module": "@jupyter-widgets/controls",
            "_model_module_version": "1.5.0",
            "_model_name": "ProgressStyleModel",
            "_view_count": null,
            "_view_module": "@jupyter-widgets/base",
            "_view_module_version": "1.2.0",
            "_view_name": "StyleView",
            "bar_color": null,
            "description_width": ""
          }
        },
        "49697c4b1edf412eb4496faf49ad1f2f": {
          "model_module": "@jupyter-widgets/base",
          "model_name": "LayoutModel",
          "model_module_version": "1.2.0",
          "state": {
            "_model_module": "@jupyter-widgets/base",
            "_model_module_version": "1.2.0",
            "_model_name": "LayoutModel",
            "_view_count": null,
            "_view_module": "@jupyter-widgets/base",
            "_view_module_version": "1.2.0",
            "_view_name": "LayoutView",
            "align_content": null,
            "align_items": null,
            "align_self": null,
            "border": null,
            "bottom": null,
            "display": null,
            "flex": null,
            "flex_flow": null,
            "grid_area": null,
            "grid_auto_columns": null,
            "grid_auto_flow": null,
            "grid_auto_rows": null,
            "grid_column": null,
            "grid_gap": null,
            "grid_row": null,
            "grid_template_areas": null,
            "grid_template_columns": null,
            "grid_template_rows": null,
            "height": null,
            "justify_content": null,
            "justify_items": null,
            "left": null,
            "margin": null,
            "max_height": null,
            "max_width": null,
            "min_height": null,
            "min_width": null,
            "object_fit": null,
            "object_position": null,
            "order": null,
            "overflow": null,
            "overflow_x": null,
            "overflow_y": null,
            "padding": null,
            "right": null,
            "top": null,
            "visibility": null,
            "width": null
          }
        },
        "0f01c5bcdcad454f8be51df89d6175ad": {
          "model_module": "@jupyter-widgets/controls",
          "model_name": "DescriptionStyleModel",
          "model_module_version": "1.5.0",
          "state": {
            "_model_module": "@jupyter-widgets/controls",
            "_model_module_version": "1.5.0",
            "_model_name": "DescriptionStyleModel",
            "_view_count": null,
            "_view_module": "@jupyter-widgets/base",
            "_view_module_version": "1.2.0",
            "_view_name": "StyleView",
            "description_width": ""
          }
        },
        "a2020fb69a74473e8997446184b870a6": {
          "model_module": "@jupyter-widgets/controls",
          "model_name": "HBoxModel",
          "model_module_version": "1.5.0",
          "state": {
            "_dom_classes": [],
            "_model_module": "@jupyter-widgets/controls",
            "_model_module_version": "1.5.0",
            "_model_name": "HBoxModel",
            "_view_count": null,
            "_view_module": "@jupyter-widgets/controls",
            "_view_module_version": "1.5.0",
            "_view_name": "HBoxView",
            "box_style": "",
            "children": [
              "IPY_MODEL_5e2a62baf4de43bb9cbc51961e5e277c",
              "IPY_MODEL_6d39e315f0d24c9fa8ffd9197510d1b8",
              "IPY_MODEL_098551d761ad43e6995ead4aa6e2bcb3"
            ],
            "layout": "IPY_MODEL_a61be55f1ffc4511976ef133805ee9cb"
          }
        },
        "5e2a62baf4de43bb9cbc51961e5e277c": {
          "model_module": "@jupyter-widgets/controls",
          "model_name": "HTMLModel",
          "model_module_version": "1.5.0",
          "state": {
            "_dom_classes": [],
            "_model_module": "@jupyter-widgets/controls",
            "_model_module_version": "1.5.0",
            "_model_name": "HTMLModel",
            "_view_count": null,
            "_view_module": "@jupyter-widgets/controls",
            "_view_module_version": "1.5.0",
            "_view_name": "HTMLView",
            "description": "",
            "description_tooltip": null,
            "layout": "IPY_MODEL_f6210dc78d254deeba3d1a4adb0ef012",
            "placeholder": "​",
            "style": "IPY_MODEL_f0403abe0f324bb3a2e009c475ad044a",
            "value": "100%"
          }
        },
        "6d39e315f0d24c9fa8ffd9197510d1b8": {
          "model_module": "@jupyter-widgets/controls",
          "model_name": "FloatProgressModel",
          "model_module_version": "1.5.0",
          "state": {
            "_dom_classes": [],
            "_model_module": "@jupyter-widgets/controls",
            "_model_module_version": "1.5.0",
            "_model_name": "FloatProgressModel",
            "_view_count": null,
            "_view_module": "@jupyter-widgets/controls",
            "_view_module_version": "1.5.0",
            "_view_name": "ProgressView",
            "bar_style": "success",
            "description": "",
            "description_tooltip": null,
            "layout": "IPY_MODEL_5aa6a2bbe42a4a83a2eaec11c45835eb",
            "max": 405,
            "min": 0,
            "orientation": "horizontal",
            "style": "IPY_MODEL_6076d82f48e143a4bc299c0eabe0393e",
            "value": 405
          }
        },
        "098551d761ad43e6995ead4aa6e2bcb3": {
          "model_module": "@jupyter-widgets/controls",
          "model_name": "HTMLModel",
          "model_module_version": "1.5.0",
          "state": {
            "_dom_classes": [],
            "_model_module": "@jupyter-widgets/controls",
            "_model_module_version": "1.5.0",
            "_model_name": "HTMLModel",
            "_view_count": null,
            "_view_module": "@jupyter-widgets/controls",
            "_view_module_version": "1.5.0",
            "_view_name": "HTMLView",
            "description": "",
            "description_tooltip": null,
            "layout": "IPY_MODEL_0413454f2c0b4ba8a6639ddece6f39cf",
            "placeholder": "​",
            "style": "IPY_MODEL_0b95f44ecf97402b955b815abc1eeedc",
            "value": " 405/405 [01:12&lt;00:00,  5.64it/s, accuracy=1, epoch=0, f1_score=1, loss=0.943, step=405]"
          }
        },
        "a61be55f1ffc4511976ef133805ee9cb": {
          "model_module": "@jupyter-widgets/base",
          "model_name": "LayoutModel",
          "model_module_version": "1.2.0",
          "state": {
            "_model_module": "@jupyter-widgets/base",
            "_model_module_version": "1.2.0",
            "_model_name": "LayoutModel",
            "_view_count": null,
            "_view_module": "@jupyter-widgets/base",
            "_view_module_version": "1.2.0",
            "_view_name": "LayoutView",
            "align_content": null,
            "align_items": null,
            "align_self": null,
            "border": null,
            "bottom": null,
            "display": null,
            "flex": null,
            "flex_flow": null,
            "grid_area": null,
            "grid_auto_columns": null,
            "grid_auto_flow": null,
            "grid_auto_rows": null,
            "grid_column": null,
            "grid_gap": null,
            "grid_row": null,
            "grid_template_areas": null,
            "grid_template_columns": null,
            "grid_template_rows": null,
            "height": null,
            "justify_content": null,
            "justify_items": null,
            "left": null,
            "margin": null,
            "max_height": null,
            "max_width": null,
            "min_height": null,
            "min_width": null,
            "object_fit": null,
            "object_position": null,
            "order": null,
            "overflow": null,
            "overflow_x": null,
            "overflow_y": null,
            "padding": null,
            "right": null,
            "top": null,
            "visibility": null,
            "width": null
          }
        },
        "f6210dc78d254deeba3d1a4adb0ef012": {
          "model_module": "@jupyter-widgets/base",
          "model_name": "LayoutModel",
          "model_module_version": "1.2.0",
          "state": {
            "_model_module": "@jupyter-widgets/base",
            "_model_module_version": "1.2.0",
            "_model_name": "LayoutModel",
            "_view_count": null,
            "_view_module": "@jupyter-widgets/base",
            "_view_module_version": "1.2.0",
            "_view_name": "LayoutView",
            "align_content": null,
            "align_items": null,
            "align_self": null,
            "border": null,
            "bottom": null,
            "display": null,
            "flex": null,
            "flex_flow": null,
            "grid_area": null,
            "grid_auto_columns": null,
            "grid_auto_flow": null,
            "grid_auto_rows": null,
            "grid_column": null,
            "grid_gap": null,
            "grid_row": null,
            "grid_template_areas": null,
            "grid_template_columns": null,
            "grid_template_rows": null,
            "height": null,
            "justify_content": null,
            "justify_items": null,
            "left": null,
            "margin": null,
            "max_height": null,
            "max_width": null,
            "min_height": null,
            "min_width": null,
            "object_fit": null,
            "object_position": null,
            "order": null,
            "overflow": null,
            "overflow_x": null,
            "overflow_y": null,
            "padding": null,
            "right": null,
            "top": null,
            "visibility": null,
            "width": null
          }
        },
        "f0403abe0f324bb3a2e009c475ad044a": {
          "model_module": "@jupyter-widgets/controls",
          "model_name": "DescriptionStyleModel",
          "model_module_version": "1.5.0",
          "state": {
            "_model_module": "@jupyter-widgets/controls",
            "_model_module_version": "1.5.0",
            "_model_name": "DescriptionStyleModel",
            "_view_count": null,
            "_view_module": "@jupyter-widgets/base",
            "_view_module_version": "1.2.0",
            "_view_name": "StyleView",
            "description_width": ""
          }
        },
        "5aa6a2bbe42a4a83a2eaec11c45835eb": {
          "model_module": "@jupyter-widgets/base",
          "model_name": "LayoutModel",
          "model_module_version": "1.2.0",
          "state": {
            "_model_module": "@jupyter-widgets/base",
            "_model_module_version": "1.2.0",
            "_model_name": "LayoutModel",
            "_view_count": null,
            "_view_module": "@jupyter-widgets/base",
            "_view_module_version": "1.2.0",
            "_view_name": "LayoutView",
            "align_content": null,
            "align_items": null,
            "align_self": null,
            "border": null,
            "bottom": null,
            "display": null,
            "flex": null,
            "flex_flow": null,
            "grid_area": null,
            "grid_auto_columns": null,
            "grid_auto_flow": null,
            "grid_auto_rows": null,
            "grid_column": null,
            "grid_gap": null,
            "grid_row": null,
            "grid_template_areas": null,
            "grid_template_columns": null,
            "grid_template_rows": null,
            "height": null,
            "justify_content": null,
            "justify_items": null,
            "left": null,
            "margin": null,
            "max_height": null,
            "max_width": null,
            "min_height": null,
            "min_width": null,
            "object_fit": null,
            "object_position": null,
            "order": null,
            "overflow": null,
            "overflow_x": null,
            "overflow_y": null,
            "padding": null,
            "right": null,
            "top": null,
            "visibility": null,
            "width": null
          }
        },
        "6076d82f48e143a4bc299c0eabe0393e": {
          "model_module": "@jupyter-widgets/controls",
          "model_name": "ProgressStyleModel",
          "model_module_version": "1.5.0",
          "state": {
            "_model_module": "@jupyter-widgets/controls",
            "_model_module_version": "1.5.0",
            "_model_name": "ProgressStyleModel",
            "_view_count": null,
            "_view_module": "@jupyter-widgets/base",
            "_view_module_version": "1.2.0",
            "_view_name": "StyleView",
            "bar_color": null,
            "description_width": ""
          }
        },
        "0413454f2c0b4ba8a6639ddece6f39cf": {
          "model_module": "@jupyter-widgets/base",
          "model_name": "LayoutModel",
          "model_module_version": "1.2.0",
          "state": {
            "_model_module": "@jupyter-widgets/base",
            "_model_module_version": "1.2.0",
            "_model_name": "LayoutModel",
            "_view_count": null,
            "_view_module": "@jupyter-widgets/base",
            "_view_module_version": "1.2.0",
            "_view_name": "LayoutView",
            "align_content": null,
            "align_items": null,
            "align_self": null,
            "border": null,
            "bottom": null,
            "display": null,
            "flex": null,
            "flex_flow": null,
            "grid_area": null,
            "grid_auto_columns": null,
            "grid_auto_flow": null,
            "grid_auto_rows": null,
            "grid_column": null,
            "grid_gap": null,
            "grid_row": null,
            "grid_template_areas": null,
            "grid_template_columns": null,
            "grid_template_rows": null,
            "height": null,
            "justify_content": null,
            "justify_items": null,
            "left": null,
            "margin": null,
            "max_height": null,
            "max_width": null,
            "min_height": null,
            "min_width": null,
            "object_fit": null,
            "object_position": null,
            "order": null,
            "overflow": null,
            "overflow_x": null,
            "overflow_y": null,
            "padding": null,
            "right": null,
            "top": null,
            "visibility": null,
            "width": null
          }
        },
        "0b95f44ecf97402b955b815abc1eeedc": {
          "model_module": "@jupyter-widgets/controls",
          "model_name": "DescriptionStyleModel",
          "model_module_version": "1.5.0",
          "state": {
            "_model_module": "@jupyter-widgets/controls",
            "_model_module_version": "1.5.0",
            "_model_name": "DescriptionStyleModel",
            "_view_count": null,
            "_view_module": "@jupyter-widgets/base",
            "_view_module_version": "1.2.0",
            "_view_name": "StyleView",
            "description_width": ""
          }
        },
        "2b3f72994388423b9cfe780adc91bf57": {
          "model_module": "@jupyter-widgets/controls",
          "model_name": "HBoxModel",
          "model_module_version": "1.5.0",
          "state": {
            "_dom_classes": [],
            "_model_module": "@jupyter-widgets/controls",
            "_model_module_version": "1.5.0",
            "_model_name": "HBoxModel",
            "_view_count": null,
            "_view_module": "@jupyter-widgets/controls",
            "_view_module_version": "1.5.0",
            "_view_name": "HBoxView",
            "box_style": "",
            "children": [
              "IPY_MODEL_78ad5fe531874ca5ae898b775a27ae01",
              "IPY_MODEL_db98d5c057ec4a2b8d886bd14856e78b",
              "IPY_MODEL_ba11a6b001554f6abd26592cc49fcc68"
            ],
            "layout": "IPY_MODEL_a1602c09e53b4856aeb883dc30764e24"
          }
        },
        "78ad5fe531874ca5ae898b775a27ae01": {
          "model_module": "@jupyter-widgets/controls",
          "model_name": "HTMLModel",
          "model_module_version": "1.5.0",
          "state": {
            "_dom_classes": [],
            "_model_module": "@jupyter-widgets/controls",
            "_model_module_version": "1.5.0",
            "_model_name": "HTMLModel",
            "_view_count": null,
            "_view_module": "@jupyter-widgets/controls",
            "_view_module_version": "1.5.0",
            "_view_name": "HTMLView",
            "description": "",
            "description_tooltip": null,
            "layout": "IPY_MODEL_44869ba176e24eb5b2be946eb574af4b",
            "placeholder": "​",
            "style": "IPY_MODEL_9808415fa2db49f98feb537404fb8213",
            "value": " 31%"
          }
        },
        "db98d5c057ec4a2b8d886bd14856e78b": {
          "model_module": "@jupyter-widgets/controls",
          "model_name": "FloatProgressModel",
          "model_module_version": "1.5.0",
          "state": {
            "_dom_classes": [],
            "_model_module": "@jupyter-widgets/controls",
            "_model_module_version": "1.5.0",
            "_model_name": "FloatProgressModel",
            "_view_count": null,
            "_view_module": "@jupyter-widgets/controls",
            "_view_module_version": "1.5.0",
            "_view_name": "ProgressView",
            "bar_style": "danger",
            "description": "",
            "description_tooltip": null,
            "layout": "IPY_MODEL_a36d1f5c136d44c2b38196d1ad6606c6",
            "max": 1873,
            "min": 0,
            "orientation": "horizontal",
            "style": "IPY_MODEL_657a480c512d4f8a9b09629546985a83",
            "value": 586
          }
        },
        "ba11a6b001554f6abd26592cc49fcc68": {
          "model_module": "@jupyter-widgets/controls",
          "model_name": "HTMLModel",
          "model_module_version": "1.5.0",
          "state": {
            "_dom_classes": [],
            "_model_module": "@jupyter-widgets/controls",
            "_model_module_version": "1.5.0",
            "_model_name": "HTMLModel",
            "_view_count": null,
            "_view_module": "@jupyter-widgets/controls",
            "_view_module_version": "1.5.0",
            "_view_name": "HTMLView",
            "description": "",
            "description_tooltip": null,
            "layout": "IPY_MODEL_091bd50c80124bf5be0938a58bef6ce7",
            "placeholder": "​",
            "style": "IPY_MODEL_e35ecdcdfbe649e29a255924ff7c9ac2",
            "value": " 586/1873 [04:46&lt;10:25,  2.06it/s, accuracy=1, epoch=1, f1_score=1, loss=0.483, step=586]"
          }
        },
        "a1602c09e53b4856aeb883dc30764e24": {
          "model_module": "@jupyter-widgets/base",
          "model_name": "LayoutModel",
          "model_module_version": "1.2.0",
          "state": {
            "_model_module": "@jupyter-widgets/base",
            "_model_module_version": "1.2.0",
            "_model_name": "LayoutModel",
            "_view_count": null,
            "_view_module": "@jupyter-widgets/base",
            "_view_module_version": "1.2.0",
            "_view_name": "LayoutView",
            "align_content": null,
            "align_items": null,
            "align_self": null,
            "border": null,
            "bottom": null,
            "display": null,
            "flex": null,
            "flex_flow": null,
            "grid_area": null,
            "grid_auto_columns": null,
            "grid_auto_flow": null,
            "grid_auto_rows": null,
            "grid_column": null,
            "grid_gap": null,
            "grid_row": null,
            "grid_template_areas": null,
            "grid_template_columns": null,
            "grid_template_rows": null,
            "height": null,
            "justify_content": null,
            "justify_items": null,
            "left": null,
            "margin": null,
            "max_height": null,
            "max_width": null,
            "min_height": null,
            "min_width": null,
            "object_fit": null,
            "object_position": null,
            "order": null,
            "overflow": null,
            "overflow_x": null,
            "overflow_y": null,
            "padding": null,
            "right": null,
            "top": null,
            "visibility": null,
            "width": null
          }
        },
        "44869ba176e24eb5b2be946eb574af4b": {
          "model_module": "@jupyter-widgets/base",
          "model_name": "LayoutModel",
          "model_module_version": "1.2.0",
          "state": {
            "_model_module": "@jupyter-widgets/base",
            "_model_module_version": "1.2.0",
            "_model_name": "LayoutModel",
            "_view_count": null,
            "_view_module": "@jupyter-widgets/base",
            "_view_module_version": "1.2.0",
            "_view_name": "LayoutView",
            "align_content": null,
            "align_items": null,
            "align_self": null,
            "border": null,
            "bottom": null,
            "display": null,
            "flex": null,
            "flex_flow": null,
            "grid_area": null,
            "grid_auto_columns": null,
            "grid_auto_flow": null,
            "grid_auto_rows": null,
            "grid_column": null,
            "grid_gap": null,
            "grid_row": null,
            "grid_template_areas": null,
            "grid_template_columns": null,
            "grid_template_rows": null,
            "height": null,
            "justify_content": null,
            "justify_items": null,
            "left": null,
            "margin": null,
            "max_height": null,
            "max_width": null,
            "min_height": null,
            "min_width": null,
            "object_fit": null,
            "object_position": null,
            "order": null,
            "overflow": null,
            "overflow_x": null,
            "overflow_y": null,
            "padding": null,
            "right": null,
            "top": null,
            "visibility": null,
            "width": null
          }
        },
        "9808415fa2db49f98feb537404fb8213": {
          "model_module": "@jupyter-widgets/controls",
          "model_name": "DescriptionStyleModel",
          "model_module_version": "1.5.0",
          "state": {
            "_model_module": "@jupyter-widgets/controls",
            "_model_module_version": "1.5.0",
            "_model_name": "DescriptionStyleModel",
            "_view_count": null,
            "_view_module": "@jupyter-widgets/base",
            "_view_module_version": "1.2.0",
            "_view_name": "StyleView",
            "description_width": ""
          }
        },
        "a36d1f5c136d44c2b38196d1ad6606c6": {
          "model_module": "@jupyter-widgets/base",
          "model_name": "LayoutModel",
          "model_module_version": "1.2.0",
          "state": {
            "_model_module": "@jupyter-widgets/base",
            "_model_module_version": "1.2.0",
            "_model_name": "LayoutModel",
            "_view_count": null,
            "_view_module": "@jupyter-widgets/base",
            "_view_module_version": "1.2.0",
            "_view_name": "LayoutView",
            "align_content": null,
            "align_items": null,
            "align_self": null,
            "border": null,
            "bottom": null,
            "display": null,
            "flex": null,
            "flex_flow": null,
            "grid_area": null,
            "grid_auto_columns": null,
            "grid_auto_flow": null,
            "grid_auto_rows": null,
            "grid_column": null,
            "grid_gap": null,
            "grid_row": null,
            "grid_template_areas": null,
            "grid_template_columns": null,
            "grid_template_rows": null,
            "height": null,
            "justify_content": null,
            "justify_items": null,
            "left": null,
            "margin": null,
            "max_height": null,
            "max_width": null,
            "min_height": null,
            "min_width": null,
            "object_fit": null,
            "object_position": null,
            "order": null,
            "overflow": null,
            "overflow_x": null,
            "overflow_y": null,
            "padding": null,
            "right": null,
            "top": null,
            "visibility": null,
            "width": null
          }
        },
        "657a480c512d4f8a9b09629546985a83": {
          "model_module": "@jupyter-widgets/controls",
          "model_name": "ProgressStyleModel",
          "model_module_version": "1.5.0",
          "state": {
            "_model_module": "@jupyter-widgets/controls",
            "_model_module_version": "1.5.0",
            "_model_name": "ProgressStyleModel",
            "_view_count": null,
            "_view_module": "@jupyter-widgets/base",
            "_view_module_version": "1.2.0",
            "_view_name": "StyleView",
            "bar_color": null,
            "description_width": ""
          }
        },
        "091bd50c80124bf5be0938a58bef6ce7": {
          "model_module": "@jupyter-widgets/base",
          "model_name": "LayoutModel",
          "model_module_version": "1.2.0",
          "state": {
            "_model_module": "@jupyter-widgets/base",
            "_model_module_version": "1.2.0",
            "_model_name": "LayoutModel",
            "_view_count": null,
            "_view_module": "@jupyter-widgets/base",
            "_view_module_version": "1.2.0",
            "_view_name": "LayoutView",
            "align_content": null,
            "align_items": null,
            "align_self": null,
            "border": null,
            "bottom": null,
            "display": null,
            "flex": null,
            "flex_flow": null,
            "grid_area": null,
            "grid_auto_columns": null,
            "grid_auto_flow": null,
            "grid_auto_rows": null,
            "grid_column": null,
            "grid_gap": null,
            "grid_row": null,
            "grid_template_areas": null,
            "grid_template_columns": null,
            "grid_template_rows": null,
            "height": null,
            "justify_content": null,
            "justify_items": null,
            "left": null,
            "margin": null,
            "max_height": null,
            "max_width": null,
            "min_height": null,
            "min_width": null,
            "object_fit": null,
            "object_position": null,
            "order": null,
            "overflow": null,
            "overflow_x": null,
            "overflow_y": null,
            "padding": null,
            "right": null,
            "top": null,
            "visibility": null,
            "width": null
          }
        },
        "e35ecdcdfbe649e29a255924ff7c9ac2": {
          "model_module": "@jupyter-widgets/controls",
          "model_name": "DescriptionStyleModel",
          "model_module_version": "1.5.0",
          "state": {
            "_model_module": "@jupyter-widgets/controls",
            "_model_module_version": "1.5.0",
            "_model_name": "DescriptionStyleModel",
            "_view_count": null,
            "_view_module": "@jupyter-widgets/base",
            "_view_module_version": "1.2.0",
            "_view_name": "StyleView",
            "description_width": ""
          }
        }
      }
    }
  },
  "nbformat": 4,
  "nbformat_minor": 0
}